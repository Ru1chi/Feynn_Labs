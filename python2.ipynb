{
  "nbformat": 4,
  "nbformat_minor": 0,
  "metadata": {
    "colab": {
      "provenance": [],
      "authorship_tag": "ABX9TyOLnhwvGpfAiedZpBY5JtpV",
      "include_colab_link": true
    },
    "kernelspec": {
      "name": "python3",
      "display_name": "Python 3"
    },
    "language_info": {
      "name": "python"
    }
  },
  "cells": [
    {
      "cell_type": "markdown",
      "metadata": {
        "id": "view-in-github",
        "colab_type": "text"
      },
      "source": [
        "<a href=\"https://colab.research.google.com/github/Ru1chi/Feynn_Labs/blob/main/python2.ipynb\" target=\"_parent\"><img src=\"https://colab.research.google.com/assets/colab-badge.svg\" alt=\"Open In Colab\"/></a>"
      ]
    },
    {
      "cell_type": "code",
      "execution_count": null,
      "metadata": {
        "id": "PFzH2I67lZla"
      },
      "outputs": [],
      "source": [
        "#slicing\n",
        "c=\"Hello World\"\n"
      ]
    },
    {
      "cell_type": "code",
      "source": [
        "print(c[0:4])"
      ],
      "metadata": {
        "colab": {
          "base_uri": "https://localhost:8080/"
        },
        "id": "GBm3jM-ZleCE",
        "outputId": "5073b6e1-aa80-4d10-da35-928f50af88f5"
      },
      "execution_count": null,
      "outputs": [
        {
          "output_type": "stream",
          "name": "stdout",
          "text": [
            "Hell\n"
          ]
        }
      ]
    },
    {
      "cell_type": "code",
      "source": [
        "print(c[2:])"
      ],
      "metadata": {
        "colab": {
          "base_uri": "https://localhost:8080/"
        },
        "id": "snEaSnXDloe_",
        "outputId": "0b80c87b-1528-48fe-c44e-736b695ef067"
      },
      "execution_count": null,
      "outputs": [
        {
          "output_type": "stream",
          "name": "stdout",
          "text": [
            "llo World\n"
          ]
        }
      ]
    },
    {
      "cell_type": "code",
      "source": [
        "print(c[:4])"
      ],
      "metadata": {
        "colab": {
          "base_uri": "https://localhost:8080/"
        },
        "id": "IeUv0-S8lufK",
        "outputId": "dade07bc-876c-410f-fe9e-8da20c34306b"
      },
      "execution_count": null,
      "outputs": [
        {
          "output_type": "stream",
          "name": "stdout",
          "text": [
            "Hell\n"
          ]
        }
      ]
    },
    {
      "cell_type": "code",
      "source": [
        "print(c[:])"
      ],
      "metadata": {
        "colab": {
          "base_uri": "https://localhost:8080/"
        },
        "id": "a0b7bQVTlzte",
        "outputId": "88e9226d-38bd-4c29-bfe5-c361f395d6c9"
      },
      "execution_count": null,
      "outputs": [
        {
          "output_type": "stream",
          "name": "stdout",
          "text": [
            "Hello World\n"
          ]
        }
      ]
    },
    {
      "cell_type": "code",
      "source": [
        "print(c[2:5:2])#last 2 is the step size"
      ],
      "metadata": {
        "colab": {
          "base_uri": "https://localhost:8080/"
        },
        "id": "N9MdvWO3l4CJ",
        "outputId": "da65d285-7705-4384-8336-5d0740804086"
      },
      "execution_count": null,
      "outputs": [
        {
          "output_type": "stream",
          "name": "stdout",
          "text": [
            "lo\n"
          ]
        }
      ]
    },
    {
      "cell_type": "code",
      "source": [
        "print(c[::-1])#reverse of string\n"
      ],
      "metadata": {
        "colab": {
          "base_uri": "https://localhost:8080/"
        },
        "id": "HYs_Uc8-l92X",
        "outputId": "e39d1499-6e59-4346-d7e7-2831070822a3"
      },
      "execution_count": null,
      "outputs": [
        {
          "output_type": "stream",
          "name": "stdout",
          "text": [
            "dlroW olleH\n"
          ]
        }
      ]
    },
    {
      "cell_type": "markdown",
      "source": [
        "### **Edit and delete strings**"
      ],
      "metadata": {
        "id": "3oWEWNK9qjER"
      }
    },
    {
      "cell_type": "code",
      "source": [
        "c='hello'\n",
        "print(c)"
      ],
      "metadata": {
        "colab": {
          "base_uri": "https://localhost:8080/"
        },
        "id": "y1U8YFtkmTGq",
        "outputId": "355989eb-259f-42b7-ff90-3c563e7a3864"
      },
      "execution_count": null,
      "outputs": [
        {
          "output_type": "stream",
          "name": "stdout",
          "text": [
            "hello\n"
          ]
        }
      ]
    },
    {
      "cell_type": "code",
      "source": [
        "c[0]=\"x\"#cannot edit strings (becoz they are immutable data types)\n"
      ],
      "metadata": {
        "id": "SBhRZu30qq-z"
      },
      "execution_count": null,
      "outputs": []
    },
    {
      "cell_type": "code",
      "source": [
        "del c"
      ],
      "metadata": {
        "id": "Fo0ZEitAq5cS"
      },
      "execution_count": null,
      "outputs": []
    },
    {
      "cell_type": "markdown",
      "source": [
        "operations on strings:\n",
        "\n",
        "arithmatic,relational,logical,loops,membership\n",
        "\n",
        "```\n",
        "# This is formatted as code\n",
        "```\n",
        "\n"
      ],
      "metadata": {
        "id": "8ma5WeSlrktw"
      }
    },
    {
      "cell_type": "code",
      "source": [
        "\"hello\"+\" \" +\"world\""
      ],
      "metadata": {
        "colab": {
          "base_uri": "https://localhost:8080/",
          "height": 35
        },
        "id": "9e7z7tyOrNYy",
        "outputId": "c1eab120-6fbc-48d9-8f4b-433bec976a14"
      },
      "execution_count": null,
      "outputs": [
        {
          "output_type": "execute_result",
          "data": {
            "text/plain": [
              "'hello world'"
            ],
            "application/vnd.google.colaboratory.intrinsic+json": {
              "type": "string"
            }
          },
          "metadata": {},
          "execution_count": 15
        }
      ]
    },
    {
      "cell_type": "code",
      "source": [
        "#logical operators\n",
        "\"\" and \"hello\"#false and true =true"
      ],
      "metadata": {
        "colab": {
          "base_uri": "https://localhost:8080/",
          "height": 35
        },
        "id": "1OCi2ZjVrxne",
        "outputId": "0157bb9f-8680-4c60-9b6b-fb48757aea9b"
      },
      "execution_count": null,
      "outputs": [
        {
          "output_type": "execute_result",
          "data": {
            "text/plain": [
              "''"
            ],
            "application/vnd.google.colaboratory.intrinsic+json": {
              "type": "string"
            }
          },
          "metadata": {},
          "execution_count": 16
        }
      ]
    },
    {
      "cell_type": "code",
      "source": [
        "\"\" or \"world\"#0 or 1=1"
      ],
      "metadata": {
        "colab": {
          "base_uri": "https://localhost:8080/",
          "height": 35
        },
        "id": "0kl6CfPRspxF",
        "outputId": "92aa6f9d-d794-45af-9e15-bca0edb6bb7b"
      },
      "execution_count": null,
      "outputs": [
        {
          "output_type": "execute_result",
          "data": {
            "text/plain": [
              "'world'"
            ],
            "application/vnd.google.colaboratory.intrinsic+json": {
              "type": "string"
            }
          },
          "metadata": {},
          "execution_count": 17
        }
      ]
    },
    {
      "cell_type": "code",
      "source": [
        "#loops\n",
        "c=\"hello world\"\n",
        "for i in c[2:5:2]:\n",
        "    print(i)"
      ],
      "metadata": {
        "colab": {
          "base_uri": "https://localhost:8080/"
        },
        "id": "6EXA19CbsvS4",
        "outputId": "8c04e1b3-c628-47a0-ac06-c4befcb3a175"
      },
      "execution_count": null,
      "outputs": [
        {
          "output_type": "stream",
          "name": "stdout",
          "text": [
            "l\n",
            "o\n"
          ]
        }
      ]
    },
    {
      "cell_type": "code",
      "source": [
        "# membership operator\n",
        "\"h\" in c"
      ],
      "metadata": {
        "colab": {
          "base_uri": "https://localhost:8080/"
        },
        "id": "FSO2xBRbtHeX",
        "outputId": "4d155c7c-f716-44c8-f307-5217f8ca1a4a"
      },
      "execution_count": null,
      "outputs": [
        {
          "output_type": "execute_result",
          "data": {
            "text/plain": [
              "True"
            ]
          },
          "metadata": {},
          "execution_count": 21
        }
      ]
    },
    {
      "cell_type": "markdown",
      "source": [
        "### **common fumction for strings **\n",
        "specific function on string"
      ],
      "metadata": {
        "id": "_m4rXDaQtiOT"
      }
    },
    {
      "cell_type": "code",
      "source": [
        "c=\"surat\"\n",
        "len(c)"
      ],
      "metadata": {
        "colab": {
          "base_uri": "https://localhost:8080/"
        },
        "id": "UlO3S7V6tP-L",
        "outputId": "7f994060-3482-4f37-aed4-9ab3edadf785"
      },
      "execution_count": null,
      "outputs": [
        {
          "output_type": "execute_result",
          "data": {
            "text/plain": [
              "5"
            ]
          },
          "metadata": {},
          "execution_count": 22
        }
      ]
    },
    {
      "cell_type": "code",
      "source": [
        "max(c)"
      ],
      "metadata": {
        "colab": {
          "base_uri": "https://localhost:8080/",
          "height": 35
        },
        "id": "NxGC8xAatutM",
        "outputId": "f3ebb112-41fa-4d30-ac15-55643f24c710"
      },
      "execution_count": null,
      "outputs": [
        {
          "output_type": "execute_result",
          "data": {
            "text/plain": [
              "'u'"
            ],
            "application/vnd.google.colaboratory.intrinsic+json": {
              "type": "string"
            }
          },
          "metadata": {},
          "execution_count": 24
        }
      ]
    },
    {
      "cell_type": "code",
      "source": [
        "min(c)"
      ],
      "metadata": {
        "colab": {
          "base_uri": "https://localhost:8080/",
          "height": 35
        },
        "id": "8qgLTtwJtv6O",
        "outputId": "6350db8c-8298-43d8-f66a-2ff407b85bf4"
      },
      "execution_count": null,
      "outputs": [
        {
          "output_type": "execute_result",
          "data": {
            "text/plain": [
              "'a'"
            ],
            "application/vnd.google.colaboratory.intrinsic+json": {
              "type": "string"
            }
          },
          "metadata": {},
          "execution_count": 25
        }
      ]
    },
    {
      "cell_type": "code",
      "source": [
        "sorted(c)# the output will always be a list"
      ],
      "metadata": {
        "colab": {
          "base_uri": "https://localhost:8080/"
        },
        "id": "w8U8MLrZty6c",
        "outputId": "67b8d397-ea63-474b-f2ec-224557c644f8"
      },
      "execution_count": null,
      "outputs": [
        {
          "output_type": "execute_result",
          "data": {
            "text/plain": [
              "['a', 'r', 's', 't', 'u']"
            ]
          },
          "metadata": {},
          "execution_count": 26
        }
      ]
    },
    {
      "cell_type": "markdown",
      "source": [
        "capitalize,title,upper,lower,swapcase"
      ],
      "metadata": {
        "id": "qXzM4MXTt9dS"
      }
    },
    {
      "cell_type": "code",
      "source": [
        "c.capitalize()"
      ],
      "metadata": {
        "colab": {
          "base_uri": "https://localhost:8080/",
          "height": 35
        },
        "id": "iIEX8lhjt01g",
        "outputId": "5029c50e-0a21-44f8-8ae1-2ea4678552cd"
      },
      "execution_count": null,
      "outputs": [
        {
          "output_type": "execute_result",
          "data": {
            "text/plain": [
              "'Surat'"
            ],
            "application/vnd.google.colaboratory.intrinsic+json": {
              "type": "string"
            }
          },
          "metadata": {},
          "execution_count": 27
        }
      ]
    },
    {
      "cell_type": "code",
      "source": [
        "c.upper()"
      ],
      "metadata": {
        "colab": {
          "base_uri": "https://localhost:8080/",
          "height": 35
        },
        "id": "hjzWBw6ruOZG",
        "outputId": "8cc6cfb6-ef44-469e-c9dc-ff95c48f6acd"
      },
      "execution_count": null,
      "outputs": [
        {
          "output_type": "execute_result",
          "data": {
            "text/plain": [
              "'SURAT'"
            ],
            "application/vnd.google.colaboratory.intrinsic+json": {
              "type": "string"
            }
          },
          "metadata": {},
          "execution_count": 28
        }
      ]
    },
    {
      "cell_type": "code",
      "source": [
        "c.lower()"
      ],
      "metadata": {
        "colab": {
          "base_uri": "https://localhost:8080/",
          "height": 35
        },
        "id": "5mcdk1WcuR5l",
        "outputId": "52cc2d24-adc2-4b88-b635-eaf9ebcc966f"
      },
      "execution_count": null,
      "outputs": [
        {
          "output_type": "execute_result",
          "data": {
            "text/plain": [
              "'surat'"
            ],
            "application/vnd.google.colaboratory.intrinsic+json": {
              "type": "string"
            }
          },
          "metadata": {},
          "execution_count": 29
        }
      ]
    },
    {
      "cell_type": "code",
      "source": [
        "c.title()#all the leeters of first word in sentece is uppercase"
      ],
      "metadata": {
        "colab": {
          "base_uri": "https://localhost:8080/",
          "height": 35
        },
        "id": "gB5qIOBhuTJo",
        "outputId": "7c3e5ad4-3797-4b83-f18a-8f546ab8c900"
      },
      "execution_count": null,
      "outputs": [
        {
          "output_type": "execute_result",
          "data": {
            "text/plain": [
              "'Surat'"
            ],
            "application/vnd.google.colaboratory.intrinsic+json": {
              "type": "string"
            }
          },
          "metadata": {},
          "execution_count": 30
        }
      ]
    },
    {
      "cell_type": "code",
      "source": [
        "c.swapcase()"
      ],
      "metadata": {
        "colab": {
          "base_uri": "https://localhost:8080/",
          "height": 35
        },
        "id": "d5B00Sv7uUvw",
        "outputId": "e30ee15c-ca0d-460c-fcce-2ef7d7a11830"
      },
      "execution_count": null,
      "outputs": [
        {
          "output_type": "execute_result",
          "data": {
            "text/plain": [
              "'SURAT'"
            ],
            "application/vnd.google.colaboratory.intrinsic+json": {
              "type": "string"
            }
          },
          "metadata": {},
          "execution_count": 31
        }
      ]
    },
    {
      "cell_type": "code",
      "source": [
        "#count=count a particular substring\n",
        "\"it is raining\".count(\"rain\")"
      ],
      "metadata": {
        "colab": {
          "base_uri": "https://localhost:8080/"
        },
        "id": "dNOGFR_eui-K",
        "outputId": "1f5e7530-1f50-4349-9a5c-35abf2539d7b"
      },
      "execution_count": null,
      "outputs": [
        {
          "output_type": "execute_result",
          "data": {
            "text/plain": [
              "1"
            ]
          },
          "metadata": {},
          "execution_count": 33
        }
      ]
    },
    {
      "cell_type": "code",
      "source": [
        "#find/index\n",
        "a=\"it is raining\"#give the position if you cannot find the substring it gives -1\n",
        "a.find(\"rain\")"
      ],
      "metadata": {
        "colab": {
          "base_uri": "https://localhost:8080/"
        },
        "id": "0XlHUwhZur_v",
        "outputId": "59984970-7a41-4e8c-c4e1-1cb4623c6220"
      },
      "execution_count": null,
      "outputs": [
        {
          "output_type": "execute_result",
          "data": {
            "text/plain": [
              "6"
            ]
          },
          "metadata": {},
          "execution_count": 34
        }
      ]
    },
    {
      "cell_type": "code",
      "source": [
        "a.index(\"s\")#if you cannot find the substring it gives error"
      ],
      "metadata": {
        "colab": {
          "base_uri": "https://localhost:8080/"
        },
        "id": "6B_JWW3Ku9RV",
        "outputId": "76cb4cca-27e9-43a3-c1d2-30a7c826dab4"
      },
      "execution_count": null,
      "outputs": [
        {
          "output_type": "execute_result",
          "data": {
            "text/plain": [
              "4"
            ]
          },
          "metadata": {},
          "execution_count": 36
        }
      ]
    },
    {
      "cell_type": "code",
      "source": [
        "#endswith/startwith\n",
        "a.endswith(\"ing\")"
      ],
      "metadata": {
        "colab": {
          "base_uri": "https://localhost:8080/"
        },
        "id": "jAJQxTfLvIb3",
        "outputId": "f13b4d11-3561-4dbf-8dca-07a406963e10"
      },
      "execution_count": null,
      "outputs": [
        {
          "output_type": "execute_result",
          "data": {
            "text/plain": [
              "True"
            ]
          },
          "metadata": {},
          "execution_count": 37
        }
      ]
    },
    {
      "cell_type": "code",
      "source": [
        "a.startswith(\"t\")"
      ],
      "metadata": {
        "colab": {
          "base_uri": "https://localhost:8080/"
        },
        "id": "C0Mawu5Tvb5c",
        "outputId": "b8ee8185-a2bf-4792-ee18-aecb7d5bddae"
      },
      "execution_count": null,
      "outputs": [
        {
          "output_type": "execute_result",
          "data": {
            "text/plain": [
              "False"
            ]
          },
          "metadata": {},
          "execution_count": 39
        }
      ]
    },
    {
      "cell_type": "code",
      "source": [
        "#format-this is very useful\n",
        "\"hello my name is {} and i am {}\".format(\"Ruchi\",21)"
      ],
      "metadata": {
        "colab": {
          "base_uri": "https://localhost:8080/",
          "height": 35
        },
        "id": "1Ygz8eV_vfjG",
        "outputId": "86c2fe5c-3392-48c6-9ffe-f3b53ec53f03"
      },
      "execution_count": null,
      "outputs": [
        {
          "output_type": "execute_result",
          "data": {
            "text/plain": [
              "'hello my name is Ruchi and i am 21'"
            ],
            "application/vnd.google.colaboratory.intrinsic+json": {
              "type": "string"
            }
          },
          "metadata": {},
          "execution_count": 40
        }
      ]
    },
    {
      "cell_type": "code",
      "source": [
        "\"hello my name is {1} and i am {0}\".format(\"Ruchi\",21)#indexing"
      ],
      "metadata": {
        "colab": {
          "base_uri": "https://localhost:8080/",
          "height": 35
        },
        "id": "VV-Y9s8Gvtw6",
        "outputId": "d38492c3-ef99-4869-df0d-ef274c060899"
      },
      "execution_count": null,
      "outputs": [
        {
          "output_type": "execute_result",
          "data": {
            "text/plain": [
              "'hello my name is 21 and i am Ruchi'"
            ],
            "application/vnd.google.colaboratory.intrinsic+json": {
              "type": "string"
            }
          },
          "metadata": {},
          "execution_count": 41
        }
      ]
    },
    {
      "cell_type": "code",
      "source": [
        "#isanum,isalpha,isdecimal,isdigit,isidentifier(mostly used for validation)\n",
        "\"flat0#\".isalnum()"
      ],
      "metadata": {
        "colab": {
          "base_uri": "https://localhost:8080/"
        },
        "id": "DPXBg5syv4df",
        "outputId": "23ed4c20-d866-4ce5-a397-f048c1f7752a"
      },
      "execution_count": null,
      "outputs": [
        {
          "output_type": "execute_result",
          "data": {
            "text/plain": [
              "False"
            ]
          },
          "metadata": {},
          "execution_count": 43
        }
      ]
    },
    {
      "cell_type": "code",
      "source": [
        "#split function\n",
        "\"who is the prime minister of India.\".split()#puts all the words in a list\n"
      ],
      "metadata": {
        "colab": {
          "base_uri": "https://localhost:8080/"
        },
        "id": "mK9nsv2wwfP8",
        "outputId": "e7278d96-3c21-49cc-cf8b-fff422b050a5"
      },
      "execution_count": null,
      "outputs": [
        {
          "output_type": "execute_result",
          "data": {
            "text/plain": [
              "['who', 'is', 'the', 'prime', 'minister', 'of', 'India.']"
            ]
          },
          "metadata": {},
          "execution_count": 44
        }
      ]
    },
    {
      "cell_type": "code",
      "source": [
        "\"who is the prime minister of India.\".split(\"the\")\n"
      ],
      "metadata": {
        "colab": {
          "base_uri": "https://localhost:8080/"
        },
        "id": "G_a1Ema5x3zo",
        "outputId": "1bbe9ec4-0ae1-47e5-d580-bda6f52b91de"
      },
      "execution_count": null,
      "outputs": [
        {
          "output_type": "execute_result",
          "data": {
            "text/plain": [
              "['who is ', ' prime minister of India.']"
            ]
          },
          "metadata": {},
          "execution_count": 45
        }
      ]
    },
    {
      "cell_type": "code",
      "source": [
        "#join function\n",
        "\" \".join(['who', 'is', 'the', 'prime', 'minister', 'of', 'India.'])\n"
      ],
      "metadata": {
        "colab": {
          "base_uri": "https://localhost:8080/",
          "height": 35
        },
        "id": "GNV7QnRkyFs3",
        "outputId": "4619254c-dd3b-4e57-e2ce-d7c98617d8b5"
      },
      "execution_count": null,
      "outputs": [
        {
          "output_type": "execute_result",
          "data": {
            "text/plain": [
              "'who is the prime minister of India.'"
            ],
            "application/vnd.google.colaboratory.intrinsic+json": {
              "type": "string"
            }
          },
          "metadata": {},
          "execution_count": 46
        }
      ]
    },
    {
      "cell_type": "code",
      "source": [
        "#replace\n",
        "\"who is the prime minister of India.\".replace(\"India\",\"USA\")\n"
      ],
      "metadata": {
        "colab": {
          "base_uri": "https://localhost:8080/",
          "height": 35
        },
        "id": "6kddJempyXd8",
        "outputId": "dbd1864b-3545-4118-ac72-604f3726d093"
      },
      "execution_count": null,
      "outputs": [
        {
          "output_type": "execute_result",
          "data": {
            "text/plain": [
              "'who is the prime minister of USA.'"
            ],
            "application/vnd.google.colaboratory.intrinsic+json": {
              "type": "string"
            }
          },
          "metadata": {},
          "execution_count": 47
        }
      ]
    },
    {
      "cell_type": "code",
      "source": [
        "#strip\n",
        "name=\"                  Ruchi      \"\n",
        "name.strip()\n"
      ],
      "metadata": {
        "colab": {
          "base_uri": "https://localhost:8080/",
          "height": 35
        },
        "id": "W7HMaQ_L4C8E",
        "outputId": "57b281f8-dfdc-4a23-cb34-46c7a5c476ae"
      },
      "execution_count": null,
      "outputs": [
        {
          "output_type": "execute_result",
          "data": {
            "text/plain": [
              "'Ruchi'"
            ],
            "application/vnd.google.colaboratory.intrinsic+json": {
              "type": "string"
            }
          },
          "metadata": {},
          "execution_count": 48
        }
      ]
    },
    {
      "cell_type": "markdown",
      "source": [
        "### **list**"
      ],
      "metadata": {
        "id": "5EJPINfv4x3O"
      }
    },
    {
      "cell_type": "code",
      "source": [
        "#first runner up\n",
        "name=int(input())\n",
        "score=list(map(int,input().split()))\n",
        "\n"
      ],
      "metadata": {
        "colab": {
          "base_uri": "https://localhost:8080/"
        },
        "id": "9GeonwA14jo6",
        "outputId": "07316d99-f282-41fb-8af2-711b6257f79f"
      },
      "execution_count": null,
      "outputs": [
        {
          "output_type": "stream",
          "name": "stdout",
          "text": [
            "3\n",
            "34\n",
            "[34]\n"
          ]
        }
      ]
    },
    {
      "cell_type": "code",
      "source": [
        "#array is homogenouus(all data types should be same) list is not\n",
        "#array me co\n",
        "#array is faster\n",
        "#list are more programmer friendly\n",
        "\n",
        "\n"
      ],
      "metadata": {
        "id": "4RGd38435PUj"
      },
      "execution_count": null,
      "outputs": []
    },
    {
      "cell_type": "code",
      "source": [
        "#create empty list\n",
        "l=[]\n",
        "l=[1,2,3,4,5]\n",
        "l=['hello',1,2,4.8]"
      ],
      "metadata": {
        "id": "gSiUcRswaIiz"
      },
      "execution_count": null,
      "outputs": []
    },
    {
      "cell_type": "code",
      "source": [
        "#multi dim list\n",
        "l2=[1,2,3,4,1]\n",
        "l3=[[1,2],[[3,4],[5,6]]]"
      ],
      "metadata": {
        "id": "7kKv0aBAaUpZ"
      },
      "execution_count": null,
      "outputs": []
    },
    {
      "cell_type": "code",
      "source": [
        "l3"
      ],
      "metadata": {
        "colab": {
          "base_uri": "https://localhost:8080/"
        },
        "id": "Vh2UFYWKaqaN",
        "outputId": "7305e8af-4aef-41ed-8b8d-42a93be084e0"
      },
      "execution_count": null,
      "outputs": [
        {
          "output_type": "execute_result",
          "data": {
            "text/plain": [
              "[[1, 2], [[3, 4], [5, 6]]]"
            ]
          },
          "metadata": {},
          "execution_count": 6
        }
      ]
    },
    {
      "cell_type": "code",
      "source": [
        "#access\n",
        "#access 5\n",
        "outer=2\n",
        "inner=2\n",
        "l3[1][1][0]"
      ],
      "metadata": {
        "colab": {
          "base_uri": "https://localhost:8080/"
        },
        "id": "HRCAwNaHar1I",
        "outputId": "28010cee-5001-4e0c-cc41-2697a42b503a"
      },
      "execution_count": null,
      "outputs": [
        {
          "output_type": "execute_result",
          "data": {
            "text/plain": [
              "5"
            ]
          },
          "metadata": {},
          "execution_count": 7
        }
      ]
    },
    {
      "cell_type": "code",
      "source": [
        "#edit items\n",
        "l"
      ],
      "metadata": {
        "colab": {
          "base_uri": "https://localhost:8080/"
        },
        "id": "tYvc18DncINS",
        "outputId": "1add9a5f-6969-43f6-b03f-9410265049bb"
      },
      "execution_count": null,
      "outputs": [
        {
          "output_type": "execute_result",
          "data": {
            "text/plain": [
              "['hello', 1, 2, 4.8]"
            ]
          },
          "metadata": {},
          "execution_count": 8
        }
      ]
    },
    {
      "cell_type": "code",
      "source": [
        "l[0]=100#this method does not work in string and list are mutable"
      ],
      "metadata": {
        "id": "QxK2g-RjcZP2"
      },
      "execution_count": null,
      "outputs": []
    },
    {
      "cell_type": "code",
      "source": [
        "l\n"
      ],
      "metadata": {
        "colab": {
          "base_uri": "https://localhost:8080/"
        },
        "id": "H01jimMQccE6",
        "outputId": "e8f82b1c-c800-419a-af50-6bcba55e3f1f"
      },
      "execution_count": null,
      "outputs": [
        {
          "output_type": "execute_result",
          "data": {
            "text/plain": [
              "[100, 1, 2, 4.8]"
            ]
          },
          "metadata": {},
          "execution_count": 10
        }
      ]
    },
    {
      "cell_type": "code",
      "source": [
        "#add,append,extend,insert\n",
        "l.append(1000)#add at the last\n",
        "print(l)"
      ],
      "metadata": {
        "colab": {
          "base_uri": "https://localhost:8080/"
        },
        "id": "o6DCiyqXcdoU",
        "outputId": "4e24697b-7cc7-4d62-b038-2ef6950cb29e"
      },
      "execution_count": null,
      "outputs": [
        {
          "output_type": "stream",
          "name": "stdout",
          "text": [
            "[100, 1, 2, 4.8, 1000, 1000]\n"
          ]
        }
      ]
    },
    {
      "cell_type": "code",
      "source": [
        "l.extend([3000,586,456])#tries to add multiple items\n",
        "print(l)"
      ],
      "metadata": {
        "colab": {
          "base_uri": "https://localhost:8080/"
        },
        "id": "M5aC1xUyc-Ku",
        "outputId": "6f5bd69d-636e-43e2-f16e-b7b83a47e546"
      },
      "execution_count": null,
      "outputs": [
        {
          "output_type": "stream",
          "name": "stdout",
          "text": [
            "[100, 1, 2, 4.8, 1000, 1000, 3000, 586, 456, 3000, 586, 456]\n"
          ]
        }
      ]
    },
    {
      "cell_type": "code",
      "source": [
        "l.append([5,6])\n",
        "print(l)\n"
      ],
      "metadata": {
        "colab": {
          "base_uri": "https://localhost:8080/"
        },
        "id": "IO6nhvBBdJaI",
        "outputId": "3fc289ca-695a-4708-ae3b-e7a83d351921"
      },
      "execution_count": null,
      "outputs": [
        {
          "output_type": "stream",
          "name": "stdout",
          "text": [
            "[100, 1, 2, 4.8, 1000, 1000, 3000, 586, 456, 3000, 586, 456, [5, 6], [5, 6]]\n"
          ]
        }
      ]
    },
    {
      "cell_type": "code",
      "source": [
        "l.extend('goa')\n",
        "print(l)"
      ],
      "metadata": {
        "colab": {
          "base_uri": "https://localhost:8080/"
        },
        "id": "mfbtT3jIdYiu",
        "outputId": "491716e8-22a3-4b46-8696-820bfccc754a"
      },
      "execution_count": null,
      "outputs": [
        {
          "output_type": "stream",
          "name": "stdout",
          "text": [
            "[100, 1, 2, 4.8, 1000, 1000, 3000, 586, 456, 3000, 586, 456, [5, 6], [5, 6], 'g', 'o', 'a']\n"
          ]
        }
      ]
    },
    {
      "cell_type": "code",
      "source": [
        "l.insert(1,\"world\")#adds the term at index 1\n",
        "print(l)"
      ],
      "metadata": {
        "colab": {
          "base_uri": "https://localhost:8080/"
        },
        "id": "fZxT1rdYdfpl",
        "outputId": "3637c5e6-762a-4455-9f5c-b28ba1774e8a"
      },
      "execution_count": null,
      "outputs": [
        {
          "output_type": "stream",
          "name": "stdout",
          "text": [
            "[100, 'world', 'world', 1, 2, 4.8, 1000, 1000, 3000, 586, 456, 3000, 586, 456, [5, 6], [5, 6], 'g', 'o', 'a']\n"
          ]
        }
      ]
    },
    {
      "cell_type": "code",
      "source": [
        "#delete,remove,del,pop,clear\n",
        "l.remove(3000)\n",
        "print(l)"
      ],
      "metadata": {
        "colab": {
          "base_uri": "https://localhost:8080/"
        },
        "id": "6UbjDOqrduOm",
        "outputId": "06d0ecce-c314-4746-d92a-4c7ae65740d7"
      },
      "execution_count": null,
      "outputs": [
        {
          "output_type": "stream",
          "name": "stdout",
          "text": [
            "[100, 'world', 'world', 1, 2, 4.8, 1000, 586, 456, 3000, 586, 456, [5, 6], [5, 6], 'g', 'o', 'a']\n"
          ]
        }
      ]
    },
    {
      "cell_type": "code",
      "source": [
        "del l[1]\n",
        "print(l)"
      ],
      "metadata": {
        "colab": {
          "base_uri": "https://localhost:8080/"
        },
        "id": "f2ETDZ7Ed6g5",
        "outputId": "0e9ad140-032c-4391-fce1-76d950633ab9"
      },
      "execution_count": null,
      "outputs": [
        {
          "output_type": "stream",
          "name": "stdout",
          "text": [
            "[100, 1, 2, 4.8, 1000, 586, 456, 3000, 586, 456, [5, 6], [5, 6], 'g', 'o', 'a']\n"
          ]
        }
      ]
    },
    {
      "cell_type": "code",
      "source": [
        "del l[-3:]\n",
        "print(l)"
      ],
      "metadata": {
        "colab": {
          "base_uri": "https://localhost:8080/"
        },
        "id": "Coa24-ZxeCgR",
        "outputId": "83d17a1c-bead-474b-a8cf-99165d979d82"
      },
      "execution_count": null,
      "outputs": [
        {
          "output_type": "stream",
          "name": "stdout",
          "text": [
            "[100, 1, 2, 4.8, 1000, 586, 456, 3000, 586, 456, [5, 6], [5, 6]]\n"
          ]
        }
      ]
    },
    {
      "cell_type": "code",
      "source": [
        "l.pop()#deletes the last term"
      ],
      "metadata": {
        "colab": {
          "base_uri": "https://localhost:8080/"
        },
        "id": "jRIMwzSueQ5i",
        "outputId": "07689afc-b208-4d86-91ac-33736f8d9bdb"
      },
      "execution_count": null,
      "outputs": [
        {
          "output_type": "execute_result",
          "data": {
            "text/plain": [
              "[5, 6]"
            ]
          },
          "metadata": {},
          "execution_count": 26
        }
      ]
    },
    {
      "cell_type": "code",
      "source": [
        "l.clear()#empties thw wholw list"
      ],
      "metadata": {
        "id": "XmRsqt3zee6U"
      },
      "execution_count": null,
      "outputs": []
    },
    {
      "cell_type": "code",
      "source": [
        "l=[1,2,3,]"
      ],
      "metadata": {
        "id": "yOsn2UJlelJ0"
      },
      "execution_count": null,
      "outputs": []
    },
    {
      "cell_type": "code",
      "source": [
        "l2=[5,6,7,8,[4,5]]"
      ],
      "metadata": {
        "id": "QaoIY7G3erpF"
      },
      "execution_count": null,
      "outputs": []
    },
    {
      "cell_type": "code",
      "source": [
        "\n",
        "l3=l+l2"
      ],
      "metadata": {
        "id": "fl7IuEJtexJO"
      },
      "execution_count": null,
      "outputs": []
    },
    {
      "cell_type": "code",
      "source": [
        "for i in l3:\n",
        "    print(i)"
      ],
      "metadata": {
        "colab": {
          "base_uri": "https://localhost:8080/"
        },
        "id": "zpophoWFe0YT",
        "outputId": "0d68a2ee-ed55-4c54-8bbb-b7656777cd5e"
      },
      "execution_count": null,
      "outputs": [
        {
          "output_type": "stream",
          "name": "stdout",
          "text": [
            "1\n",
            "2\n",
            "3\n",
            "5\n",
            "6\n",
            "7\n",
            "8\n",
            "[4, 5]\n"
          ]
        }
      ]
    },
    {
      "cell_type": "code",
      "source": [
        "#membership operator\n",
        "4 in l3"
      ],
      "metadata": {
        "colab": {
          "base_uri": "https://localhost:8080/"
        },
        "id": "0f34suYIe-5e",
        "outputId": "788ab0e4-1f4e-4830-d829-b49b8649133f"
      },
      "execution_count": null,
      "outputs": [
        {
          "output_type": "execute_result",
          "data": {
            "text/plain": [
              "False"
            ]
          },
          "metadata": {},
          "execution_count": 45
        }
      ]
    },
    {
      "cell_type": "code",
      "source": [
        "#functions\n",
        "len(l3)"
      ],
      "metadata": {
        "colab": {
          "base_uri": "https://localhost:8080/"
        },
        "id": "dqFsgv5AfZZS",
        "outputId": "19868b0e-7bae-4c6a-9bec-7f0db71055a9"
      },
      "execution_count": null,
      "outputs": [
        {
          "output_type": "execute_result",
          "data": {
            "text/plain": [
              "8"
            ]
          },
          "metadata": {},
          "execution_count": 46
        }
      ]
    },
    {
      "cell_type": "code",
      "source": [
        "min(l)"
      ],
      "metadata": {
        "colab": {
          "base_uri": "https://localhost:8080/"
        },
        "id": "ViigA-OAffdQ",
        "outputId": "383a4816-b918-4ef5-a54e-fbf7e8c91335"
      },
      "execution_count": null,
      "outputs": [
        {
          "output_type": "execute_result",
          "data": {
            "text/plain": [
              "1"
            ]
          },
          "metadata": {},
          "execution_count": 53
        }
      ]
    },
    {
      "cell_type": "code",
      "source": [
        "max(l)"
      ],
      "metadata": {
        "colab": {
          "base_uri": "https://localhost:8080/"
        },
        "id": "w9xkEi9tfgY7",
        "outputId": "1f273877-baf8-46c3-d289-11ea5f2926ae"
      },
      "execution_count": null,
      "outputs": [
        {
          "output_type": "execute_result",
          "data": {
            "text/plain": [
              "3"
            ]
          },
          "metadata": {},
          "execution_count": 54
        }
      ]
    },
    {
      "cell_type": "code",
      "source": [
        "sorted(l,reverse=True)#is not a permanent operation ,it create a new list"
      ],
      "metadata": {
        "colab": {
          "base_uri": "https://localhost:8080/"
        },
        "id": "Qls1WG9wfhcq",
        "outputId": "d7a16524-a92d-40c5-d174-f4f4ec54167d"
      },
      "execution_count": null,
      "outputs": [
        {
          "output_type": "execute_result",
          "data": {
            "text/plain": [
              "[3, 2, 1]"
            ]
          },
          "metadata": {},
          "execution_count": 55
        }
      ]
    },
    {
      "cell_type": "code",
      "source": [
        "l.sort()#is permanent operation"
      ],
      "metadata": {
        "id": "bmtrDFZFf0gl"
      },
      "execution_count": null,
      "outputs": []
    },
    {
      "cell_type": "code",
      "source": [
        "l.index(2)"
      ],
      "metadata": {
        "colab": {
          "base_uri": "https://localhost:8080/"
        },
        "id": "lEJCLMb5f7A8",
        "outputId": "559a4b2f-066b-44f0-cf2d-4b5f9e50b7dd"
      },
      "execution_count": null,
      "outputs": [
        {
          "output_type": "execute_result",
          "data": {
            "text/plain": [
              "1"
            ]
          },
          "metadata": {},
          "execution_count": 60
        }
      ]
    },
    {
      "cell_type": "code",
      "source": [
        "s=\"hello how are you\"\n",
        "l=[]\n",
        "for i in s.split():#string becomes list when we split\n",
        "    cap=i.capitalize()\n",
        "    l.append(cap)\n",
        "\n",
        "print(\" \".join(l))\n",
        "\n",
        "\n"
      ],
      "metadata": {
        "colab": {
          "base_uri": "https://localhost:8080/"
        },
        "id": "G5dZvSdMgHCM",
        "outputId": "556f3925-1514-46b2-e031-1aed64b2331f"
      },
      "execution_count": null,
      "outputs": [
        {
          "output_type": "stream",
          "name": "stdout",
          "text": [
            "Hello How Are You\n"
          ]
        }
      ]
    },
    {
      "cell_type": "code",
      "source": [
        "s=str(input())\n",
        "val=s.split(\"@\")[0]\n",
        "print(val)\n"
      ],
      "metadata": {
        "colab": {
          "base_uri": "https://localhost:8080/"
        },
        "id": "3bMeYYCziApa",
        "outputId": "3fd514de-a0ef-40cd-bbd5-532ce37caf91"
      },
      "execution_count": null,
      "outputs": [
        {
          "output_type": "stream",
          "name": "stdout",
          "text": [
            "ruchi@gmail.com\n",
            "ruchi\n"
          ]
        }
      ]
    },
    {
      "cell_type": "code",
      "source": [
        "l=[1,1,4,2,3,3,4,4]\n",
        "[1,2,3,4]\n",
        "sorted(set(l))#sorted is used for ascending order and set removes the duplicates"
      ],
      "metadata": {
        "colab": {
          "base_uri": "https://localhost:8080/"
        },
        "id": "7suFrUe2jGcf",
        "outputId": "c8a5c329-6fd6-4677-9007-b13611829ba2"
      },
      "execution_count": null,
      "outputs": [
        {
          "output_type": "execute_result",
          "data": {
            "text/plain": [
              "[1, 2, 3, 4]"
            ]
          },
          "metadata": {},
          "execution_count": 7
        }
      ]
    },
    {
      "cell_type": "code",
      "source": [
        "l1=[1,1,2,2,3,3,4,4]\n",
        "l=[]\n",
        "for i in l1:\n",
        "    if i not in l:\n",
        "        l.append(i)\n",
        "print(l)"
      ],
      "metadata": {
        "colab": {
          "base_uri": "https://localhost:8080/"
        },
        "id": "fLDRnc-0jyVY",
        "outputId": "7f81cf4a-20af-4405-96c3-3c61edf87122"
      },
      "execution_count": null,
      "outputs": [
        {
          "output_type": "stream",
          "name": "stdout",
          "text": [
            "[1, 2, 3, 4]\n"
          ]
        }
      ]
    },
    {
      "cell_type": "markdown",
      "source": [
        "### **tuples**"
      ],
      "metadata": {
        "id": "sGvs5ks8ktiT"
      }
    },
    {
      "cell_type": "code",
      "source": [
        "#create ,access,edit,delete,add,operations,functions\n",
        "t1=(1,2,3,4,5)"
      ],
      "metadata": {
        "id": "S7MqFNW0kg70"
      },
      "execution_count": null,
      "outputs": []
    },
    {
      "cell_type": "code",
      "source": [
        "#access\n",
        "t1[3:6]"
      ],
      "metadata": {
        "colab": {
          "base_uri": "https://localhost:8080/"
        },
        "id": "WgQZ0Ubok-IH",
        "outputId": "e5650a99-c901-4458-9556-7cabe907be02"
      },
      "execution_count": null,
      "outputs": [
        {
          "output_type": "execute_result",
          "data": {
            "text/plain": [
              "(4, 5)"
            ]
          },
          "metadata": {},
          "execution_count": 90
        }
      ]
    },
    {
      "cell_type": "code",
      "source": [
        "#edit#tuple juast like strings ARE immutable\n",
        "t1[0]=100\n"
      ],
      "metadata": {
        "id": "WXuu-gnZmITT"
      },
      "execution_count": null,
      "outputs": []
    },
    {
      "cell_type": "code",
      "source": [
        "#add\n",
        "#we cannot add new items in tuples\n",
        "#deleting\n",
        "del(t1)"
      ],
      "metadata": {
        "id": "7zJciw2BmgaP"
      },
      "execution_count": null,
      "outputs": []
    },
    {
      "cell_type": "code",
      "source": [
        "t=(1,2,3)\n",
        "print(t)\n",
        "t=t+(4,5)\n",
        "print(t)"
      ],
      "metadata": {
        "colab": {
          "base_uri": "https://localhost:8080/"
        },
        "id": "dY2C4AMNjxIq",
        "outputId": "3896ce12-012b-4d6d-aac2-689de6e00b56"
      },
      "execution_count": null,
      "outputs": [
        {
          "output_type": "stream",
          "name": "stdout",
          "text": [
            "(1, 2, 3)\n",
            "(1, 2, 3, 4, 5)\n"
          ]
        }
      ]
    },
    {
      "cell_type": "code",
      "source": [
        "#operations\n",
        "#same as list\n"
      ],
      "metadata": {
        "id": "9dPFhAmfmtSQ"
      },
      "execution_count": null,
      "outputs": []
    },
    {
      "cell_type": "code",
      "source": [
        "#functions#we do not use range word in tuple\n",
        "t=(1,2,3,4)\n",
        "for i in  t:\n",
        "    print(i)"
      ],
      "metadata": {
        "id": "viW-bObPnWba",
        "colab": {
          "base_uri": "https://localhost:8080/"
        },
        "outputId": "e43b4318-32c3-4c79-b856-ac2206c25cad"
      },
      "execution_count": null,
      "outputs": [
        {
          "output_type": "stream",
          "name": "stdout",
          "text": [
            "1\n",
            "2\n",
            "3\n",
            "4\n"
          ]
        }
      ]
    },
    {
      "cell_type": "code",
      "source": [
        "#min,max,sum,sorted(makes the tuple into lis),ascending,\n",
        "#tuples are read only data type\n"
      ],
      "metadata": {
        "id": "qlmFkhp2Gj-n"
      },
      "execution_count": null,
      "outputs": []
    },
    {
      "cell_type": "markdown",
      "source": [
        "## **Sets**"
      ],
      "metadata": {
        "id": "dro5dn0xHlgv"
      }
    },
    {
      "cell_type": "code",
      "source": [
        "4 rules about set\n",
        "do not allow duplicates\n",
        "do not support indexing\n",
        "cannot store mutable data types\n",
        "set itself is mutable data type\n"
      ],
      "metadata": {
        "id": "f9asiEzVHoyp"
      },
      "execution_count": null,
      "outputs": []
    },
    {
      "cell_type": "code",
      "source": [
        "s=set()"
      ],
      "metadata": {
        "id": "oLF6dRnVII0G"
      },
      "execution_count": null,
      "outputs": []
    },
    {
      "cell_type": "code",
      "source": [
        "type(s)"
      ],
      "metadata": {
        "colab": {
          "base_uri": "https://localhost:8080/"
        },
        "id": "OCyxq9fmILcv",
        "outputId": "04f5ec1c-a4fe-414f-fb4a-ed25f8a7a751"
      },
      "execution_count": null,
      "outputs": [
        {
          "output_type": "execute_result",
          "data": {
            "text/plain": [
              "set"
            ]
          },
          "metadata": {},
          "execution_count": 5
        }
      ]
    },
    {
      "cell_type": "code",
      "source": [
        "s={1,2,3,4,5}"
      ],
      "metadata": {
        "id": "19a6qBKkIRnY"
      },
      "execution_count": null,
      "outputs": []
    },
    {
      "cell_type": "code",
      "source": [
        "s1={1,2,True,4.5}"
      ],
      "metadata": {
        "id": "DYz9Ee0bIU5h"
      },
      "execution_count": null,
      "outputs": []
    },
    {
      "cell_type": "code",
      "source": [
        "s2={1,1,2,2,}\n",
        "print(s2)"
      ],
      "metadata": {
        "colab": {
          "base_uri": "https://localhost:8080/"
        },
        "id": "pDXcwSYTIZBL",
        "outputId": "bc7ca6e3-070f-467e-ac3d-cbcc6be6448d"
      },
      "execution_count": null,
      "outputs": [
        {
          "output_type": "stream",
          "name": "stdout",
          "text": [
            "{1, 2}\n"
          ]
        }
      ]
    },
    {
      "cell_type": "code",
      "source": [
        "#list in sets =cannot be done\n",
        "s3={[1,2,3],\"hello\"}"
      ],
      "metadata": {
        "colab": {
          "base_uri": "https://localhost:8080/",
          "height": 159
        },
        "id": "KsDk0aUEIqfj",
        "outputId": "e8877dcb-c49e-41b6-8a58-0409529d8e7b"
      },
      "execution_count": null,
      "outputs": [
        {
          "output_type": "error",
          "ename": "TypeError",
          "evalue": "unhashable type: 'list'",
          "traceback": [
            "\u001b[0;31m---------------------------------------------------------------------------\u001b[0m",
            "\u001b[0;31mTypeError\u001b[0m                                 Traceback (most recent call last)",
            "\u001b[0;32m<ipython-input-9-b6c96b1942ab>\u001b[0m in \u001b[0;36m<cell line: 2>\u001b[0;34m()\u001b[0m\n\u001b[1;32m      1\u001b[0m \u001b[0;31m#list in tuple =cannot be done\u001b[0m\u001b[0;34m\u001b[0m\u001b[0;34m\u001b[0m\u001b[0m\n\u001b[0;32m----> 2\u001b[0;31m \u001b[0ms3\u001b[0m\u001b[0;34m=\u001b[0m\u001b[0;34m{\u001b[0m\u001b[0;34m[\u001b[0m\u001b[0;36m1\u001b[0m\u001b[0;34m,\u001b[0m\u001b[0;36m2\u001b[0m\u001b[0;34m,\u001b[0m\u001b[0;36m3\u001b[0m\u001b[0;34m]\u001b[0m\u001b[0;34m,\u001b[0m\u001b[0;34m\"hello\"\u001b[0m\u001b[0;34m}\u001b[0m\u001b[0;34m\u001b[0m\u001b[0;34m\u001b[0m\u001b[0m\n\u001b[0m",
            "\u001b[0;31mTypeError\u001b[0m: unhashable type: 'list'"
          ]
        }
      ]
    },
    {
      "cell_type": "code",
      "source": [
        "#tuple in set can be done\n",
        "s4={(1,2,3),\"hello\"}#hello is printed first becoz set have no indexing ,it uses hashing\n",
        "print(s4)"
      ],
      "metadata": {
        "colab": {
          "base_uri": "https://localhost:8080/"
        },
        "id": "XG7I3C0PJN9P",
        "outputId": "352dc466-86fb-411c-9876-6191ff12a0db"
      },
      "execution_count": null,
      "outputs": [
        {
          "output_type": "stream",
          "name": "stdout",
          "text": [
            "{'hello', (1, 2, 3)}\n"
          ]
        }
      ]
    },
    {
      "cell_type": "code",
      "source": [
        "#accessing items in set\n",
        "s2[0]"
      ],
      "metadata": {
        "colab": {
          "base_uri": "https://localhost:8080/",
          "height": 159
        },
        "id": "NkHiZJVBJf6T",
        "outputId": "a12f3dc2-03d1-4913-fbc3-94d5dabf3d87"
      },
      "execution_count": null,
      "outputs": [
        {
          "output_type": "error",
          "ename": "TypeError",
          "evalue": "'set' object is not subscriptable",
          "traceback": [
            "\u001b[0;31m---------------------------------------------------------------------------\u001b[0m",
            "\u001b[0;31mTypeError\u001b[0m                                 Traceback (most recent call last)",
            "\u001b[0;32m<ipython-input-14-4428f210b913>\u001b[0m in \u001b[0;36m<cell line: 2>\u001b[0;34m()\u001b[0m\n\u001b[1;32m      1\u001b[0m \u001b[0;31m#accessing items in set\u001b[0m\u001b[0;34m\u001b[0m\u001b[0;34m\u001b[0m\u001b[0m\n\u001b[0;32m----> 2\u001b[0;31m \u001b[0ms2\u001b[0m\u001b[0;34m[\u001b[0m\u001b[0;36m0\u001b[0m\u001b[0;34m]\u001b[0m\u001b[0;34m\u001b[0m\u001b[0;34m\u001b[0m\u001b[0m\n\u001b[0m",
            "\u001b[0;31mTypeError\u001b[0m: 'set' object is not subscriptable"
          ]
        }
      ]
    },
    {
      "cell_type": "code",
      "source": [
        "#cannot edit items\n",
        "l=list(s4)#type conversion\n",
        "print(l)"
      ],
      "metadata": {
        "colab": {
          "base_uri": "https://localhost:8080/"
        },
        "id": "me_OYVwIKBQZ",
        "outputId": "cce2c7e3-d94b-4bde-9789-427aed9a8a8a"
      },
      "execution_count": null,
      "outputs": [
        {
          "output_type": "stream",
          "name": "stdout",
          "text": [
            "['hello', (1, 2, 3)]\n"
          ]
        }
      ]
    },
    {
      "cell_type": "code",
      "source": [
        "l[0]=100#assignment\n",
        "print(l)"
      ],
      "metadata": {
        "colab": {
          "base_uri": "https://localhost:8080/"
        },
        "id": "dBSTbgrbKb9j",
        "outputId": "a9e788be-2c0f-4bd6-a02d-b3b05ef8f15e"
      },
      "execution_count": null,
      "outputs": [
        {
          "output_type": "stream",
          "name": "stdout",
          "text": [
            "[100, (1, 2, 3)]\n"
          ]
        }
      ]
    },
    {
      "cell_type": "code",
      "source": [
        "s5=set(l)\n",
        "print(s5)"
      ],
      "metadata": {
        "colab": {
          "base_uri": "https://localhost:8080/"
        },
        "id": "5_AH8S2oKoDh",
        "outputId": "cc996eb2-121b-40e5-b5b7-f4de06d447a7"
      },
      "execution_count": null,
      "outputs": [
        {
          "output_type": "stream",
          "name": "stdout",
          "text": [
            "{(1, 2, 3), 100}\n"
          ]
        }
      ]
    },
    {
      "cell_type": "code",
      "source": [
        "#add items\n",
        "s5.add(6)\n",
        "print(s5)"
      ],
      "metadata": {
        "colab": {
          "base_uri": "https://localhost:8080/"
        },
        "id": "VCRixDdFK63F",
        "outputId": "d1dd7d4b-41b4-49a8-dec7-9ae47ac995e7"
      },
      "execution_count": null,
      "outputs": [
        {
          "output_type": "stream",
          "name": "stdout",
          "text": [
            "{(1, 2, 3), 100, 6}\n"
          ]
        }
      ]
    },
    {
      "cell_type": "code",
      "source": [
        "#del,delete,pop,remove\n"
      ],
      "metadata": {
        "id": "EzWmYsXaLMKu"
      },
      "execution_count": null,
      "outputs": []
    },
    {
      "cell_type": "code",
      "source": [
        "#Set operations(cannot concatenate and multiply)\n",
        "for i in s5:\n",
        "    print(i)\n",
        "\n"
      ],
      "metadata": {
        "colab": {
          "base_uri": "https://localhost:8080/"
        },
        "id": "al2wq-RgVTwW",
        "outputId": "2b1cca49-2ecd-40d8-af66-83e76a767e65"
      },
      "execution_count": null,
      "outputs": [
        {
          "output_type": "stream",
          "name": "stdout",
          "text": [
            "(1, 2, 3)\n",
            "100\n",
            "6\n"
          ]
        }
      ]
    },
    {
      "cell_type": "code",
      "source": [
        "#functions\n",
        "len,min,max,sum,sorted,\n",
        "s5.union(s2)"
      ],
      "metadata": {
        "colab": {
          "base_uri": "https://localhost:8080/"
        },
        "id": "gM7YecYBVjAO",
        "outputId": "ba8f50c6-8cd7-499a-ae00-947d15ce094b"
      },
      "execution_count": null,
      "outputs": [
        {
          "output_type": "execute_result",
          "data": {
            "text/plain": [
              "{(1, 2, 3), 1, 100, 2, 6}"
            ]
          },
          "metadata": {},
          "execution_count": 25
        }
      ]
    },
    {
      "cell_type": "code",
      "source": [
        "s5.intersection(s2)"
      ],
      "metadata": {
        "colab": {
          "base_uri": "https://localhost:8080/"
        },
        "id": "IMbMvHbGV02f",
        "outputId": "478e5d42-6d71-497b-b492-9c5d1b216b42"
      },
      "execution_count": null,
      "outputs": [
        {
          "output_type": "execute_result",
          "data": {
            "text/plain": [
              "set()"
            ]
          },
          "metadata": {},
          "execution_count": 26
        }
      ]
    },
    {
      "cell_type": "code",
      "source": [
        "s5.difference(s2)"
      ],
      "metadata": {
        "colab": {
          "base_uri": "https://localhost:8080/"
        },
        "id": "mr5guzCfV5AC",
        "outputId": "2f191eba-9cd6-4905-b551-fd4276212a93"
      },
      "execution_count": null,
      "outputs": [
        {
          "output_type": "execute_result",
          "data": {
            "text/plain": [
              "{(1, 2, 3), 100, 6}"
            ]
          },
          "metadata": {},
          "execution_count": 27
        }
      ]
    },
    {
      "cell_type": "code",
      "source": [
        "s5.symmetric_difference(s2)"
      ],
      "metadata": {
        "colab": {
          "base_uri": "https://localhost:8080/"
        },
        "id": "tueWEYEOV-Ta",
        "outputId": "f44b3b07-51ab-4baa-9dee-bf29005ca0df"
      },
      "execution_count": null,
      "outputs": [
        {
          "output_type": "execute_result",
          "data": {
            "text/plain": [
              "{(1, 2, 3), 1, 100, 2, 6}"
            ]
          },
          "metadata": {},
          "execution_count": 28
        }
      ]
    },
    {
      "cell_type": "code",
      "source": [
        "s5.isdisjoint(s2)"
      ],
      "metadata": {
        "colab": {
          "base_uri": "https://localhost:8080/"
        },
        "id": "oNrwMg0VWDUt",
        "outputId": "39ec299b-35ef-4994-a82f-022eab9e941e"
      },
      "execution_count": null,
      "outputs": [
        {
          "output_type": "execute_result",
          "data": {
            "text/plain": [
              "True"
            ]
          },
          "metadata": {},
          "execution_count": 30
        }
      ]
    },
    {
      "cell_type": "code",
      "source": [
        "s5.symmetric_difference_update(s2)"
      ],
      "metadata": {
        "id": "isd8Viy0WHcX"
      },
      "execution_count": null,
      "outputs": []
    },
    {
      "cell_type": "markdown",
      "source": [
        "### **Dictionary**"
      ],
      "metadata": {
        "id": "zWpaq3_SWhyv"
      }
    },
    {
      "cell_type": "code",
      "source": [
        "#dictionary-key_value pairs\n",
        "rules:\n",
        "dict has no indexing\n",
        "dict is mutable data type\n",
        "keys should be unique\n",
        "keys should be immutable data type\n",
        "\n"
      ],
      "metadata": {
        "id": "7x5ydtjQWUn9"
      },
      "execution_count": null,
      "outputs": []
    },
    {
      "cell_type": "markdown",
      "source": [
        "mutable= list,set,dict\n",
        "\n",
        "immutable= strings,tuple,int,float,boolean,complex"
      ],
      "metadata": {
        "id": "9fe7eJ2_W9Nz"
      }
    },
    {
      "cell_type": "code",
      "source": [
        "#crete,access\n",
        "d={}"
      ],
      "metadata": {
        "id": "5YZ6o5xWXHln"
      },
      "execution_count": null,
      "outputs": []
    },
    {
      "cell_type": "code",
      "source": [
        "d={\"name\":\"Ruchi\",\"age\":21}\n"
      ],
      "metadata": {
        "id": "R6CjiL_FXLbF"
      },
      "execution_count": null,
      "outputs": []
    },
    {
      "cell_type": "code",
      "source": [
        "d1={\"name\":\"Rahul\",\"name\":\"Rohit\"}#every key should have single instance\n",
        "print(d1)"
      ],
      "metadata": {
        "colab": {
          "base_uri": "https://localhost:8080/"
        },
        "id": "BDZwT96wXTMB",
        "outputId": "394f2e3b-64d5-4a49-b919-0da015058c2d"
      },
      "execution_count": null,
      "outputs": [
        {
          "output_type": "stream",
          "name": "stdout",
          "text": [
            "{'name': 'Rohit'}\n"
          ]
        }
      ]
    },
    {
      "cell_type": "code",
      "source": [
        "d3={'name':\"Rohit\",\"college\":\"HIT\",\"marks\":{\"m1\":22,\"m2\":33}}#2d dictionary\n",
        "print(d3)"
      ],
      "metadata": {
        "colab": {
          "base_uri": "https://localhost:8080/"
        },
        "id": "mGPE_n0xXl1B",
        "outputId": "116d516a-e24f-4240-b0e8-394b1f9d125a"
      },
      "execution_count": null,
      "outputs": [
        {
          "output_type": "stream",
          "name": "stdout",
          "text": [
            "{'name': 'Rohit', 'college': 'HIT', 'marks': {'m1': 22, 'm2': 33}}\n"
          ]
        }
      ]
    },
    {
      "cell_type": "code",
      "source": [
        "#access\n",
        "d"
      ],
      "metadata": {
        "colab": {
          "base_uri": "https://localhost:8080/"
        },
        "id": "miJzw7UuYak-",
        "outputId": "3715ac38-a6f5-407e-eec5-5e0ba07226ba"
      },
      "execution_count": null,
      "outputs": [
        {
          "output_type": "execute_result",
          "data": {
            "text/plain": [
              "{'name': 'Ruchi', 'age': 21}"
            ]
          },
          "metadata": {},
          "execution_count": 40
        }
      ]
    },
    {
      "cell_type": "code",
      "source": [
        "d3[\"marks\"]"
      ],
      "metadata": {
        "colab": {
          "base_uri": "https://localhost:8080/"
        },
        "id": "Skldl0tSY0lp",
        "outputId": "3525c44e-af71-43f9-bdc9-81382ae53fa2"
      },
      "execution_count": null,
      "outputs": [
        {
          "output_type": "execute_result",
          "data": {
            "text/plain": [
              "{'m1': 22, 'm2': 33}"
            ]
          },
          "metadata": {},
          "execution_count": 42
        }
      ]
    },
    {
      "cell_type": "code",
      "source": [
        "d3[\"marks\"][\"m1\"]"
      ],
      "metadata": {
        "colab": {
          "base_uri": "https://localhost:8080/"
        },
        "id": "jWtniB2wY6a8",
        "outputId": "a88ffd05-8c2e-4744-f22e-661704e876fa"
      },
      "execution_count": null,
      "outputs": [
        {
          "output_type": "execute_result",
          "data": {
            "text/plain": [
              "22"
            ]
          },
          "metadata": {},
          "execution_count": 44
        }
      ]
    },
    {
      "cell_type": "code",
      "source": [
        "d[\"name\"]"
      ],
      "metadata": {
        "colab": {
          "base_uri": "https://localhost:8080/",
          "height": 35
        },
        "id": "ZHbkYysRYgMu",
        "outputId": "2cd838fe-1e0f-490b-c019-5c8d7f3ba71e"
      },
      "execution_count": null,
      "outputs": [
        {
          "output_type": "execute_result",
          "data": {
            "text/plain": [
              "'Ruchi'"
            ],
            "application/vnd.google.colaboratory.intrinsic+json": {
              "type": "string"
            }
          },
          "metadata": {},
          "execution_count": 41
        }
      ]
    },
    {
      "cell_type": "code",
      "source": [
        "#edit dict\n",
        "d[\"name\"]=\"Rishi\"\n",
        "print(d)"
      ],
      "metadata": {
        "colab": {
          "base_uri": "https://localhost:8080/"
        },
        "id": "biUElHtjYouA",
        "outputId": "4cb6f533-865a-4095-945f-33550b83f55b"
      },
      "execution_count": null,
      "outputs": [
        {
          "output_type": "stream",
          "name": "stdout",
          "text": [
            "{'name': 'Rishi', 'age': 21}\n"
          ]
        }
      ]
    },
    {
      "cell_type": "code",
      "source": [
        "#add new key value pairs\n",
        "d[\"gender\"]=\"male\"\n",
        "print(d)"
      ],
      "metadata": {
        "colab": {
          "base_uri": "https://localhost:8080/"
        },
        "id": "qaenlLrxZVyR",
        "outputId": "5378fbd9-9a2e-4c9c-a73b-7f7fd51df44e"
      },
      "execution_count": null,
      "outputs": [
        {
          "output_type": "stream",
          "name": "stdout",
          "text": [
            "{'name': 'Rishi', 'age': 21, 'gender': 'male'}\n"
          ]
        }
      ]
    },
    {
      "cell_type": "code",
      "source": [
        "d3['marks']['m4']=25\n",
        "print(d3)"
      ],
      "metadata": {
        "colab": {
          "base_uri": "https://localhost:8080/"
        },
        "id": "mlHtTpr_ZopQ",
        "outputId": "e12a1592-6cf3-4a9a-a1c9-00ebba4d3cd4"
      },
      "execution_count": null,
      "outputs": [
        {
          "output_type": "stream",
          "name": "stdout",
          "text": [
            "{'name': 'Rohit', 'college': 'HIT', 'marks': {'m1': 22, 'm2': 33, 'm4': 25}}\n"
          ]
        }
      ]
    },
    {
      "cell_type": "code",
      "source": [
        "#delete,del,clear,\n",
        "del d3['marks']['m4']\n",
        "print(d3)"
      ],
      "metadata": {
        "colab": {
          "base_uri": "https://localhost:8080/"
        },
        "id": "KMRw68cjZ2yp",
        "outputId": "263aec40-1581-48d5-f6d4-69925bd0a3e6"
      },
      "execution_count": null,
      "outputs": [
        {
          "output_type": "stream",
          "name": "stdout",
          "text": [
            "{'name': 'Rohit', 'college': 'HIT', 'marks': {'m1': 22, 'm2': 33}}\n"
          ]
        }
      ]
    },
    {
      "cell_type": "code",
      "source": [
        "#operations(no concatenation,multiplication)\n",
        "\n",
        "for i in d3:#only prints keys not values\n",
        "    print(i)"
      ],
      "metadata": {
        "colab": {
          "base_uri": "https://localhost:8080/"
        },
        "id": "I8x3SJA3aFcw",
        "outputId": "3639c7fe-b8d7-4913-ad04-72aa59e33a42"
      },
      "execution_count": null,
      "outputs": [
        {
          "output_type": "stream",
          "name": "stdout",
          "text": [
            "name\n",
            "college\n",
            "marks\n"
          ]
        }
      ]
    },
    {
      "cell_type": "code",
      "source": [
        "for i in d3:\n",
        "    print(i,d3[i])"
      ],
      "metadata": {
        "colab": {
          "base_uri": "https://localhost:8080/"
        },
        "id": "KIbWjvE_aX8u",
        "outputId": "24385cb8-346f-4abc-db02-2532af0874f9"
      },
      "execution_count": null,
      "outputs": [
        {
          "output_type": "stream",
          "name": "stdout",
          "text": [
            "name Rohit\n",
            "college HIT\n",
            "marks {'m1': 22, 'm2': 33}\n"
          ]
        }
      ]
    },
    {
      "cell_type": "code",
      "source": [
        "#membership=works only for keys\n",
        "\"Rohit\" in d3"
      ],
      "metadata": {
        "colab": {
          "base_uri": "https://localhost:8080/"
        },
        "id": "5gakSLfLbCQ9",
        "outputId": "e5344031-ddf3-42fb-bc51-d8d5abe60be3"
      },
      "execution_count": null,
      "outputs": [
        {
          "output_type": "execute_result",
          "data": {
            "text/plain": [
              "False"
            ]
          },
          "metadata": {},
          "execution_count": 53
        }
      ]
    },
    {
      "cell_type": "code",
      "source": [
        "#min,max,sorted,keys,values\n",
        "d3.keys()\n"
      ],
      "metadata": {
        "colab": {
          "base_uri": "https://localhost:8080/"
        },
        "id": "IdiyljWhbJeo",
        "outputId": "7c40e0bf-ae62-4781-c18f-2314346dbd0b"
      },
      "execution_count": null,
      "outputs": [
        {
          "output_type": "execute_result",
          "data": {
            "text/plain": [
              "dict_keys(['name', 'college', 'marks'])"
            ]
          },
          "metadata": {},
          "execution_count": 54
        }
      ]
    },
    {
      "cell_type": "code",
      "source": [
        "d3.values()"
      ],
      "metadata": {
        "colab": {
          "base_uri": "https://localhost:8080/"
        },
        "id": "xKZgKbvnbePn",
        "outputId": "4fdff825-e229-4b78-dd4d-aec255be258e"
      },
      "execution_count": null,
      "outputs": [
        {
          "output_type": "execute_result",
          "data": {
            "text/plain": [
              "dict_values(['Rohit', 'HIT', {'m1': 22, 'm2': 33}])"
            ]
          },
          "metadata": {},
          "execution_count": 55
        }
      ]
    },
    {
      "cell_type": "markdown",
      "source": [
        "### **aliasing**"
      ],
      "metadata": {
        "id": "41NBFq9Kc-MH"
      }
    },
    {
      "cell_type": "code",
      "source": [
        "a=2\n",
        "b=a\n",
        "c=b"
      ],
      "metadata": {
        "id": "ZqnSk6hsbgDg"
      },
      "execution_count": null,
      "outputs": []
    },
    {
      "cell_type": "code",
      "source": [
        "print(id(a))\n",
        "print(id(b))\n",
        "print(id(c))"
      ],
      "metadata": {
        "colab": {
          "base_uri": "https://localhost:8080/"
        },
        "id": "wtR5AFC_dCIf",
        "outputId": "37601ef6-7766-4d8b-d27e-4116a6dc7d3b"
      },
      "execution_count": null,
      "outputs": [
        {
          "output_type": "stream",
          "name": "stdout",
          "text": [
            "133329216602384\n",
            "133329216602384\n",
            "133329216602384\n"
          ]
        }
      ]
    },
    {
      "cell_type": "code",
      "source": [
        "del(a)#the relation is deleted not the varialbe therefroe b,c will still show 2"
      ],
      "metadata": {
        "id": "mpmCqbq2dGRM"
      },
      "execution_count": null,
      "outputs": []
    },
    {
      "cell_type": "code",
      "source": [
        "b"
      ],
      "metadata": {
        "colab": {
          "base_uri": "https://localhost:8080/"
        },
        "id": "VljQDzWldHqH",
        "outputId": "e7fbf1e1-ce29-420a-b34f-3bd14ce99e8d"
      },
      "execution_count": null,
      "outputs": [
        {
          "output_type": "execute_result",
          "data": {
            "text/plain": [
              "2"
            ]
          },
          "metadata": {},
          "execution_count": 59
        }
      ]
    },
    {
      "cell_type": "markdown",
      "source": [
        "### **Refrencing**"
      ],
      "metadata": {
        "id": "goyaED37dRvx"
      }
    },
    {
      "cell_type": "code",
      "source": [
        "import sys"
      ],
      "metadata": {
        "id": "dPMUwolXddw-"
      },
      "execution_count": null,
      "outputs": []
    },
    {
      "cell_type": "code",
      "source": [
        "a='corona'\n",
        "b=a\n",
        "c=b"
      ],
      "metadata": {
        "id": "iM2BFxA5dqB7"
      },
      "execution_count": null,
      "outputs": []
    },
    {
      "cell_type": "code",
      "source": [
        "sys.getrefcount(b)#it means that 7 variable in my memory are pointing to corona"
      ],
      "metadata": {
        "colab": {
          "base_uri": "https://localhost:8080/"
        },
        "id": "sdAIU7cJdQhU",
        "outputId": "1f6d7c96-fff0-43b5-fa49-4ce328726c99"
      },
      "execution_count": null,
      "outputs": [
        {
          "output_type": "execute_result",
          "data": {
            "text/plain": [
              "7"
            ]
          },
          "metadata": {},
          "execution_count": 64
        }
      ]
    },
    {
      "cell_type": "markdown",
      "source": [
        "### **garbage collection**"
      ],
      "metadata": {
        "id": "sOOD_oOveB4c"
      }
    },
    {
      "cell_type": "code",
      "source": [
        "#if i delete all the refrences of variable to a single entity (eg. corona) but the corona remains in the memory and wastes the memory\n",
        "#therefore there is a garbage collector"
      ],
      "metadata": {
        "id": "Tx84XGFhdcIw"
      },
      "execution_count": null,
      "outputs": []
    },
    {
      "cell_type": "markdown",
      "source": [
        "### **wierd stuff**"
      ],
      "metadata": {
        "id": "Mngp3hTXeqaq"
      }
    },
    {
      "cell_type": "code",
      "source": [
        "a=4\n",
        "b=4\n",
        "#this is not aliasing ,we are using diff entities\n"
      ],
      "metadata": {
        "id": "4k360pUSeeVG"
      },
      "execution_count": null,
      "outputs": []
    },
    {
      "cell_type": "code",
      "source": [
        "#if using variables between -5 to 256 the address in memory would be same\n",
        "strings=the variable usig valid identifier will have same memory address and the other will be different\n",
        "\n"
      ],
      "metadata": {
        "id": "xWTMxJvEfZDP"
      },
      "execution_count": null,
      "outputs": []
    },
    {
      "cell_type": "code",
      "source": [
        "a=\"haldia\"\n",
        "b=\"haldia\""
      ],
      "metadata": {
        "id": "AsqYZqGTiDA5"
      },
      "execution_count": null,
      "outputs": []
    },
    {
      "cell_type": "code",
      "source": [
        "print(id(a))\n",
        "print(id(b))"
      ],
      "metadata": {
        "colab": {
          "base_uri": "https://localhost:8080/"
        },
        "id": "pL5q4_fiiGAb",
        "outputId": "1bffefc5-1216-4b80-ccd1-d6ee4c709a31"
      },
      "execution_count": null,
      "outputs": [
        {
          "output_type": "stream",
          "name": "stdout",
          "text": [
            "134160370847408\n",
            "134160370847408\n"
          ]
        }
      ]
    },
    {
      "cell_type": "code",
      "source": [
        "s=\"haldia inst relay\"\n",
        "x=\"haldia inst relay\""
      ],
      "metadata": {
        "id": "w3Qy9MxYiH_W"
      },
      "execution_count": null,
      "outputs": []
    },
    {
      "cell_type": "code",
      "source": [
        "id(s)\n",
        "\n"
      ],
      "metadata": {
        "colab": {
          "base_uri": "https://localhost:8080/"
        },
        "id": "4B5s7o7oiMd-",
        "outputId": "908620c3-e64c-4230-d9cd-980d5424e248"
      },
      "execution_count": null,
      "outputs": [
        {
          "output_type": "execute_result",
          "data": {
            "text/plain": [
              "134160370842512"
            ]
          },
          "metadata": {},
          "execution_count": 71
        }
      ]
    },
    {
      "cell_type": "code",
      "source": [
        "id(x)"
      ],
      "metadata": {
        "colab": {
          "base_uri": "https://localhost:8080/"
        },
        "id": "k_auZyAtiPKB",
        "outputId": "3b327a79-87a2-4a08-b7d9-3be4f2ca90cc"
      },
      "execution_count": null,
      "outputs": [
        {
          "output_type": "execute_result",
          "data": {
            "text/plain": [
              "134160370828592"
            ]
          },
          "metadata": {},
          "execution_count": 72
        }
      ]
    },
    {
      "cell_type": "markdown",
      "source": [
        "### **Mutability**"
      ],
      "metadata": {
        "id": "Fc5k-DeZifUm"
      }
    },
    {
      "cell_type": "code",
      "source": [
        "#refers to ability to edit or change data in its memory location\n",
        "#side effects of mutability:\n",
        "a=[1,2,3]\n",
        "b=a\n",
        "b.append(4)\n",
        "print(b)\n",
        "print(a)\n"
      ],
      "metadata": {
        "colab": {
          "base_uri": "https://localhost:8080/"
        },
        "id": "uhjVQiL3iXPK",
        "outputId": "d34221af-b1d7-4bea-e139-0ff2aa1fe382"
      },
      "execution_count": null,
      "outputs": [
        {
          "output_type": "stream",
          "name": "stdout",
          "text": [
            "[1, 2, 3, 4]\n",
            "[1, 2, 3, 4]\n"
          ]
        }
      ]
    },
    {
      "cell_type": "code",
      "source": [
        "#cloning-id are diffent\n",
        "l=[1,2,3]\n",
        "l1=l[:]#creating a copy of a at different address\n",
        "l1.append(4)\n",
        "print(l)\n",
        "print(l1)"
      ],
      "metadata": {
        "colab": {
          "base_uri": "https://localhost:8080/"
        },
        "id": "YB6NKyDgqLPq",
        "outputId": "3ccce547-6340-45e6-8aaa-5b220ad725ed"
      },
      "execution_count": null,
      "outputs": [
        {
          "output_type": "stream",
          "name": "stdout",
          "text": [
            "[1, 2, 3]\n",
            "[1, 2, 3, 4]\n"
          ]
        }
      ]
    },
    {
      "cell_type": "code",
      "source": [
        "t=(1,2,3,[4,5])#as tuple is immutable but inside tuples there is a list in which we are editing therefore editin is possible\n",
        "print(t)\n",
        "t[-1][-1]=500\n",
        "print(t)"
      ],
      "metadata": {
        "colab": {
          "base_uri": "https://localhost:8080/"
        },
        "id": "2vFT9wslqeye",
        "outputId": "d62b02fe-9014-4eb6-f4da-f463099bb8c5"
      },
      "execution_count": null,
      "outputs": [
        {
          "output_type": "stream",
          "name": "stdout",
          "text": [
            "(1, 2, 3, [4, 5])\n",
            "(1, 2, 3, [4, 500])\n"
          ]
        }
      ]
    },
    {
      "cell_type": "code",
      "source": [
        "but tuple inside a list and editing tuple is not possible bcoz it is immutable"
      ],
      "metadata": {
        "id": "uNfUgM2Cq_4N"
      },
      "execution_count": null,
      "outputs": []
    },
    {
      "cell_type": "markdown",
      "source": [
        "### **python functions**"
      ],
      "metadata": {
        "id": "JK-Xlrf0r9UF"
      }
    },
    {
      "cell_type": "code",
      "source": [
        "a block a code\n",
        "abstraction\n",
        "decomposition\n",
        "def=keyword\n",
        "variables,function classes=identifiers\n"
      ],
      "metadata": {
        "id": "6nxS_KcWrbBR"
      },
      "execution_count": null,
      "outputs": []
    },
    {
      "cell_type": "code",
      "source": [
        "def even(number):\n",
        "    if type(number)==int:\n",
        "        if number%2==0:\n",
        "            print(\"even\")\n",
        "        else:\n",
        "            print(\"Odd\")\n",
        "    else:\n",
        "        print(\"not allowed\")\n"
      ],
      "metadata": {
        "id": "pKUtNQpLtbIf"
      },
      "execution_count": null,
      "outputs": []
    },
    {
      "cell_type": "code",
      "source": [
        "x=even(2)\n",
        "print(x)"
      ],
      "metadata": {
        "colab": {
          "base_uri": "https://localhost:8080/"
        },
        "id": "P23xKvXitpTq",
        "outputId": "f84a4f81-5cc0-4bcf-b1ea-76e6c1c57536"
      },
      "execution_count": null,
      "outputs": [
        {
          "output_type": "stream",
          "name": "stdout",
          "text": [
            "even\n",
            "None\n"
          ]
        }
      ]
    },
    {
      "cell_type": "code",
      "source": [
        "even(\"hello\")"
      ],
      "metadata": {
        "colab": {
          "base_uri": "https://localhost:8080/"
        },
        "id": "mrVF7U2TtyL_",
        "outputId": "c635d823-d897-4090-966f-23e80af11704"
      },
      "execution_count": null,
      "outputs": [
        {
          "output_type": "stream",
          "name": "stdout",
          "text": [
            "not allowed\n"
          ]
        }
      ]
    },
    {
      "cell_type": "code",
      "source": [
        "#parameters v/s argument:\n",
        "default argument\n",
        "keyword argument\n",
        "arbitrary argument\n",
        "positional argument\n",
        "\n"
      ],
      "metadata": {
        "id": "jaW1QWyWtzhw"
      },
      "execution_count": null,
      "outputs": []
    },
    {
      "cell_type": "code",
      "source": [
        "def power(a,b):\n",
        "    return a**b\n",
        "\n"
      ],
      "metadata": {
        "id": "0N2FED1bv_Nk"
      },
      "execution_count": null,
      "outputs": []
    },
    {
      "cell_type": "code",
      "source": [
        "power(2,3)"
      ],
      "metadata": {
        "colab": {
          "base_uri": "https://localhost:8080/"
        },
        "id": "wf9ynIOnwIis",
        "outputId": "03559605-f857-4ef3-c900-a641ae4e7e58"
      },
      "execution_count": null,
      "outputs": [
        {
          "output_type": "execute_result",
          "data": {
            "text/plain": [
              "8"
            ]
          },
          "metadata": {},
          "execution_count": 98
        }
      ]
    },
    {
      "cell_type": "code",
      "source": [
        "power(2)#to solve this error use default arguments"
      ],
      "metadata": {
        "colab": {
          "base_uri": "https://localhost:8080/",
          "height": 141
        },
        "id": "riVSBFwXwL7K",
        "outputId": "b0d7ce46-8489-4768-b3db-c95a901a7f35"
      },
      "execution_count": null,
      "outputs": [
        {
          "output_type": "error",
          "ename": "TypeError",
          "evalue": "power() missing 1 required positional argument: 'b'",
          "traceback": [
            "\u001b[0;31m---------------------------------------------------------------------------\u001b[0m",
            "\u001b[0;31mTypeError\u001b[0m                                 Traceback (most recent call last)",
            "\u001b[0;32m<ipython-input-99-d32e0df8244d>\u001b[0m in \u001b[0;36m<cell line: 1>\u001b[0;34m()\u001b[0m\n\u001b[0;32m----> 1\u001b[0;31m \u001b[0mpower\u001b[0m\u001b[0;34m(\u001b[0m\u001b[0;36m2\u001b[0m\u001b[0;34m)\u001b[0m\u001b[0;34m\u001b[0m\u001b[0;34m\u001b[0m\u001b[0m\n\u001b[0m",
            "\u001b[0;31mTypeError\u001b[0m: power() missing 1 required positional argument: 'b'"
          ]
        }
      ]
    },
    {
      "cell_type": "code",
      "source": [
        "def power(a=1,b=1):\n",
        "    return a**b"
      ],
      "metadata": {
        "id": "Mn5xbJqawT2n"
      },
      "execution_count": null,
      "outputs": []
    },
    {
      "cell_type": "code",
      "source": [
        "power(2,3)"
      ],
      "metadata": {
        "colab": {
          "base_uri": "https://localhost:8080/"
        },
        "id": "L6prs-ogwc_3",
        "outputId": "92cfcf08-30c4-4ff0-d7b4-e2bf9e9425c4"
      },
      "execution_count": null,
      "outputs": [
        {
          "output_type": "execute_result",
          "data": {
            "text/plain": [
              "8"
            ]
          },
          "metadata": {},
          "execution_count": 101
        }
      ]
    },
    {
      "cell_type": "code",
      "source": [
        "power(1)"
      ],
      "metadata": {
        "colab": {
          "base_uri": "https://localhost:8080/"
        },
        "id": "D2_lJwU4weZE",
        "outputId": "82eef0bd-e2b7-413b-871a-ddd9403762ec"
      },
      "execution_count": null,
      "outputs": [
        {
          "output_type": "execute_result",
          "data": {
            "text/plain": [
              "1"
            ]
          },
          "metadata": {},
          "execution_count": 102
        }
      ]
    },
    {
      "cell_type": "code",
      "source": [
        "#first argument goes to first parameer only =called position argument"
      ],
      "metadata": {
        "id": "uS79tTwlwfqn"
      },
      "execution_count": null,
      "outputs": []
    },
    {
      "cell_type": "code",
      "source": [
        "def flexi(*number):\n",
        "    product=1\n",
        "    print(number)\n",
        "    for i in number:\n",
        "        product=product*i\n",
        "    print(product)\n"
      ],
      "metadata": {
        "id": "jNWuF_5Wy1-E"
      },
      "execution_count": null,
      "outputs": []
    },
    {
      "cell_type": "code",
      "source": [
        "flexi(5,3,3)#multiplication of all 3"
      ],
      "metadata": {
        "colab": {
          "base_uri": "https://localhost:8080/"
        },
        "id": "wJ3MHPslzH6_",
        "outputId": "ead52ba4-971a-46f1-d18e-35ce0abb2d0c"
      },
      "execution_count": null,
      "outputs": [
        {
          "output_type": "stream",
          "name": "stdout",
          "text": [
            "(5, 3, 3)\n",
            "45\n"
          ]
        }
      ]
    },
    {
      "cell_type": "markdown",
      "source": [
        "global var and local var"
      ],
      "metadata": {
        "id": "PmXYK_V6z20S"
      }
    },
    {
      "cell_type": "code",
      "source": [
        "def f(y):\n",
        "    x=1\n",
        "    x+=1\n",
        "    print(x)\n",
        "x=5\n",
        "f(x)\n",
        "print(x)"
      ],
      "metadata": {
        "colab": {
          "base_uri": "https://localhost:8080/"
        },
        "id": "YG-gQ4BvHMMy",
        "outputId": "52e7cf66-ede2-46fe-840f-044acda04f63"
      },
      "execution_count": null,
      "outputs": [
        {
          "output_type": "stream",
          "name": "stdout",
          "text": [
            "2\n",
            "5\n"
          ]
        }
      ]
    },
    {
      "cell_type": "code",
      "source": [
        "def f(g):#we can change the local variable value using global variable\n",
        "    print(x)#2\n",
        "    print(x+1)#3\n",
        "\n",
        "x=2\n",
        "f(x)#1\n",
        "print(x)#4\n"
      ],
      "metadata": {
        "colab": {
          "base_uri": "https://localhost:8080/"
        },
        "id": "7Yx06dntLAj3",
        "outputId": "84665d9f-020b-4c4d-ece0-dd6937adabdc"
      },
      "execution_count": null,
      "outputs": [
        {
          "output_type": "stream",
          "name": "stdout",
          "text": [
            "2\n",
            "3\n",
            "2\n"
          ]
        }
      ]
    },
    {
      "cell_type": "code",
      "source": [
        "def f(y):#we cannot change globaal variable using local varial\n",
        "    x+=1\n",
        "x=5\n",
        "f(x)\n",
        "print(x)"
      ],
      "metadata": {
        "colab": {
          "base_uri": "https://localhost:8080/",
          "height": 315
        },
        "id": "xqlhZT_TMVdz",
        "outputId": "756b4f66-0e24-4885-bd9d-330f166d4267"
      },
      "execution_count": null,
      "outputs": [
        {
          "output_type": "error",
          "ename": "UnboundLocalError",
          "evalue": "local variable 'x' referenced before assignment",
          "traceback": [
            "\u001b[0;31m---------------------------------------------------------------------------\u001b[0m",
            "\u001b[0;31mUnboundLocalError\u001b[0m                         Traceback (most recent call last)",
            "\u001b[0;32m<ipython-input-10-52663cd11a58>\u001b[0m in \u001b[0;36m<cell line: 4>\u001b[0;34m()\u001b[0m\n\u001b[1;32m      2\u001b[0m     \u001b[0mx\u001b[0m\u001b[0;34m+=\u001b[0m\u001b[0;36m1\u001b[0m\u001b[0;34m\u001b[0m\u001b[0;34m\u001b[0m\u001b[0m\n\u001b[1;32m      3\u001b[0m \u001b[0mx\u001b[0m\u001b[0;34m=\u001b[0m\u001b[0;36m5\u001b[0m\u001b[0;34m\u001b[0m\u001b[0;34m\u001b[0m\u001b[0m\n\u001b[0;32m----> 4\u001b[0;31m \u001b[0mf\u001b[0m\u001b[0;34m(\u001b[0m\u001b[0mx\u001b[0m\u001b[0;34m)\u001b[0m\u001b[0;34m\u001b[0m\u001b[0;34m\u001b[0m\u001b[0m\n\u001b[0m\u001b[1;32m      5\u001b[0m \u001b[0mprint\u001b[0m\u001b[0;34m(\u001b[0m\u001b[0mx\u001b[0m\u001b[0;34m)\u001b[0m\u001b[0;34m\u001b[0m\u001b[0;34m\u001b[0m\u001b[0m\n",
            "\u001b[0;32m<ipython-input-10-52663cd11a58>\u001b[0m in \u001b[0;36mf\u001b[0;34m(y)\u001b[0m\n\u001b[1;32m      1\u001b[0m \u001b[0;32mdef\u001b[0m \u001b[0mf\u001b[0m\u001b[0;34m(\u001b[0m\u001b[0my\u001b[0m\u001b[0;34m)\u001b[0m\u001b[0;34m:\u001b[0m\u001b[0;31m#we cannot change globaal variable using local varial\u001b[0m\u001b[0;34m\u001b[0m\u001b[0;34m\u001b[0m\u001b[0m\n\u001b[0;32m----> 2\u001b[0;31m     \u001b[0mx\u001b[0m\u001b[0;34m+=\u001b[0m\u001b[0;36m1\u001b[0m\u001b[0;34m\u001b[0m\u001b[0;34m\u001b[0m\u001b[0m\n\u001b[0m\u001b[1;32m      3\u001b[0m \u001b[0mx\u001b[0m\u001b[0;34m=\u001b[0m\u001b[0;36m5\u001b[0m\u001b[0;34m\u001b[0m\u001b[0;34m\u001b[0m\u001b[0m\n\u001b[1;32m      4\u001b[0m \u001b[0mf\u001b[0m\u001b[0;34m(\u001b[0m\u001b[0mx\u001b[0m\u001b[0;34m)\u001b[0m\u001b[0;34m\u001b[0m\u001b[0;34m\u001b[0m\u001b[0m\n\u001b[1;32m      5\u001b[0m \u001b[0mprint\u001b[0m\u001b[0;34m(\u001b[0m\u001b[0mx\u001b[0m\u001b[0;34m)\u001b[0m\u001b[0;34m\u001b[0m\u001b[0;34m\u001b[0m\u001b[0m\n",
            "\u001b[0;31mUnboundLocalError\u001b[0m: local variable 'x' referenced before assignment"
          ]
        }
      ]
    },
    {
      "cell_type": "code",
      "source": [
        "def f():\n",
        "    print(\"inside f\")#1\n",
        "    def g():#3\n",
        "        print(\"inside g\")#4\n",
        "    g()#2\n"
      ],
      "metadata": {
        "id": "nQS2Qp7CNK21"
      },
      "execution_count": null,
      "outputs": []
    },
    {
      "cell_type": "code",
      "source": [
        "f()"
      ],
      "metadata": {
        "colab": {
          "base_uri": "https://localhost:8080/"
        },
        "id": "wWVDrh-iOWxV",
        "outputId": "69e64648-97c6-4481-c459-212066949b61"
      },
      "execution_count": null,
      "outputs": [
        {
          "output_type": "stream",
          "name": "stdout",
          "text": [
            "inside f\n",
            "inside g\n"
          ]
        }
      ]
    },
    {
      "cell_type": "markdown",
      "source": [
        "### **everything in python is object**"
      ],
      "metadata": {
        "id": "F5eJLyD7ROBs"
      }
    },
    {
      "cell_type": "code",
      "source": [
        "# we can delete functions in python\n",
        "functions can behave as data type"
      ],
      "metadata": {
        "id": "OiCqWwbEOaKm"
      },
      "execution_count": null,
      "outputs": []
    },
    {
      "cell_type": "code",
      "source": [
        "def f(a):\n",
        "    return a**2"
      ],
      "metadata": {
        "id": "EqhMcpS8SIT8"
      },
      "execution_count": null,
      "outputs": []
    },
    {
      "cell_type": "code",
      "source": [
        "x=f  #aliasing using functions"
      ],
      "metadata": {
        "id": "y1UwdDHOS1rf"
      },
      "execution_count": null,
      "outputs": []
    },
    {
      "cell_type": "code",
      "source": [
        "x(2)"
      ],
      "metadata": {
        "colab": {
          "base_uri": "https://localhost:8080/"
        },
        "id": "IGrOiv63S5ie",
        "outputId": "81beb89a-e76c-4001-91c9-0ff9ee2792aa"
      },
      "execution_count": null,
      "outputs": [
        {
          "output_type": "execute_result",
          "data": {
            "text/plain": [
              "4"
            ]
          },
          "metadata": {},
          "execution_count": 23
        }
      ]
    },
    {
      "cell_type": "code",
      "source": [
        "del f #can delete functions"
      ],
      "metadata": {
        "id": "TYlGxmElS91T"
      },
      "execution_count": null,
      "outputs": []
    },
    {
      "cell_type": "code",
      "source": [
        "l=[1,2,3,x(5)]\n",
        "print(l)"
      ],
      "metadata": {
        "colab": {
          "base_uri": "https://localhost:8080/"
        },
        "id": "kOhk-llHSOxg",
        "outputId": "278e9e46-23a3-44a5-ac9d-b7b689da1c2c"
      },
      "execution_count": null,
      "outputs": [
        {
          "output_type": "stream",
          "name": "stdout",
          "text": [
            "[1, 2, 3, 25]\n"
          ]
        }
      ]
    },
    {
      "cell_type": "code",
      "source": [
        "l=[1,2,3,4,x]"
      ],
      "metadata": {
        "id": "YPp6h23GTlv6"
      },
      "execution_count": null,
      "outputs": []
    },
    {
      "cell_type": "code",
      "source": [
        "l[-1](3)#goes to the last value and psses 3 as value therefore sqr of 3"
      ],
      "metadata": {
        "colab": {
          "base_uri": "https://localhost:8080/"
        },
        "id": "boJG6RZMSRPS",
        "outputId": "7311f002-894b-48a2-ab65-3959fb44d938"
      },
      "execution_count": null,
      "outputs": [
        {
          "output_type": "execute_result",
          "data": {
            "text/plain": [
              "9"
            ]
          },
          "metadata": {},
          "execution_count": 30
        }
      ]
    },
    {
      "cell_type": "markdown",
      "source": [
        "renaming,deleting,storing,reurning a function\n",
        "and function as argument"
      ],
      "metadata": {
        "id": "hdDqkxW8T66o"
      }
    },
    {
      "cell_type": "code",
      "source": [
        "def func_a():\n",
        "    print(\"inside a\")\n",
        "\n",
        "def func_b(z):\n",
        "    print(\"inside b\")\n",
        "    return z()\n",
        "\n",
        "print(func_b(func_a))"
      ],
      "metadata": {
        "colab": {
          "base_uri": "https://localhost:8080/"
        },
        "id": "DfSn1FlLTQrj",
        "outputId": "9babcacf-b958-4143-b0c5-800d6aadb09a"
      },
      "execution_count": null,
      "outputs": [
        {
          "output_type": "stream",
          "name": "stdout",
          "text": [
            "inside b\n",
            "inside a\n",
            "None\n"
          ]
        }
      ]
    },
    {
      "cell_type": "markdown",
      "source": [
        "### **Recursions**"
      ],
      "metadata": {
        "id": "vvHcs50NWymY"
      }
    },
    {
      "cell_type": "code",
      "source": [
        "recursions are used in place of loops but are very complicated\n",
        "2 things to have in recursion:we should know the base case(the answer)\n",
        "                            :"
      ],
      "metadata": {
        "id": "iCJ5HjmPVAWH"
      },
      "execution_count": null,
      "outputs": []
    },
    {
      "cell_type": "code",
      "source": [
        "def multiply(a,b):#normal loop\n",
        "    result=0\n",
        "\n",
        "    for i in range(b):\n",
        "        result=result+ a\n",
        "\n",
        "    print(result)\n",
        "\n",
        "multiply(3,4)"
      ],
      "metadata": {
        "colab": {
          "base_uri": "https://localhost:8080/"
        },
        "id": "5Na1G6HYYx3W",
        "outputId": "c68aeac7-cc14-4731-d096-fda9ac4ce95b"
      },
      "execution_count": null,
      "outputs": [
        {
          "output_type": "stream",
          "name": "stdout",
          "text": [
            "12\n"
          ]
        }
      ]
    },
    {
      "cell_type": "code",
      "source": [
        "#in recursion one by one we come down hit the base condition and go up until the main function who called the variable is reached\n",
        "def mul(a,b):#this relation is very close to stack the function which came in last is solved first\n",
        "    if b==1:\n",
        "        return a\n",
        "    else:\n",
        "        return a+mul(a,b-1)\n",
        "print(mul(3,4))\n"
      ],
      "metadata": {
        "id": "kzkAWYu7Zz0Z",
        "colab": {
          "base_uri": "https://localhost:8080/"
        },
        "outputId": "5f8d853c-9193-4bf1-9df3-481ecaea33f3"
      },
      "execution_count": null,
      "outputs": [
        {
          "output_type": "stream",
          "name": "stdout",
          "text": [
            "12\n"
          ]
        }
      ]
    },
    {
      "cell_type": "code",
      "source": [
        "#factorial\n",
        "def fact(n):\n",
        "    if n==1:\n",
        "        return 1\n",
        "    else:\n",
        "        return n * fact(n-1)\n",
        "\n",
        "print(fact(5))"
      ],
      "metadata": {
        "colab": {
          "base_uri": "https://localhost:8080/"
        },
        "id": "jGOitlcMa6ns",
        "outputId": "d4f72228-587b-4426-9444-387bd2e891b6"
      },
      "execution_count": null,
      "outputs": [
        {
          "output_type": "stream",
          "name": "stdout",
          "text": [
            "120\n"
          ]
        }
      ]
    },
    {
      "cell_type": "code",
      "source": [
        "n=int(input())\n",
        "if n==1:\n",
        "    print(1)\n",
        "\n",
        "else:\n",
        "    fact=1\n",
        "    for i in range(1,n+1):\n",
        "        fact=fact*i\n",
        "    print(fact)\n",
        "\n",
        "\n"
      ],
      "metadata": {
        "colab": {
          "base_uri": "https://localhost:8080/"
        },
        "id": "vRtAx7MUc65D",
        "outputId": "d144fac9-6ea0-4a97-b600-4cc7710a0a10"
      },
      "execution_count": null,
      "outputs": [
        {
          "output_type": "stream",
          "name": "stdout",
          "text": [
            "1\n",
            "1\n"
          ]
        }
      ]
    },
    {
      "cell_type": "code",
      "source": [
        "#palindrome"
      ],
      "metadata": {
        "id": "ILAox9wGedQb"
      },
      "execution_count": null,
      "outputs": []
    },
    {
      "cell_type": "code",
      "source": [
        "def palindrome(n):\n",
        "    if len(n)<=1:\n",
        "        print(\"palindrome\")\n",
        "    else:\n",
        "        if n[0]==n[-1]:\n",
        "            palindrome(n[1:-1])\n",
        "        else:\n",
        "            print(\"not palindrome\")\n",
        "palindrome(\"abba\")\n"
      ],
      "metadata": {
        "colab": {
          "base_uri": "https://localhost:8080/"
        },
        "id": "O2D7pXozdFUb",
        "outputId": "20d039d2-c54f-456b-9eff-6a1c7994d706"
      },
      "execution_count": null,
      "outputs": [
        {
          "output_type": "stream",
          "name": "stdout",
          "text": [
            "palindrome\n"
          ]
        }
      ]
    },
    {
      "cell_type": "code",
      "source": [
        "def palindrome(n):\n",
        "    if n==n[::-1]:\n",
        "        print('palindrome')\n",
        "    else:\n",
        "        print('not palindrome')\n",
        "palindrome(\"madam\")\n"
      ],
      "metadata": {
        "colab": {
          "base_uri": "https://localhost:8080/"
        },
        "id": "3do_Whr5f5YC",
        "outputId": "99b01cab-ca77-4b59-e13f-03c6674078cc"
      },
      "execution_count": null,
      "outputs": [
        {
          "output_type": "stream",
          "name": "stdout",
          "text": [
            "palindrome\n"
          ]
        }
      ]
    },
    {
      "cell_type": "code",
      "source": [
        "#rabbit problem\n",
        "#fibonnaci\n",
        "def fibnnaci(n):\n",
        "    if n==0 or n==1:\n",
        "        return 1\n",
        "    else:\n",
        "        return fibnnaci(n-1) +fibnnaci(n-2)\n",
        "fibnnaci(12)\n",
        "\n"
      ],
      "metadata": {
        "colab": {
          "base_uri": "https://localhost:8080/"
        },
        "id": "oZqIjCwsgfIx",
        "outputId": "e11d9c2c-904c-45ff-8940-53c295a73126"
      },
      "execution_count": null,
      "outputs": [
        {
          "output_type": "execute_result",
          "data": {
            "text/plain": [
              "233"
            ]
          },
          "metadata": {},
          "execution_count": 26
        }
      ]
    },
    {
      "cell_type": "code",
      "source": [
        "def fibonnaci(n):\n",
        "    if n==0 or n==1:\n",
        "        return 1\n",
        "    else:\n",
        "        for i in range(n):\n",
        "            print(n=n[i-1]+n[i-2])\n",
        "\n",
        "\n",
        "\n",
        "\n",
        "\n",
        "\n",
        "fibnnaci(12)"
      ],
      "metadata": {
        "colab": {
          "base_uri": "https://localhost:8080/"
        },
        "id": "-OWAMST9iUQy",
        "outputId": "d5ce892f-c88f-4bf3-ed68-3346bf1b4375"
      },
      "execution_count": null,
      "outputs": [
        {
          "output_type": "execute_result",
          "data": {
            "text/plain": [
              "233"
            ]
          },
          "metadata": {},
          "execution_count": 35
        }
      ]
    },
    {
      "cell_type": "code",
      "source": [
        "n = int(input(\"Enter the number of terms: \"))\n",
        "\n",
        "if n <= 0:\n",
        "    print(\"Please enter a positive integer.\")\n",
        "else:\n",
        "    a, b = 0, 1\n",
        "    print(\"Fibonacci sequence:\")\n",
        "    for _ in range(n):\n",
        "\n",
        "        print(a, end=\" \")\n",
        "        a, b = b, a + b\n",
        "\n"
      ],
      "metadata": {
        "colab": {
          "base_uri": "https://localhost:8080/"
        },
        "id": "Aa7wqDuEjRBH",
        "outputId": "9cc43192-92ba-446d-d233-5e78af33f0d6"
      },
      "execution_count": null,
      "outputs": [
        {
          "output_type": "stream",
          "name": "stdout",
          "text": [
            "Enter the number of terms: 6\n",
            "Fibonacci sequence:\n",
            "0 1 1 2 3 5 "
          ]
        }
      ]
    },
    {
      "cell_type": "code",
      "source": [
        "def table(n):\n",
        "    i=1\n",
        "    while i<=10:\n",
        "        mul=n*i\n",
        "        print(n,\"*\",i,\"=\",mul)\n",
        "        i=i+1\n",
        "table(2)"
      ],
      "metadata": {
        "colab": {
          "base_uri": "https://localhost:8080/"
        },
        "id": "6mAdrK57oEHw",
        "outputId": "3141b6be-9f5a-4ec2-f4e7-9f06c70dc99b"
      },
      "execution_count": null,
      "outputs": [
        {
          "output_type": "stream",
          "name": "stdout",
          "text": [
            "2 * 1 = 2\n",
            "2 * 2 = 4\n",
            "2 * 3 = 6\n",
            "2 * 4 = 8\n",
            "2 * 5 = 10\n",
            "2 * 6 = 12\n",
            "2 * 7 = 14\n",
            "2 * 8 = 16\n",
            "2 * 9 = 18\n",
            "2 * 10 = 20\n"
          ]
        }
      ]
    },
    {
      "cell_type": "code",
      "source": [
        "#memorization -very tough\n",
        "def memo(m,d):\n",
        "    if m in d:\n",
        "        return d[m]\n",
        "    else:\n",
        "        d[m]=memo(m-1,d)+memo(m-2,d)\n",
        "        return d[m]\n",
        "d={0:1,1:1}\n",
        "memo(48,d)\n"
      ],
      "metadata": {
        "colab": {
          "base_uri": "https://localhost:8080/"
        },
        "id": "QYFpJSWYrHZb",
        "outputId": "528e92b0-0b20-4caa-f3b2-38b3b6f9016f"
      },
      "execution_count": null,
      "outputs": [
        {
          "output_type": "execute_result",
          "data": {
            "text/plain": [
              "7778742049"
            ]
          },
          "metadata": {},
          "execution_count": 13
        }
      ]
    },
    {
      "cell_type": "code",
      "source": [
        "#power set\n",
        "#{1,2}={},{1},{2},{1,2}\n",
        "def power(sets):\n",
        "    if len(sets)==0:\n",
        "        return [[]]\n",
        "\n",
        "    first_element=sets[0]\n",
        "    rest_elements=sets[1:]\n",
        "\n",
        "    subsets_without_first=power(rest_elements)\n",
        "    subsets_with_first=[[first_element]+i for i in subsets_without_first]\n",
        "\n",
        "    return subsets_without_first+subsets_with_first\n",
        "\n",
        "print(power([1,2,3]))\n",
        "\n",
        "\n",
        "\n",
        "\n"
      ],
      "metadata": {
        "colab": {
          "base_uri": "https://localhost:8080/"
        },
        "id": "WhduoxpTsKDO",
        "outputId": "2592fbb3-0ea4-4a8c-c9da-86d1d45d9e9a"
      },
      "execution_count": null,
      "outputs": [
        {
          "output_type": "stream",
          "name": "stdout",
          "text": [
            "[[], [3], [2], [2, 3], [1], [1, 3], [1, 2], [1, 2, 3]]\n"
          ]
        }
      ]
    },
    {
      "cell_type": "markdown",
      "source": [
        "### **Lambda functions**"
      ],
      "metadata": {
        "id": "s3lo1f5Zxlnu"
      }
    },
    {
      "cell_type": "code",
      "source": [
        "#lambda is a keyword (expression means what we want to do with our input)\n",
        "#lambda input:expression\n",
        "x=lambda x:x**2#power of x is the expression\n",
        "x(2)"
      ],
      "metadata": {
        "colab": {
          "base_uri": "https://localhost:8080/"
        },
        "id": "jpY-UZmMvaaN",
        "outputId": "32fdfda8-db39-46f2-a69a-c24cd8bc7bde"
      },
      "execution_count": null,
      "outputs": [
        {
          "output_type": "execute_result",
          "data": {
            "text/plain": [
              "4"
            ]
          },
          "metadata": {},
          "execution_count": 20
        }
      ]
    },
    {
      "cell_type": "code",
      "source": [
        "a=lambda x,y:x+y\n",
        "print(a(1,2))\n",
        "print(type(a))"
      ],
      "metadata": {
        "colab": {
          "base_uri": "https://localhost:8080/"
        },
        "id": "67N-R7j2yFNH",
        "outputId": "592444f2-09fb-4b5f-9b45-6d2fbb6c0ffb"
      },
      "execution_count": null,
      "outputs": [
        {
          "output_type": "stream",
          "name": "stdout",
          "text": [
            "3\n",
            "<class 'function'>\n"
          ]
        }
      ]
    },
    {
      "cell_type": "code",
      "source": [
        "#difference between normal function and lambda function\n",
        "lambda has no return value\n",
        "lambda gives a complete function instead of value a\n",
        "lambda is one line code\n",
        "it cannot be used for code reusability\n",
        "no name for lambda(eg def has name eg as 'power')\n",
        "it is used with higher order function(to complete 1 function it need another function)\n",
        "\n",
        "\n",
        "\n"
      ],
      "metadata": {
        "id": "EaQOssknySq_"
      },
      "execution_count": null,
      "outputs": []
    },
    {
      "cell_type": "code",
      "source": [
        "b=lambda x:x[0]=='a'"
      ],
      "metadata": {
        "id": "bAR5SFh9zqwN"
      },
      "execution_count": null,
      "outputs": []
    },
    {
      "cell_type": "code",
      "source": [
        "b('banana')"
      ],
      "metadata": {
        "colab": {
          "base_uri": "https://localhost:8080/"
        },
        "id": "OwAUzVpDzv8R",
        "outputId": "2ca77698-4264-4541-ce95-01e85696a41b"
      },
      "execution_count": null,
      "outputs": [
        {
          "output_type": "execute_result",
          "data": {
            "text/plain": [
              "False"
            ]
          },
          "metadata": {},
          "execution_count": 26
        }
      ]
    },
    {
      "cell_type": "code",
      "source": [
        "b=lambda x:\"even\" if x%2==0 else \"odd\""
      ],
      "metadata": {
        "id": "1icgHAG7zx8f"
      },
      "execution_count": null,
      "outputs": []
    },
    {
      "cell_type": "code",
      "source": [
        "print(b(2))\n",
        "print(b(7))"
      ],
      "metadata": {
        "colab": {
          "base_uri": "https://localhost:8080/"
        },
        "id": "Q-5lt9uOz6jJ",
        "outputId": "e3f07662-e421-40eb-8383-149fba8e988c"
      },
      "execution_count": null,
      "outputs": [
        {
          "output_type": "stream",
          "name": "stdout",
          "text": [
            "even\n",
            "odd\n"
          ]
        }
      ]
    },
    {
      "cell_type": "code",
      "source": [
        "#higher order function\n",
        "#return the sum of :even num,odd num,num divisible by 3\n",
        "def return_sum(func,l):\n",
        "    result=0\n",
        "    for i in l:\n",
        "        if func(i):\n",
        "            result=result+i\n",
        "    return result\n",
        "l=[11,14,21,23,56,78,45,29,28]\n",
        "\n",
        "\n",
        "\n",
        "\n",
        "x=lambda x:x%2==0\n",
        "y=lambda x:x%2!=0\n",
        "z=lambda x:x%3==0\n",
        "\n",
        "print(return_sum(x,l))\n",
        "print(return_sum(y,l))\n",
        "print(return_sum(z,l))\n",
        "\n",
        "\n",
        "\n",
        "\n"
      ],
      "metadata": {
        "colab": {
          "base_uri": "https://localhost:8080/"
        },
        "id": "eGH_kc9rz7kz",
        "outputId": "c77a3d51-89a1-4ae4-b4ce-5f0b67d097d5"
      },
      "execution_count": null,
      "outputs": [
        {
          "output_type": "stream",
          "name": "stdout",
          "text": [
            "176\n",
            "129\n",
            "144\n"
          ]
        }
      ]
    },
    {
      "cell_type": "code",
      "source": [
        "#map(function(lambda),iterable(list,tuple,dict,set(for loops)) we cannot see the mapp therefore type convert to list\n",
        "#,filter,reduce\n",
        "\n",
        "\n",
        "l=[1,2,3,4,5,6,7]\n",
        "map(lambda x:x**2,l)\n",
        "list(map(lambda x:x**2,l))"
      ],
      "metadata": {
        "colab": {
          "base_uri": "https://localhost:8080/"
        },
        "id": "QJ4PHKei22Cy",
        "outputId": "3dfb39b6-407e-4c19-9e8a-0fb85f59610d"
      },
      "execution_count": null,
      "outputs": [
        {
          "output_type": "execute_result",
          "data": {
            "text/plain": [
              "[1, 4, 9, 16, 25, 36, 49]"
            ]
          },
          "metadata": {},
          "execution_count": 33
        }
      ]
    },
    {
      "cell_type": "code",
      "source": [
        "list(map(lambda x :x%2==0,l))"
      ],
      "metadata": {
        "colab": {
          "base_uri": "https://localhost:8080/"
        },
        "id": "FHf4sEq23qhA",
        "outputId": "222c2355-bd4c-43b7-e1e7-9c61cbeb3535"
      },
      "execution_count": null,
      "outputs": [
        {
          "output_type": "execute_result",
          "data": {
            "text/plain": [
              "[False, True, False, True, False, True, False]"
            ]
          },
          "metadata": {},
          "execution_count": 34
        }
      ]
    },
    {
      "cell_type": "code",
      "source": [
        "#from a dictionary get only names in the list\n",
        "students=[\n",
        "    {\n",
        "        'name':'ruchi',\n",
        "        'father':'ros',\n",
        "        'address':'xyz'\n",
        "    },{\n",
        "        'name':'ruchit',\n",
        "        'father':'rose',\n",
        "        'address':'xyzl'\n",
        "    },{\n",
        "        'name':'rushi',\n",
        "        'father':'tos',\n",
        "        'address':'aaxyz'\n",
        "    }\n",
        "]"
      ],
      "metadata": {
        "id": "jM7kFngG4DKC"
      },
      "execution_count": null,
      "outputs": []
    },
    {
      "cell_type": "code",
      "source": [
        "list(map(lambda x:x['name'],students))"
      ],
      "metadata": {
        "colab": {
          "base_uri": "https://localhost:8080/"
        },
        "id": "d6XHC_hX5Ctf",
        "outputId": "fecfca42-0667-4c3e-af90-fb5117140719"
      },
      "execution_count": null,
      "outputs": [
        {
          "output_type": "execute_result",
          "data": {
            "text/plain": [
              "['ruchi', 'ruchit', 'rushi']"
            ]
          },
          "metadata": {},
          "execution_count": 36
        }
      ]
    },
    {
      "cell_type": "code",
      "source": [
        "#filter=can put condition and filters data whereas map applies the functin on all the data\n",
        "list(filter(lambda x:x%2==0,l))\n"
      ],
      "metadata": {
        "colab": {
          "base_uri": "https://localhost:8080/"
        },
        "id": "64yZT1Q95Lzk",
        "outputId": "59f6d5c2-d0ab-43ab-82bc-73773b866ffd"
      },
      "execution_count": null,
      "outputs": [
        {
          "output_type": "execute_result",
          "data": {
            "text/plain": [
              "[2, 4, 6]"
            ]
          },
          "metadata": {},
          "execution_count": 37
        }
      ]
    },
    {
      "cell_type": "code",
      "source": [
        "fruits=['apple','orange','mango','banana']\n",
        "list(filter(lambda x:'e' in x,fruits))"
      ],
      "metadata": {
        "colab": {
          "base_uri": "https://localhost:8080/"
        },
        "id": "0kXzl9fx51NX",
        "outputId": "cf23a8ca-f41c-4a74-ec94-1dd2449b817d"
      },
      "execution_count": null,
      "outputs": [
        {
          "output_type": "execute_result",
          "data": {
            "text/plain": [
              "['apple', 'orange']"
            ]
          },
          "metadata": {},
          "execution_count": 9
        }
      ]
    },
    {
      "cell_type": "code",
      "source": [
        "#reduce=it reduces the list by applying the function given by the user(directly not available in python ,need to import\n",
        "import functools\n",
        "\n",
        "l=[1,2,3,4,5,6]\n",
        "functools.reduce(lambda x,y:x+y,l)"
      ],
      "metadata": {
        "id": "BDRK1Ne76RrJ",
        "colab": {
          "base_uri": "https://localhost:8080/"
        },
        "outputId": "5b447e55-6765-4412-968c-19ebfa259414"
      },
      "execution_count": null,
      "outputs": [
        {
          "output_type": "execute_result",
          "data": {
            "text/plain": [
              "21"
            ]
          },
          "metadata": {},
          "execution_count": 1
        }
      ]
    },
    {
      "cell_type": "code",
      "source": [
        "l1=[21,34,65,87,33]\n",
        "functools.reduce(lambda x,y: x if x>y else y,l1)"
      ],
      "metadata": {
        "colab": {
          "base_uri": "https://localhost:8080/"
        },
        "id": "Em7QqWxLVZDQ",
        "outputId": "f7efcffe-0395-43dc-d504-7c2b4a55f15d"
      },
      "execution_count": null,
      "outputs": [
        {
          "output_type": "execute_result",
          "data": {
            "text/plain": [
              "87"
            ]
          },
          "metadata": {},
          "execution_count": 2
        }
      ]
    },
    {
      "cell_type": "markdown",
      "source": [
        "### **list comprehension**"
      ],
      "metadata": {
        "id": "AQg_gabZWGj0"
      }
    },
    {
      "cell_type": "code",
      "source": [
        "#making a list from another list\n",
        "l2=[item *2 for item in l]\n",
        "print(l2)\n"
      ],
      "metadata": {
        "colab": {
          "base_uri": "https://localhost:8080/"
        },
        "id": "nEzWEDgeV2PH",
        "outputId": "d3b38872-1d87-4ec7-fad8-712f607cd7c4"
      },
      "execution_count": null,
      "outputs": [
        {
          "output_type": "stream",
          "name": "stdout",
          "text": [
            "[2, 4, 6, 8, 10, 12]\n"
          ]
        }
      ]
    },
    {
      "cell_type": "code",
      "source": [
        "l3=[i **2 for i in range(10)]\n",
        "print(l3)"
      ],
      "metadata": {
        "colab": {
          "base_uri": "https://localhost:8080/"
        },
        "id": "Lqq6V7htYyPK",
        "outputId": "269d2156-f433-4878-bbd7-f4b8275008a5"
      },
      "execution_count": null,
      "outputs": [
        {
          "output_type": "stream",
          "name": "stdout",
          "text": [
            "[0, 1, 4, 9, 16, 25, 36, 49, 64, 81]\n"
          ]
        }
      ]
    },
    {
      "cell_type": "code",
      "source": [
        "l3=[i **2 for i in range(10) if i%2!=0]\n",
        "print(l3)"
      ],
      "metadata": {
        "colab": {
          "base_uri": "https://localhost:8080/"
        },
        "id": "odm7HfvkY4xR",
        "outputId": "a4da438e-a8d6-4419-a721-c352a82dd134"
      },
      "execution_count": null,
      "outputs": [
        {
          "output_type": "stream",
          "name": "stdout",
          "text": [
            "[1, 9, 25, 49, 81]\n"
          ]
        }
      ]
    },
    {
      "cell_type": "code",
      "source": [
        "l5=[i for i in fruits if 'e' in i]\n",
        "print(l5)"
      ],
      "metadata": {
        "colab": {
          "base_uri": "https://localhost:8080/"
        },
        "id": "nSZ045eEZF1q",
        "outputId": "8cd6b89b-b699-4ea5-c89f-34bcedfcca63"
      },
      "execution_count": null,
      "outputs": [
        {
          "output_type": "stream",
          "name": "stdout",
          "text": [
            "['apple', 'orange']\n"
          ]
        }
      ]
    },
    {
      "cell_type": "code",
      "source": [
        "d1={'name':'ruchi','gender':'female','age':'21'}\n"
      ],
      "metadata": {
        "id": "KW2hijf7ZZQn"
      },
      "execution_count": null,
      "outputs": []
    },
    {
      "cell_type": "code",
      "source": [
        "#make a new dict from previous to kkep only those keys whose length is greater than 5\n",
        "\n",
        "d3={key:value for key,value in d1.items() if len(key)>3}\n",
        "print(d3)"
      ],
      "metadata": {
        "colab": {
          "base_uri": "https://localhost:8080/"
        },
        "id": "WA8AiLtJafRR",
        "outputId": "4faf028f-4483-4557-ef4c-ffbc65c34377"
      },
      "execution_count": null,
      "outputs": [
        {
          "output_type": "stream",
          "name": "stdout",
          "text": [
            "{'name': 'ruchi', 'gender': 'female'}\n"
          ]
        }
      ]
    },
    {
      "cell_type": "code",
      "source": [
        "l=[1,2,3,4,5]\n",
        "l2={x:x**2 for x in l }\n",
        "print(l2)\n"
      ],
      "metadata": {
        "colab": {
          "base_uri": "https://localhost:8080/"
        },
        "id": "FLEVqGl2bJ8i",
        "outputId": "9f710ab7-b618-4ed3-9545-55eb18cee47c"
      },
      "execution_count": null,
      "outputs": [
        {
          "output_type": "stream",
          "name": "stdout",
          "text": [
            "{1: 1, 2: 4, 3: 9, 4: 16, 5: 25}\n"
          ]
        }
      ]
    },
    {
      "cell_type": "markdown",
      "source": [
        "### **OOP**\n",
        "different technique to code"
      ],
      "metadata": {
        "id": "M52RwxcTceg1"
      }
    },
    {
      "cell_type": "code",
      "source": [
        "everything is obejct in python\n",
        "generality to specificity\n",
        "object=variable(object is in class) object is instance of class\n",
        "class=is blueprint how an object works.has 2 things=data,method(function)\n",
        "polimorphism=\n",
        "encapsulation=\n",
        "inheritance=\n",
        "abstraction=\n",
        "constructor is a spcial method inside whose code is automatically executed when we create an object\n"
      ],
      "metadata": {
        "id": "XoMPm2aTcTZf"
      },
      "execution_count": null,
      "outputs": []
    },
    {
      "cell_type": "code",
      "source": [
        "#class\n",
        "l=[1,2,3]\n",
        "data type is class and if we create variable of that data type is called object\n",
        "so l is object if list class\n",
        "name of class should be in pascal case This Is PascalCase\n",
        "data is always private and method can be public or private\n",
        "#function vs method=methods are functions written inside a class\n",
        "len(l)#len is a function but is called outside the l\n",
        "l.append(1)#append is also a function but is call after l\n",
        "becoz len is function which is general and append is method of list\n"
      ],
      "metadata": {
        "id": "NYBe_anBfykx"
      },
      "execution_count": null,
      "outputs": []
    },
    {
      "cell_type": "code",
      "source": [
        "class Atm:\n",
        "    #to declare the variables we need to use init\n",
        "\n",
        "    def __init__(self):\n",
        "        self.pin=''\n",
        "        self.balance=0\n",
        "\n",
        "        self.menu()\n",
        "        print(id(self))\n",
        "    def menu(self):\n",
        "        user_input=input(\"\"\"\n",
        "        Hello ,how would you like to proceed?\n",
        "        1.Enter 1 to sreate pin.\n",
        "        2 Enter 2 to deposit.\n",
        "        3 Enter 3 to withdraw.\n",
        "        4 Enter 4 to check balance.\n",
        "        5 Enter 5 yo exit.\n",
        "         \"\"\")\n",
        "\n",
        "        if user_input==\"1\":\n",
        "            self.create_pin()\n",
        "\n",
        "        elif user_input==\"2\":\n",
        "            self.deposit()\n",
        "\n",
        "        elif user_input=='3':\n",
        "            self.withdraw()\n",
        "\n",
        "\n",
        "        elif user_input==\"4\":\n",
        "            self.check_balance()\n",
        "\n",
        "        else:\n",
        "            print('Bye')\n",
        "\n",
        "\n",
        "    def create_pin(self):\n",
        "        self.pin=input(\"Enter ypur pin\")\n",
        "        print(\"Pin set successfully.\")\n",
        "\n",
        "\n",
        "    def deposit(self):\n",
        "        temp=input(\"Enter your pin\")\n",
        "        if temp==self.pin:\n",
        "            amount=int(input(\"Enter the amount\"))\n",
        "            self.balance=self.balance+amount\n",
        "            print(\"Deposit successfull\")\n",
        "        else:\n",
        "            print(\"Invalid pin\")\n",
        "\n",
        "    def withdraw(self):\n",
        "        temp=input(\"Enter ypur pin\")\n",
        "        if temp== self.pin:\n",
        "            amount=input(\"enter the amount to widthdraw:\")\n",
        "            if amount<self.balance:\n",
        "                self.balance=self.balance-amount\n",
        "                print(\"Widthraw successful\")\n",
        "            else:\n",
        "                print(\"insufficient balance.\")\n",
        "        else:\n",
        "            print(\"invalid pin\")\n",
        "\n",
        "    def check_balance(self):\n",
        "        temp=input(\"Enter your pin:\")\n",
        "        if temp==self.pin:\n",
        "            print(self.balance)\n",
        "        else:\n",
        "            print(\"invalid pin\")\n",
        "\n"
      ],
      "metadata": {
        "id": "BpAhzFglhToc"
      },
      "execution_count": null,
      "outputs": []
    },
    {
      "cell_type": "code",
      "source": [
        "sbi=Atm()"
      ],
      "metadata": {
        "colab": {
          "base_uri": "https://localhost:8080/"
        },
        "id": "0yBPCh-Grg1z",
        "outputId": "5d814275-4d6a-49ad-ad5e-5f51fe691192"
      },
      "execution_count": null,
      "outputs": [
        {
          "output_type": "stream",
          "name": "stdout",
          "text": [
            "\n",
            "        Hello ,how would you like to proceed?\n",
            "        1.Enter 1 to sreate pin.\n",
            "        2 Enter 2 to deposit.\n",
            "        3 Enter 3 to withdraw.\n",
            "        4 Enter 4 to check balance.\n",
            "        5 Enter 5 yo exit.\n",
            "         1\n",
            "Enter ypur pin123\n",
            "Pin set successfully.\n",
            "134591166917712\n"
          ]
        }
      ]
    },
    {
      "cell_type": "code",
      "source": [
        "sbi.check_balance()\n"
      ],
      "metadata": {
        "colab": {
          "base_uri": "https://localhost:8080/"
        },
        "id": "lWNodcDKrvWh",
        "outputId": "5ff1b48b-4bcb-4c96-91d0-23fedab6a35c"
      },
      "execution_count": null,
      "outputs": [
        {
          "output_type": "stream",
          "name": "stdout",
          "text": [
            "Enter your pin:1234\n",
            "0\n"
          ]
        }
      ]
    },
    {
      "cell_type": "code",
      "source": [
        "#special method=magic methods,dunder methods(constructor)\n",
        "what is the utility of the constructor\n",
        "it includes the function that you want to start without asking the user (internet connectivity,database connectivity)"
      ],
      "metadata": {
        "id": "WRK2Rs5kuXJH"
      },
      "execution_count": null,
      "outputs": []
    },
    {
      "cell_type": "code",
      "source": [
        "print(id(sbi))"
      ],
      "metadata": {
        "colab": {
          "base_uri": "https://localhost:8080/"
        },
        "id": "qRQcFwMGx1vR",
        "outputId": "74206220-c668-45b9-86e6-216a4b827312"
      },
      "execution_count": null,
      "outputs": [
        {
          "output_type": "stream",
          "name": "stdout",
          "text": [
            "134591166917712\n"
          ]
        }
      ]
    },
    {
      "cell_type": "code",
      "source": [
        "the id of self and sbi(object is same)it changes with different objects\n"
      ],
      "metadata": {
        "id": "dTBNBRNCzGit"
      },
      "execution_count": null,
      "outputs": []
    },
    {
      "cell_type": "code",
      "source": [
        "#creating a data type to hold fraction operation\n",
        "class fraction:\n",
        "    def __init__(self,n,d):\n",
        "        self.num=n\n",
        "        self.den=d\n",
        "\n",
        "    #magic method(constructor)\n",
        "    def __str__(self):\n",
        "        return \"{}/{}\".format(self.num,self.den)\n",
        "\n",
        "    # automatically triggres if we put + sign between the objects\n",
        "    def __add__(self,other):\n",
        "        temp_num=self.num*other.den + other.num*self.den\n",
        "        temp_den=self.den*other.den\n",
        "        return \"{}/{}\".format(temp_num,temp_den)\n",
        "#magic method for subtraction of 2 objects\n",
        "\n",
        "    def __sub__(self,other):\n",
        "        temp_num=self.num*other.den- other.num*self.den\n",
        "        temp_den=self.den*other.den\n",
        "        return \"{}/{}\".format(temp_num,temp_den)\n",
        "\n",
        "    def __mul__(self,other):\n",
        "        temp_num=self.num* other.num\n",
        "        temp_den=self.den*other.den\n",
        "        return \"{}/{}\".format(temp_num,temp_den)\n",
        "\n",
        "\n",
        "\n",
        "\n"
      ],
      "metadata": {
        "id": "dS5-9pXb_j89"
      },
      "execution_count": null,
      "outputs": []
    },
    {
      "cell_type": "code",
      "source": [
        "x=fraction(4,5)\n",
        "y=fraction(5,6)\n",
        "print(x)\n",
        "print(y)\n",
        "print(x+y)"
      ],
      "metadata": {
        "colab": {
          "base_uri": "https://localhost:8080/"
        },
        "id": "PlHHsvsHAeyo",
        "outputId": "ef86e827-e869-4e25-b199-e7f1e2e7807b"
      },
      "execution_count": null,
      "outputs": [
        {
          "output_type": "stream",
          "name": "stdout",
          "text": [
            "4/5\n",
            "5/6\n",
            "49/30\n"
          ]
        }
      ]
    },
    {
      "cell_type": "code",
      "source": [
        "print(x-y)"
      ],
      "metadata": {
        "colab": {
          "base_uri": "https://localhost:8080/"
        },
        "id": "w94w0J_dAiiy",
        "outputId": "2c7b0567-0c81-4ce7-dcc3-3b9e30f516d7"
      },
      "execution_count": null,
      "outputs": [
        {
          "output_type": "stream",
          "name": "stdout",
          "text": [
            "-1/30\n"
          ]
        }
      ]
    },
    {
      "cell_type": "code",
      "source": [
        "print(x*y)"
      ],
      "metadata": {
        "colab": {
          "base_uri": "https://localhost:8080/"
        },
        "id": "J0wjiVEGVtU_",
        "outputId": "b121fd86-4188-43b2-d748-c7b3c6cb0a7a"
      },
      "execution_count": null,
      "outputs": [
        {
          "output_type": "stream",
          "name": "stdout",
          "text": [
            "20/30\n"
          ]
        }
      ]
    },
    {
      "cell_type": "markdown",
      "source": [
        "### **Encapsulation**"
      ],
      "metadata": {
        "id": "Z7bB83wpWXh5"
      }
    },
    {
      "cell_type": "code",
      "source": [
        "#instance variables=variable made in constructor whose value for all objects is different\n",
        "class Atm:\n",
        "    #to declare the variables we need to use init\n",
        "\n",
        "    def __init__(self):\n",
        "        self.__pin=''\n",
        "        self.__balance=0\n",
        "\n",
        "        self.menu()\n",
        "\n",
        "    def get_pin(self):# this is called encapsulation\n",
        "        return self.__pin\n",
        "\n",
        "    def set_pin(self,new_pin):\n",
        "        if type(new_pin)==str:\n",
        "            self.__pin=new_pin\n",
        "            print(\"pin changed\")\n",
        "        else:\n",
        "            print(\"not allowed\")\n",
        "\n",
        "    def menu(self):\n",
        "        user_input=input(\"\"\"\n",
        "        Hello ,how would you like to proceed?\n",
        "        1.Enter 1 to sreate pin.\n",
        "        2 Enter 2 to deposit.\n",
        "        3 Enter 3 to withdraw.\n",
        "        4 Enter 4 to check balance.\n",
        "        5 Enter 5 yo exit.\n",
        "         \"\"\")\n",
        "\n",
        "        if user_input==\"1\":\n",
        "            self.create_pin()\n",
        "\n",
        "        elif user_input==\"2\":\n",
        "            self.deposit()\n",
        "\n",
        "        elif user_input=='3':\n",
        "            self.withdraw()\n",
        "\n",
        "\n",
        "        elif user_input==\"4\":\n",
        "            self.check_balance()\n",
        "\n",
        "        else:\n",
        "            print('Bye')\n",
        "\n",
        "\n",
        "    def create_pin(self):\n",
        "        self.__pin=input(\"Enter ypur pin\")\n",
        "        print(\"Pin set successfully.\")\n",
        "\n",
        "\n",
        "    def deposit(self):\n",
        "        temp=input(\"Enter your pin\")\n",
        "        if temp==self.__pin:\n",
        "            amount=int(input(\"Enter the amount\"))\n",
        "            self.__balance=self.__balance+amount\n",
        "            print(\"Deposit successfull\")\n",
        "        else:\n",
        "            print(\"Invalid pin\")\n",
        "\n",
        "    def withdraw(self):\n",
        "        temp=input(\"Enter ypur pin\")\n",
        "        if temp== self.__pin:\n",
        "            amount=input(\"enter the amount to widthdraw:\")\n",
        "            if amount<self.balance:\n",
        "                self.__balance=self.__balance-amount\n",
        "                print(\"Widthraw successful\")\n",
        "            else:\n",
        "                print(\"insufficient balance.\")\n",
        "        else:\n",
        "            print(\"invalid pin\")\n",
        "\n",
        "    def check_balance(self):\n",
        "        temp=input(\"Enter your pin:\")\n",
        "        if temp==self.__pin:\n",
        "            print(self.__balance)\n",
        "        else:\n",
        "            print(\"invalid pin\")\n",
        "\n"
      ],
      "metadata": {
        "id": "2Ke0kGeNWA72"
      },
      "execution_count": null,
      "outputs": []
    },
    {
      "cell_type": "code",
      "source": [
        "sbi=Atm()"
      ],
      "metadata": {
        "colab": {
          "base_uri": "https://localhost:8080/"
        },
        "id": "oWuit-gfXH0T",
        "outputId": "69fbb297-e934-4724-a5b9-6c450f7bbcc7"
      },
      "execution_count": null,
      "outputs": [
        {
          "output_type": "stream",
          "name": "stdout",
          "text": [
            "\n",
            "        Hello ,how would you like to proceed?\n",
            "        1.Enter 1 to sreate pin.\n",
            "        2 Enter 2 to deposit.\n",
            "        3 Enter 3 to withdraw.\n",
            "        4 Enter 4 to check balance.\n",
            "        5 Enter 5 yo exit.\n",
            "         1\n",
            "Enter ypur pin1234\n",
            "Pin set successfully.\n"
          ]
        }
      ]
    },
    {
      "cell_type": "code",
      "source": [
        "#when we do sbi. we can  see the costructor variables along with the methods ||self.__pin does not allow the variable to be used out of the class\n",
        "sbi.get_pin()                                                        # this above method can also be used for the method if we dont want to show it"
      ],
      "metadata": {
        "colab": {
          "base_uri": "https://localhost:8080/",
          "height": 35
        },
        "id": "7RxxzvqwXMkf",
        "outputId": "6c3f7ad4-ba97-40f2-c388-4407edad2d8e"
      },
      "execution_count": null,
      "outputs": [
        {
          "output_type": "execute_result",
          "data": {
            "text/plain": [
              "'1234'"
            ],
            "application/vnd.google.colaboratory.intrinsic+json": {
              "type": "string"
            }
          },
          "metadata": {},
          "execution_count": 80
        }
      ]
    },
    {
      "cell_type": "code",
      "source": [
        "sbi.set_pin(4.2)"
      ],
      "metadata": {
        "colab": {
          "base_uri": "https://localhost:8080/"
        },
        "id": "xJHsuEY6eWfc",
        "outputId": "9cfddb44-287c-4949-9dbd-e23a786a9fe2"
      },
      "execution_count": null,
      "outputs": [
        {
          "output_type": "stream",
          "name": "stdout",
          "text": [
            "not allowed\n"
          ]
        }
      ]
    },
    {
      "cell_type": "code",
      "source": [
        "sbi.__balance=\"dkdfkhvbf\"#updating balance"
      ],
      "metadata": {
        "id": "cyo736pUYqr8"
      },
      "execution_count": null,
      "outputs": []
    },
    {
      "cell_type": "code",
      "source": [
        "sbi.check_balance()#but still shows 0"
      ],
      "metadata": {
        "colab": {
          "base_uri": "https://localhost:8080/"
        },
        "id": "OapSFmHuZzN9",
        "outputId": "03fe9cc5-d159-4aef-ab5d-0678af4ff20a"
      },
      "execution_count": null,
      "outputs": [
        {
          "output_type": "stream",
          "name": "stdout",
          "text": [
            "Enter your pin:123\n",
            "0\n"
          ]
        }
      ]
    },
    {
      "cell_type": "code",
      "source": [
        "becoz __balance becomes _Atm__balance so when the object calls sbi.__balance() this variable is not used anywhere in the code therefore no update\n",
        "nothing in python is truely private\n"
      ],
      "metadata": {
        "id": "U8E4kOzaZ3pT"
      },
      "execution_count": null,
      "outputs": []
    },
    {
      "cell_type": "code",
      "source": [
        "#encapsulation\n",
        "when you dont want your data easily publically accessible\n",
        "make 2 methods getter and setter\n",
        "1 data member and 2 methods are used together\n",
        "imp-make the class diagram\n"
      ],
      "metadata": {
        "id": "-jBIp63vdcIm"
      },
      "execution_count": null,
      "outputs": []
    },
    {
      "cell_type": "code",
      "source": [
        "\n",
        "\n",
        "\n",
        "\n",
        "# Data\n",
        "X = [1, 2, 3, 4, 5]\n",
        "y = [2.2, 2.8, 4.5, 3.7, 5.5]\n",
        "\n",
        "# Calculate means\n",
        "mean_X = sum(X) / len(X)\n",
        "mean_y = sum(y) / len(y)\n",
        "\n",
        "# Calculate slope (m) and intercept (c)\n",
        "numerator = sum((X[i] - mean_X) * (y[i] - mean_y) for i in range(len(X)))\n",
        "denominator = sum((X[i] - mean_X) ** 2 for i in range(len(X)))\n",
        "m = numerator / denominator\n",
        "c = mean_y - m * mean_X\n",
        "\n",
        "# Print results\n",
        "print(f\"Slope (m): {m}\")\n",
        "print(f\"Intercept (c): {c}\")\n",
        "\n",
        "# Predicted values\n",
        "y_pred = [m * x + c for x in X]\n",
        "print(\"Predicted values:\", y_pred)\n",
        "\n",
        "# Plotting the graph\n",
        "plt.scatter(X, y, color='blue', label='Data Points')  # Original data points\n",
        "plt.plot(X, y_pred, color='red', label='Fitted Line')  # Regression line\n",
        "plt.xlabel('X (Input)')\n",
        "plt.ylabel('y (Output)')\n",
        "plt.title('Linear Regression')\n",
        "plt.legend()\n",
        "plt.show()\n"
      ],
      "metadata": {
        "colab": {
          "base_uri": "https://localhost:8080/",
          "height": 524
        },
        "id": "Ipl08DhH0JeD",
        "outputId": "bc36ed71-37c3-4e64-c47a-8542020b2dc2"
      },
      "execution_count": null,
      "outputs": [
        {
          "output_type": "stream",
          "name": "stdout",
          "text": [
            "Slope (m): 0.75\n",
            "Intercept (c): 1.4899999999999998\n",
            "Predicted values: [2.2399999999999998, 2.9899999999999998, 3.7399999999999998, 4.49, 5.24]\n"
          ]
        },
        {
          "output_type": "display_data",
          "data": {
            "text/plain": [
              "<Figure size 640x480 with 1 Axes>"
            ],
            "image/png": "[encoded data removed]"
          },
          "metadata": {}
        }
      ]
    },
    {
      "cell_type": "code",
      "source": [
        "n=int(input())\n",
        "for i in range(1,n+1):\n",
        "    forward=\"\".join(str(x) for x in range(1,i+1))\n",
        "    backward=\"\".join(str(x) for x in range(i-1,0,-1))\n",
        "\n",
        "    print(forward+backward)\n"
      ],
      "metadata": {
        "id": "8bZV2tL50TZh",
        "colab": {
          "base_uri": "https://localhost:8080/"
        },
        "outputId": "4d1abc41-7a80-4cdd-da2d-006e22cde8fd"
      },
      "execution_count": null,
      "outputs": [
        {
          "output_type": "stream",
          "name": "stdout",
          "text": [
            "5\n",
            "1\n",
            "121\n",
            "12321\n",
            "1234321\n",
            "123454321\n"
          ]
        }
      ]
    },
    {
      "cell_type": "markdown",
      "source": [
        "### **Refrencce variable**"
      ],
      "metadata": {
        "id": "K1cKAPJiwGTX"
      }
    },
    {
      "cell_type": "code",
      "source": [],
      "metadata": {
        "id": "G14QgS4xsZIQ"
      },
      "execution_count": null,
      "outputs": []
    },
    {
      "cell_type": "code",
      "source": [
        "\n"
      ],
      "metadata": {
        "id": "K4GZDT6iuozE"
      },
      "execution_count": null,
      "outputs": []
    },
    {
      "cell_type": "code",
      "source": [
        "\"\"\"*\n",
        "**\n",
        "***\n",
        "**\n",
        "*\n",
        "\n",
        "n=3\"\"\"\n",
        "\n",
        "n=int(input())\n",
        "for i in range(1,n+1):\n",
        "    print(\"*\"*i)\n",
        "\n",
        "for i in range(n-1,0,-1):\n",
        "    print(\"*\"*i)\n",
        "\n",
        "\n",
        "\n",
        "\n"
      ],
      "metadata": {
        "colab": {
          "base_uri": "https://localhost:8080/"
        },
        "id": "qp2Fcr5iupK-",
        "outputId": "2c84832d-c3f2-4db6-eb35-3ddfdb649124"
      },
      "execution_count": null,
      "outputs": [
        {
          "output_type": "stream",
          "name": "stdout",
          "text": [
            "4\n",
            "*\n",
            "**\n",
            "***\n",
            "****\n",
            "***\n",
            "**\n",
            "*\n"
          ]
        }
      ]
    },
    {
      "cell_type": "code",
      "source": [
        "n=int(input())\n",
        "for i in range(1,n+1):\n",
        "    print(\" \"*(n-i)+\"*\"*i)\n",
        "\n",
        "for i in range(n-1,0,-1):\n",
        "    print(\" \"*(n-i)+\"*\"*i)"
      ],
      "metadata": {
        "colab": {
          "base_uri": "https://localhost:8080/"
        },
        "id": "BHGpIrwrwt_q",
        "outputId": "3026fed6-cadd-445f-a95e-530dda777b77"
      },
      "execution_count": null,
      "outputs": [
        {
          "output_type": "stream",
          "name": "stdout",
          "text": [
            "4\n",
            "   *\n",
            "  **\n",
            " ***\n",
            "****\n",
            " ***\n",
            "  **\n",
            "   *\n"
          ]
        }
      ]
    },
    {
      "cell_type": "code",
      "source": [
        "n=int(input())\n",
        "for i in range(1,n+1):\n",
        "    print(\"*\"*i)"
      ],
      "metadata": {
        "colab": {
          "base_uri": "https://localhost:8080/"
        },
        "id": "-PKgM40lyOtJ",
        "outputId": "c5b8c59a-06c8-42fa-d0e4-e9e529c8bd45"
      },
      "execution_count": null,
      "outputs": [
        {
          "output_type": "stream",
          "name": "stdout",
          "text": [
            "4\n",
            "*\n",
            "**\n",
            "***\n",
            "****\n"
          ]
        }
      ]
    },
    {
      "cell_type": "code",
      "source": [
        "Atm()#as we have not saved our class in any object variable therefore the object is lost"
      ],
      "metadata": {
        "colab": {
          "base_uri": "https://localhost:8080/"
        },
        "id": "ugmK1jT8yclq",
        "outputId": "22faae29-65a5-4d5b-c5da-56fee85a19fd"
      },
      "execution_count": null,
      "outputs": [
        {
          "output_type": "stream",
          "name": "stdout",
          "text": [
            "\n",
            "        Hello ,how would you like to proceed?\n",
            "        1.Enter 1 to sreate pin.\n",
            "        2 Enter 2 to deposit.\n",
            "        3 Enter 3 to withdraw.\n",
            "        4 Enter 4 to check balance.\n",
            "        5 Enter 5 yo exit.\n",
            "         1\n",
            "Enter ypur pin1234\n",
            "Pin set successfully.\n"
          ]
        },
        {
          "output_type": "execute_result",
          "data": {
            "text/plain": [
              "<__main__.Atm at 0x7a1732ed2d40>"
            ]
          },
          "metadata": {},
          "execution_count": 32
        }
      ]
    },
    {
      "cell_type": "code",
      "source": [
        "#Atm() is formed as object and the refrence of that variable is saved in sbi\n",
        "so sbi is a refrence variable"
      ],
      "metadata": {
        "id": "x_ddExIuynFm"
      },
      "execution_count": null,
      "outputs": []
    },
    {
      "cell_type": "markdown",
      "source": [
        "Pass by refrence"
      ],
      "metadata": {
        "id": "WNWHkmrK3sEY"
      }
    },
    {
      "cell_type": "code",
      "source": [
        "class Customer:\n",
        "    def __init__(self,name,gender):\n",
        "        self.name=name\n",
        "        self.gender=gender\n",
        "\n",
        "\n",
        "#this is outside of class\n",
        "def greet(customer):\n",
        "    if customer.gender=='male':\n",
        "        print(\"hello\",customer.name,\"sir\")\n",
        "    else:\n",
        "        print(\"hello\",customer.name,\"mam\")\n",
        "\n",
        "\n",
        "cust=Customer(\"Ruchi\",'female')\n",
        "print(cust.name)\n",
        "print(cust.gender)\n",
        "\n",
        "greet(cust)"
      ],
      "metadata": {
        "colab": {
          "base_uri": "https://localhost:8080/"
        },
        "id": "oMLX5Vxt3tbx",
        "outputId": "6e0740f3-b3e5-453b-b984-a1c517c7d593"
      },
      "execution_count": null,
      "outputs": [
        {
          "output_type": "stream",
          "name": "stdout",
          "text": [
            "Ruchi\n",
            "female\n",
            "hello Ruchi mam\n"
          ]
        }
      ]
    },
    {
      "cell_type": "code",
      "source": [
        "class Customer:\n",
        "    def __init__(self,name):\n",
        "        self.name=name\n",
        "\n",
        "def greet(customer):\n",
        "    print(id(customer))\n",
        "\n",
        "cust=Customer(\"Ruchi\")\n",
        "print(id(cust))\n",
        "\n",
        "greet(cust)\n",
        "print(cust.name)\n",
        "#both hase same ids it works as aliasing"
      ],
      "metadata": {
        "colab": {
          "base_uri": "https://localhost:8080/"
        },
        "id": "EqDWphzx4gPA",
        "outputId": "723d962f-c3ed-42b7-c8aa-712e98e0e77a"
      },
      "execution_count": null,
      "outputs": [
        {
          "output_type": "stream",
          "name": "stdout",
          "text": [
            "134240057046016\n",
            "134240057046016\n"
          ]
        }
      ]
    },
    {
      "cell_type": "code",
      "source": [
        "class Customer:\n",
        "    def __init__(self,name):\n",
        "        self.name=name\n",
        "\n",
        "def greet(customer):#as the id is same therefore customer is a mutable data type\n",
        "    customer.name='Ruchi'\n",
        "    print(customer.name)\n",
        "    print(id(customer))\n",
        "\n",
        "cust=Customer(\"Ankita\") #the first original object gets changes becoz of the function\n",
        "print(id(cust))\n",
        "\n",
        "greet(cust)\n",
        "print(cust.name)\n",
        "#both hase same ids it works as aliasing\n",
        "\n",
        "#objects of class are mutable like list,dict,sets"
      ],
      "metadata": {
        "colab": {
          "base_uri": "https://localhost:8080/"
        },
        "id": "dekJE3RZ6_DG",
        "outputId": "81196c3c-863f-4dac-ac9f-2d97ea49914a"
      },
      "execution_count": null,
      "outputs": [
        {
          "output_type": "stream",
          "name": "stdout",
          "text": [
            "134240059395808\n",
            "Ruchi\n",
            "134240059395808\n",
            "Ruchi\n"
          ]
        }
      ]
    },
    {
      "cell_type": "code",
      "source": [
        "def change(l):\n",
        "    print(id(l))\n",
        "    l.append(5)\n",
        "    print(id(l))\n",
        "\n",
        "l1=[1,2,3,4]\n",
        "print(id(l1))\n",
        "print(l1)\n",
        "change(l1[:])#this is cloning\n",
        "print(l1)\n",
        "#all things are done on single list so to make seperate list apply cloning"
      ],
      "metadata": {
        "colab": {
          "base_uri": "https://localhost:8080/"
        },
        "id": "14-oHPcZAPs4",
        "outputId": "974f6cf2-44b5-45ab-d66b-c73dfdb954d9"
      },
      "execution_count": null,
      "outputs": [
        {
          "output_type": "stream",
          "name": "stdout",
          "text": [
            "134240048237248\n",
            "[1, 2, 3, 4]\n",
            "134240048237248\n",
            "134240048237248\n",
            "[1, 2, 3, 4, 5]\n"
          ]
        }
      ]
    },
    {
      "cell_type": "code",
      "source": [
        "def change(t):\n",
        "    print(id(t))\n",
        "    t=t+(5,6)\n",
        "    print(id(t))\n",
        "\n",
        "t1=(1,2,3,4)\n",
        "print(id(t1))\n",
        "print(t1)\n",
        "\n",
        "change(t1)\n",
        "print(t1)\n",
        "#but in tuple the location is different becoz a new tuple is formed"
      ],
      "metadata": {
        "colab": {
          "base_uri": "https://localhost:8080/"
        },
        "id": "TwAFu49OBtzJ",
        "outputId": "73328278-1891-4efa-d76d-caac208a10fd"
      },
      "execution_count": null,
      "outputs": [
        {
          "output_type": "stream",
          "name": "stdout",
          "text": [
            "134240048283952\n",
            "(1, 2, 3, 4)\n",
            "134240048283952\n",
            "134240051083392\n",
            "(1, 2, 3, 4)\n"
          ]
        }
      ]
    },
    {
      "cell_type": "markdown",
      "source": [
        "### **collection of objects**"
      ],
      "metadata": {
        "id": "EEkD2Jf7GyWt"
      }
    },
    {
      "cell_type": "code",
      "source": [
        "class Customer:\n",
        "    def __init__(self,name,age):\n",
        "        self.name=name\n",
        "        self.age=age\n",
        "\n",
        "    def intro(self):\n",
        "        print(\"hi I am\",self.name,\"and I am\",self.age)\n",
        "\n",
        "\n",
        "c1=Customer('Ruchi',21)\n",
        "c2=Customer('Harshi',22)\n",
        "c3=Customer('Rishi',23)\n",
        "\n",
        "l=[c1,c2,c3]\n",
        "\n",
        "for i in l:\n",
        "    print(i)#not printed becoz cannot print the list\n",
        "    print(i.name)\n",
        "    print(i.age)\n",
        "\n",
        "for i in l:#uses the intro function\n",
        "    i.intro()\n",
        "\n",
        "\n",
        "this is a type of loop which does not work on the sets becoz object itself is\n",
        "mutable and inside list the data should be immutable"
      ],
      "metadata": {
        "colab": {
          "base_uri": "https://localhost:8080/"
        },
        "id": "Tv4fbYCnGbCd",
        "outputId": "d972ef23-3832-4fba-e5bd-8f66eb9cdae1"
      },
      "execution_count": null,
      "outputs": [
        {
          "output_type": "stream",
          "name": "stdout",
          "text": [
            "<__main__.Customer object at 0x7a1732b60700>\n",
            "Ruchi\n",
            "21\n",
            "<__main__.Customer object at 0x7a1732b60280>\n",
            "Harshi\n",
            "22\n",
            "<__main__.Customer object at 0x7a1732b605e0>\n",
            "Rishi\n",
            "23\n",
            "hi I am Ruchi and I am 21\n",
            "hi I am Harshi and I am 22\n",
            "hi I am Rishi and I am 23\n"
          ]
        }
      ]
    },
    {
      "cell_type": "markdown",
      "source": [
        "Static-a variable whose value for all objects is same"
      ],
      "metadata": {
        "id": "jJlhggM4JMZY"
      }
    },
    {
      "cell_type": "code",
      "source": [
        "\n",
        "#instance variables=variable made in constructor whose value for all objects is different\n",
        "class Atm:\n",
        "    #to declare the variables we need to use init\n",
        "    __counter=1\n",
        "\n",
        "    def __init__(self):\n",
        "        self.__pin=''\n",
        "        self.__balance=0\n",
        "        self.sno=Atm.__counter#how to use static variable\n",
        "        Atm.__counter=Atm.__counter+1\n",
        "\n",
        "        #self.menu()\n",
        "\n",
        "\n",
        "    @staticmethod#this signifies that to use this methods we do not need objects\n",
        "    def get_counter():\n",
        "        return Atm.__counter\n",
        "\n",
        "    @staticmethod\n",
        "    def set_counter(new):\n",
        "        if type(new)==int:\n",
        "            Atm.__counter=new\n",
        "        else:\n",
        "            print(\"not allowed\")\n",
        "\n",
        "    def get_pin(self):# this is called encapsulation\n",
        "        return self.__pin\n",
        "\n",
        "    def set_pin(self,new_pin):\n",
        "        if type(new_pin)==str:\n",
        "            self.__pin=new_pin\n",
        "            print(\"pin changed\")\n",
        "        else:\n",
        "            print(\"not allowed\")\n",
        "\n",
        "    def menu(self):\n",
        "        user_input=input(\"\"\"\n",
        "        Hello ,how would you like to proceed?\n",
        "        1.Enter 1 to sreate pin.\n",
        "        2 Enter 2 to deposit.\n",
        "        3 Enter 3 to withdraw.\n",
        "        4 Enter 4 to check balance.\n",
        "        5 Enter 5 yo exit.\n",
        "         \"\"\")\n",
        "\n",
        "        if user_input==\"1\":\n",
        "            self.create_pin()\n",
        "\n",
        "        elif user_input==\"2\":\n",
        "            self.deposit()\n",
        "\n",
        "        elif user_input=='3':\n",
        "            self.withdraw()\n",
        "\n",
        "\n",
        "        elif user_input==\"4\":\n",
        "            self.check_balance()\n",
        "\n",
        "        else:\n",
        "            print('Bye')\n",
        "\n",
        "\n",
        "    def create_pin(self):\n",
        "        self.__pin=input(\"Enter ypur pin\")\n",
        "        print(\"Pin set successfully.\")\n",
        "\n",
        "\n",
        "    def deposit(self):\n",
        "        temp=input(\"Enter your pin\")\n",
        "        if temp==self.__pin:\n",
        "            amount=int(input(\"Enter the amount\"))\n",
        "            self.__balance=self.__balance+amount\n",
        "            print(\"Deposit successfull\")\n",
        "        else:\n",
        "            print(\"Invalid pin\")\n",
        "\n",
        "    def withdraw(self):\n",
        "        temp=input(\"Enter ypur pin\")\n",
        "        if temp== self.__pin:\n",
        "            amount=input(\"enter the amount to widthdraw:\")\n",
        "            if amount<self.balance:\n",
        "                self.__balance=self.__balance-amount\n",
        "                print(\"Widthraw successful\")\n",
        "            else:\n",
        "                print(\"insufficient balance.\")\n",
        "        else:\n",
        "            print(\"invalid pin\")\n",
        "\n",
        "    def check_balance(self):\n",
        "        temp=input(\"Enter your pin:\")\n",
        "        if temp==self.__pin:\n",
        "            print(self.__balance)\n",
        "        else:\n",
        "            print(\"invalid pin\")\n",
        "\n"
      ],
      "metadata": {
        "id": "k3A-Jk05Havk"
      },
      "execution_count": null,
      "outputs": []
    },
    {
      "cell_type": "code",
      "source": [
        "Atm.get_counter()"
      ],
      "metadata": {
        "colab": {
          "base_uri": "https://localhost:8080/"
        },
        "id": "k8tnR5Hvt43u",
        "outputId": "639e3a62-2c1e-4f88-9009-28518986c95a"
      },
      "execution_count": null,
      "outputs": [
        {
          "output_type": "execute_result",
          "data": {
            "text/plain": [
              "1"
            ]
          },
          "metadata": {},
          "execution_count": 11
        }
      ]
    },
    {
      "cell_type": "code",
      "source": [
        "Atm.set_counter(5)"
      ],
      "metadata": {
        "id": "2EF-FEBWuJ8m"
      },
      "execution_count": null,
      "outputs": []
    },
    {
      "cell_type": "code",
      "source": [
        "Atm.get_counter()"
      ],
      "metadata": {
        "colab": {
          "base_uri": "https://localhost:8080/"
        },
        "id": "ExnZ6UOzuam6",
        "outputId": "e51d06a6-454d-493f-92f4-f606cafe21af"
      },
      "execution_count": null,
      "outputs": [
        {
          "output_type": "execute_result",
          "data": {
            "text/plain": [
              "5"
            ]
          },
          "metadata": {},
          "execution_count": 13
        }
      ]
    },
    {
      "cell_type": "code",
      "source": [
        "sbi=Atm()\n"
      ],
      "metadata": {
        "colab": {
          "base_uri": "https://localhost:8080/"
        },
        "id": "NCUr24JmJ_-U",
        "outputId": "fbe81649-5e9e-4203-e597-e4f0c33be431"
      },
      "execution_count": null,
      "outputs": [
        {
          "output_type": "stream",
          "name": "stdout",
          "text": [
            "\n",
            "        Hello ,how would you like to proceed?\n",
            "        1.Enter 1 to sreate pin.\n",
            "        2 Enter 2 to deposit.\n",
            "        3 Enter 3 to withdraw.\n",
            "        4 Enter 4 to check balance.\n",
            "        5 Enter 5 yo exit.\n",
            "         1\n",
            "Enter ypur pin123\n",
            "Pin set successfully.\n"
          ]
        }
      ]
    },
    {
      "cell_type": "code",
      "source": [
        "hdfc=Atm()"
      ],
      "metadata": {
        "colab": {
          "base_uri": "https://localhost:8080/"
        },
        "id": "t4uby8NKKDPL",
        "outputId": "70c36cc6-e20e-4da9-da1d-632c4b3bbaa3"
      },
      "execution_count": null,
      "outputs": [
        {
          "output_type": "stream",
          "name": "stdout",
          "text": [
            "\n",
            "        Hello ,how would you like to proceed?\n",
            "        1.Enter 1 to sreate pin.\n",
            "        2 Enter 2 to deposit.\n",
            "        3 Enter 3 to withdraw.\n",
            "        4 Enter 4 to check balance.\n",
            "        5 Enter 5 yo exit.\n",
            "         1\n",
            "Enter ypur pin234\n",
            "Pin set successfully.\n"
          ]
        }
      ]
    },
    {
      "cell_type": "code",
      "source": [
        "yes=Atm()"
      ],
      "metadata": {
        "colab": {
          "base_uri": "https://localhost:8080/"
        },
        "id": "2bjGs9zxKJVh",
        "outputId": "bd2c23e0-4ecc-4ac1-b0b1-be9a703f57d0"
      },
      "execution_count": null,
      "outputs": [
        {
          "output_type": "stream",
          "name": "stdout",
          "text": [
            "\n",
            "        Hello ,how would you like to proceed?\n",
            "        1.Enter 1 to sreate pin.\n",
            "        2 Enter 2 to deposit.\n",
            "        3 Enter 3 to withdraw.\n",
            "        4 Enter 4 to check balance.\n",
            "        5 Enter 5 yo exit.\n",
            "         1\n",
            "Enter ypur pin345\n",
            "Pin set successfully.\n"
          ]
        }
      ]
    },
    {
      "cell_type": "code",
      "source": [
        "print(sbi.sno)\n",
        "print(hdfc.sno)\n",
        "print(yes.sno)# always prints 1 for all\n",
        "instance variable-variable value for each object is different(they are build inside the constructor)\n",
        "therefore use static variable(are build outside the constructor ,at very beginning of class)\n"
      ],
      "metadata": {
        "colab": {
          "base_uri": "https://localhost:8080/"
        },
        "id": "tvirBchbKNwl",
        "outputId": "8df8ba4c-eb09-4a0e-d898-c38e2e456fa1"
      },
      "execution_count": null,
      "outputs": [
        {
          "output_type": "stream",
          "name": "stdout",
          "text": [
            "1\n",
            "1\n",
            "1\n"
          ]
        }
      ]
    },
    {
      "cell_type": "code",
      "source": [
        "c1=Atm()\n",
        "c2=Atm()"
      ],
      "metadata": {
        "id": "1vkYk4GrKYvx"
      },
      "execution_count": null,
      "outputs": []
    },
    {
      "cell_type": "code",
      "source": [
        "c3=Atm()"
      ],
      "metadata": {
        "id": "tJ_dMMduMbqx"
      },
      "execution_count": null,
      "outputs": []
    },
    {
      "cell_type": "code",
      "source": [
        "c1.sno\n"
      ],
      "metadata": {
        "colab": {
          "base_uri": "https://localhost:8080/"
        },
        "id": "J5mFxxhiMdLB",
        "outputId": "d70a69f6-1aff-4bb4-8dda-9fc9a148413e"
      },
      "execution_count": null,
      "outputs": [
        {
          "output_type": "execute_result",
          "data": {
            "text/plain": [
              "1"
            ]
          },
          "metadata": {},
          "execution_count": 67
        }
      ]
    },
    {
      "cell_type": "code",
      "source": [
        "c2.sno"
      ],
      "metadata": {
        "colab": {
          "base_uri": "https://localhost:8080/"
        },
        "id": "QjqggqQYMf12",
        "outputId": "336a9a5b-0151-4512-c218-f3e6fc564cdb"
      },
      "execution_count": null,
      "outputs": [
        {
          "output_type": "execute_result",
          "data": {
            "text/plain": [
              "2"
            ]
          },
          "metadata": {},
          "execution_count": 68
        }
      ]
    },
    {
      "cell_type": "code",
      "source": [
        "c3.sno"
      ],
      "metadata": {
        "colab": {
          "base_uri": "https://localhost:8080/"
        },
        "id": "Lf0JbNOJMiCy",
        "outputId": "dcb4e481-befa-4006-8d21-1d1f950a3a93"
      },
      "execution_count": null,
      "outputs": [
        {
          "output_type": "execute_result",
          "data": {
            "text/plain": [
              "3"
            ]
          },
          "metadata": {},
          "execution_count": 69
        }
      ]
    },
    {
      "cell_type": "code",
      "source": [
        "c3.counter"
      ],
      "metadata": {
        "colab": {
          "base_uri": "https://localhost:8080/"
        },
        "id": "PcwRPsMIMi7L",
        "outputId": "0cebdd0f-ab7b-4211-e212-a08c4619f8c5"
      },
      "execution_count": null,
      "outputs": [
        {
          "output_type": "execute_result",
          "data": {
            "text/plain": [
              "4"
            ]
          },
          "metadata": {},
          "execution_count": 70
        }
      ]
    },
    {
      "cell_type": "markdown",
      "source": [
        "relationship between classes-aggregation(has a relation),inheritance(is a realtion)"
      ],
      "metadata": {
        "id": "qxXmkgyzu_5I"
      }
    },
    {
      "cell_type": "code",
      "source": [
        "smartphone is a product-inheritance\n",
        "car is a vehicle-inheritance\n",
        "\n",
        "\n",
        "customer has a address-aggrgation"
      ],
      "metadata": {
        "id": "V7GYEjvaMnUU"
      },
      "execution_count": null,
      "outputs": []
    },
    {
      "cell_type": "code",
      "source": [
        "#aggregation\n",
        "\n",
        "class Customer:\n",
        "    def __init__(self,name,gender,address):\n",
        "        self.name=name\n",
        "        self.gender=gender\n",
        "        self.address=address\n",
        "\n",
        "    def edit_profile(self,new_name,new_city,new_pincode,new_state):\n",
        "        self.name=new_name\n",
        "        self.address.change_address(new_city,new_pincode,new_state)\n",
        "\n",
        "\n",
        "\n",
        "class Address:\n",
        "    def __init__(self,city,pincode,state):\n",
        "        self.city=city\n",
        "        self.pincode=pincode\n",
        "        self.state=state\n",
        "\n",
        "    def change_address(self,new_city,new_pincode,new_state):\n",
        "        self.city=new_city\n",
        "        self.pincode=new_pincode\n",
        "        self.state=new_state\n",
        "\n",
        "\n"
      ],
      "metadata": {
        "id": "FdyERWU9vuKD"
      },
      "execution_count": null,
      "outputs": []
    },
    {
      "cell_type": "code",
      "source": [
        "add=Address(\"surat\",394140,\"gujarat\")\n",
        "cust=Customer('Ruchi','female',add)\n",
        "\n",
        "cust.edit_profile('Rishi','Gupgaon',1234,'Haryana')"
      ],
      "metadata": {
        "id": "P2txSF-ezNDr"
      },
      "execution_count": null,
      "outputs": []
    },
    {
      "cell_type": "code",
      "source": [
        "print(cust.address.pincode)\n",
        "#first Address is called in which the address is given,then cust object is formed and calls the customer class\n",
        "#and add the name, gender and address\n",
        "#then on object cust edit_profile method is called which uses the change_address method from address class\n",
        "#inshort the customer class is working indirectly with the help of address class-aggregation"
      ],
      "metadata": {
        "colab": {
          "base_uri": "https://localhost:8080/"
        },
        "id": "53fNYT8swqB-",
        "outputId": "ea498b7f-a04b-48e6-c4a4-133ffe36c928"
      },
      "execution_count": null,
      "outputs": [
        {
          "output_type": "stream",
          "name": "stdout",
          "text": [
            "1234\n"
          ]
        }
      ]
    },
    {
      "cell_type": "markdown",
      "source": [
        "## inheritance"
      ],
      "metadata": {
        "id": "mLDPKYIG270m"
      }
    },
    {
      "cell_type": "code",
      "source": [
        "DRY=dont repeat yourself(a concept of oops)\n",
        "inheritance allows code reusability\n",
        "we inherit data member=variables\n",
        "methods and constructors\n",
        "private member are not inherited\n"
      ],
      "metadata": {
        "id": "-VDtplvVw4k2"
      },
      "execution_count": null,
      "outputs": []
    },
    {
      "cell_type": "code",
      "source": [
        "class User:\n",
        "    def login(self):\n",
        "        print(\"login\")\n",
        "\n",
        "    def register(self):\n",
        "        print(\"register\")\n",
        "\n",
        "class Student(User):#student is a subclass of user\n",
        "    def enroll(self):\n",
        "        print(\"enroll\")\n",
        "\n",
        "    def review(self):\n",
        "        print(\"review\")\n"
      ],
      "metadata": {
        "id": "-uzZsREm42pB"
      },
      "execution_count": null,
      "outputs": []
    },
    {
      "cell_type": "code",
      "source": [
        "st1=Student()"
      ],
      "metadata": {
        "id": "x5n_bi8z5UrS"
      },
      "execution_count": null,
      "outputs": []
    },
    {
      "cell_type": "code",
      "source": [
        "st1.login()#user can do all 4 functions"
      ],
      "metadata": {
        "colab": {
          "base_uri": "https://localhost:8080/"
        },
        "id": "YQwDi2gg5WuS",
        "outputId": "13a9b5f3-3f6b-4e54-9297-a6547793371e"
      },
      "execution_count": null,
      "outputs": [
        {
          "output_type": "stream",
          "name": "stdout",
          "text": [
            "login\n"
          ]
        }
      ]
    },
    {
      "cell_type": "code",
      "source": [
        "u=User()"
      ],
      "metadata": {
        "id": "lZw0Qd4b5asI"
      },
      "execution_count": null,
      "outputs": []
    },
    {
      "cell_type": "code",
      "source": [
        "u.register()#has only 2 methods"
      ],
      "metadata": {
        "colab": {
          "base_uri": "https://localhost:8080/"
        },
        "id": "o51f1dnM5j4M",
        "outputId": "c57231df-b28e-45e4-8939-40fc210ae654"
      },
      "execution_count": null,
      "outputs": [
        {
          "output_type": "stream",
          "name": "stdout",
          "text": [
            "register\n"
          ]
        }
      ]
    },
    {
      "cell_type": "code",
      "source": [
        "class Phone:\n",
        "    def __init__(self,price,brand,camera):\n",
        "        self.price=price\n",
        "        self.__brand=brand#private\n",
        "        self.camera=camera\n",
        "\n",
        "    def buy(self):\n",
        "        print(\"Buying\")\n",
        "\n",
        "    def return_phone(self):\n",
        "        print(\"Return phone\")\n",
        "\n",
        "class SmartPhone(Phone):#when smartphone inherits phone and\n",
        "#does not have constructor the phone class's constructor is called\n",
        "    pass\n"
      ],
      "metadata": {
        "id": "YUm6tomR5moa"
      },
      "execution_count": null,
      "outputs": []
    },
    {
      "cell_type": "code",
      "source": [
        "s=SmartPhone(20000,'iphone',15)"
      ],
      "metadata": {
        "id": "iWE1ZZv485l3"
      },
      "execution_count": null,
      "outputs": []
    },
    {
      "cell_type": "code",
      "source": [
        "s.buy()"
      ],
      "metadata": {
        "colab": {
          "base_uri": "https://localhost:8080/"
        },
        "id": "d5bcBQ6v-c-H",
        "outputId": "b5b6538c-8328-4aac-d5a9-4fd7f7426e53"
      },
      "execution_count": null,
      "outputs": [
        {
          "output_type": "stream",
          "name": "stdout",
          "text": [
            "Buying\n"
          ]
        }
      ]
    },
    {
      "cell_type": "code",
      "source": [
        "s.__brand#child class cannot access private variables of parent class"
      ],
      "metadata": {
        "colab": {
          "base_uri": "https://localhost:8080/",
          "height": 141
        },
        "id": "t0GG_N279Bjl",
        "outputId": "045fc02e-ca8a-4144-c991-010d1cdcc856"
      },
      "execution_count": null,
      "outputs": [
        {
          "output_type": "error",
          "ename": "AttributeError",
          "evalue": "'SmartPhone' object has no attribute 'brand'",
          "traceback": [
            "\u001b[0;31m---------------------------------------------------------------------------\u001b[0m",
            "\u001b[0;31mAttributeError\u001b[0m                            Traceback (most recent call last)",
            "\u001b[0;32m<ipython-input-47-57d135c56554>\u001b[0m in \u001b[0;36m<cell line: 1>\u001b[0;34m()\u001b[0m\n\u001b[0;32m----> 1\u001b[0;31m \u001b[0ms\u001b[0m\u001b[0;34m.\u001b[0m\u001b[0mbrand\u001b[0m\u001b[0;34m\u001b[0m\u001b[0;34m\u001b[0m\u001b[0m\n\u001b[0m",
            "\u001b[0;31mAttributeError\u001b[0m: 'SmartPhone' object has no attribute 'brand'"
          ]
        }
      ]
    },
    {
      "cell_type": "code",
      "source": [
        "#polymorphism(method overriding)\n",
        "\n",
        "class Phone:\n",
        "    def __init__(self,price,brand,camera):\n",
        "        self.price=price\n",
        "        self.__brand=brand#private\n",
        "        self.camera=camera\n",
        "\n",
        "    def buy(self):\n",
        "        print(\"Buying\")\n",
        "\n",
        "    def return_phone(self):\n",
        "        print(\"Return phone\")\n",
        "\n",
        "class SmartPhone(Phone):\n",
        "    def buy(self):#this is called method overriding(comes in polymorphism)\n",
        "        print(\"Buying phone\")\n",
        "\n",
        "s=SmartPhone(20000,'iphone',15)\n",
        "\n",
        "s.buy()\n",
        "\n",
        "#if both the parent and son class has same method then the class whose name is written is choosen\n",
        "#if child has its own constructor then parents constructor is not invoked otherwise is invoked"
      ],
      "metadata": {
        "colab": {
          "base_uri": "https://localhost:8080/"
        },
        "id": "gc8ruLJL9Ev_",
        "outputId": "468324a3-942e-4e24-dbf5-19a3cb911d2a"
      },
      "execution_count": null,
      "outputs": [
        {
          "output_type": "stream",
          "name": "stdout",
          "text": [
            "Buying phone\n"
          ]
        }
      ]
    },
    {
      "cell_type": "markdown",
      "source": [
        "## Super keyword"
      ],
      "metadata": {
        "id": "eX4n2k6pD2Pi"
      }
    },
    {
      "cell_type": "code",
      "source": [
        "class Phone:\n",
        "    def __init__(self,price,brand,camera):\n",
        "        print(\"in phne constructor\")\n",
        "        self.price=price\n",
        "        self.__brand=brand#private\n",
        "        self.camera=camera\n",
        "\n",
        "    def buy(self):\n",
        "        print(\"Buying\")\n",
        "\n",
        "class SmartPhone(Phone):\n",
        "    def buy(self):\n",
        "        print(\"buying smartphone.\")\n",
        "        super().buy()  #using super keyword we can invoke the parents method or constructor and not the attributes(price)\n",
        "\n",
        "s=SmartPhone(2000,'iphone',13)\n",
        "\n",
        "s.buy()\n",
        "#super keyword cannot work outside(s.sup().bu())"
      ],
      "metadata": {
        "id": "bXhWCZGi_GG6",
        "colab": {
          "base_uri": "https://localhost:8080/"
        },
        "outputId": "fdb92da8-f601-4de7-f494-c4ad104754f6"
      },
      "execution_count": null,
      "outputs": [
        {
          "output_type": "stream",
          "name": "stdout",
          "text": [
            "in phne constructor\n",
            "buying smartphone.\n",
            "Buying\n"
          ]
        }
      ]
    },
    {
      "cell_type": "code",
      "source": [
        "class Phone:\n",
        "    def __init__(self,price,brand,camera):\n",
        "        print(\"in phne constructor\")\n",
        "        self.price=price\n",
        "        self.brand=brand#private\n",
        "        self.camera=camera\n",
        "\n",
        "class SmartPhone(Phone):\n",
        "    def __init__(self,price,brand,camera,os,ram):\n",
        "        print(\"pehle yahan\")\n",
        "        super().__init__(price,brand,camera)\n",
        "        self.os=os\n",
        "        self.ram=ram\n",
        "        print(\"in smartphone constructor\")\n",
        "\n",
        "s=SmartPhone(2000,'iphone',13,'android',2)\n",
        "\n",
        "print(s.os)\n",
        "print(s.brand)\n",
        "\n"
      ],
      "metadata": {
        "colab": {
          "base_uri": "https://localhost:8080/"
        },
        "id": "Xo5kohdw0E9m",
        "outputId": "b1b19d12-bb83-40cb-edd9-62f3d365b41d"
      },
      "execution_count": null,
      "outputs": [
        {
          "output_type": "stream",
          "name": "stdout",
          "text": [
            "pehle yahan\n",
            "in phne constructor\n",
            "in smartphone constructor\n",
            "android\n",
            "iphone\n"
          ]
        }
      ]
    },
    {
      "cell_type": "code",
      "source": [
        "#from inside the child class we can call the parents attributes using self  becoz self is nothing but the (s) object\n",
        "#inheritance-single level and multi-level(child can inherit properties of parent and grandparents)\n",
        "#hierarchical inheritance-1 parent and 2 child\n",
        "#multiple inheritance-2 parents 1 child(eg class smartphone(Product,Phone))smartphone class inherits 2 classes but uses the first one-MRO-method resolution order\n",
        "#hybrid inheritance-combination of any above types"
      ],
      "metadata": {
        "id": "97fvBfh73_lW"
      },
      "execution_count": null,
      "outputs": []
    },
    {
      "cell_type": "markdown",
      "source": [
        "### **Polymorphism**"
      ],
      "metadata": {
        "id": "AdU_8YN8-1X1"
      }
    },
    {
      "cell_type": "code",
      "source": [
        "method overloading-\n",
        "cannot create multiple methods with same name in same class,the object will automatically use only last method created in class"
      ],
      "metadata": {
        "id": "C54LgOWm8haH"
      },
      "execution_count": null,
      "outputs": []
    },
    {
      "cell_type": "code",
      "source": [
        "class Geometry:\n",
        "\n",
        "    def area(self,radius):\n",
        "        return 3.14*radius*radius\n",
        "\n",
        "    def area(self,l,b):\n",
        "        return l*b\n",
        "\n",
        "g=Geometry()\n",
        "g.area(2)"
      ],
      "metadata": {
        "colab": {
          "base_uri": "https://localhost:8080/",
          "height": 176
        },
        "id": "fZoHTKsSFEbc",
        "outputId": "ce906a21-18fc-451a-c7df-8708cb75d052"
      },
      "execution_count": null,
      "outputs": [
        {
          "output_type": "error",
          "ename": "TypeError",
          "evalue": "Geometry.area() missing 1 required positional argument: 'b'",
          "traceback": [
            "\u001b[0;31m---------------------------------------------------------------------------\u001b[0m",
            "\u001b[0;31mTypeError\u001b[0m                                 Traceback (most recent call last)",
            "\u001b[0;32m<ipython-input-9-e10bb7aa501e>\u001b[0m in \u001b[0;36m<cell line: 10>\u001b[0;34m()\u001b[0m\n\u001b[1;32m      8\u001b[0m \u001b[0;34m\u001b[0m\u001b[0m\n\u001b[1;32m      9\u001b[0m \u001b[0mg\u001b[0m\u001b[0;34m=\u001b[0m\u001b[0mGeometry\u001b[0m\u001b[0;34m(\u001b[0m\u001b[0;34m)\u001b[0m\u001b[0;34m\u001b[0m\u001b[0;34m\u001b[0m\u001b[0m\n\u001b[0;32m---> 10\u001b[0;31m \u001b[0mg\u001b[0m\u001b[0;34m.\u001b[0m\u001b[0marea\u001b[0m\u001b[0;34m(\u001b[0m\u001b[0;36m2\u001b[0m\u001b[0;34m)\u001b[0m\u001b[0;34m\u001b[0m\u001b[0;34m\u001b[0m\u001b[0m\n\u001b[0m",
            "\u001b[0;31mTypeError\u001b[0m: Geometry.area() missing 1 required positional argument: 'b'"
          ]
        }
      ]
    },
    {
      "cell_type": "code",
      "source": [
        "class Geometry:#method overloading\n",
        "\n",
        "    def area(self,a,b=0):\n",
        "        if b==0:\n",
        "            print(\"circle:\",3.14*a*a)\n",
        "        else:\n",
        "            print(\"rectangle:\",a*b)\n",
        "\n",
        "\n",
        "g=Geometry()\n",
        "g.area(2)\n",
        "g.area(2,3)"
      ],
      "metadata": {
        "colab": {
          "base_uri": "https://localhost:8080/"
        },
        "id": "2amnPSeqFNXA",
        "outputId": "d90e806a-f5a4-44ea-c6ed-ff5e2409c45e"
      },
      "execution_count": null,
      "outputs": [
        {
          "output_type": "stream",
          "name": "stdout",
          "text": [
            "circle: 12.56\n",
            "rectangle: 6\n"
          ]
        }
      ]
    },
    {
      "cell_type": "code",
      "source": [],
      "metadata": {
        "id": "aRlbY8jkFk8J"
      },
      "execution_count": null,
      "outputs": []
    }
  ]
}