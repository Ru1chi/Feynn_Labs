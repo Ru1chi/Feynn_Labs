{
  "nbformat": 4,
  "nbformat_minor": 0,
  "metadata": {
    "colab": {
      "provenance": [],
      "include_colab_link": true
    },
    "kernelspec": {
      "name": "python3",
      "display_name": "Python 3"
    },
    "language_info": {
      "name": "python"
    }
  },
  "cells": [
    {
      "cell_type": "markdown",
      "metadata": {
        "id": "view-in-github",
        "colab_type": "text"
      },
      "source": [
        "<a href=\"https://colab.research.google.com/github/Ru1chi/Feynn_Labs/blob/main/Copy_of_session_4_task.ipynb\" target=\"_parent\"><img src=\"https://colab.research.google.com/assets/colab-badge.svg\" alt=\"Open In Colab\"/></a>"
      ]
    },
    {
      "cell_type": "markdown",
      "source": [
        "###`Problem 1:` Combine two lists index-wise(columns wise)\n",
        "\n",
        "Write a program to add two lists index-wise. Create a new list that contains the 0th index item from both the list, then the 1st index item, and so on till the last element. any leftover items will get added at the end of the new list.\n",
        "\n",
        "`Given List:`\n",
        "```\n",
        "list1 = [\"M\", \"na\", \"i\", \"Kh\"]\n",
        "list2 = [\"y\", \"me\", \"s\", \"an\"]\n",
        "```\n",
        "\n",
        "`Output:`\n",
        "```\n",
        "[['M','y'], ['na', me'], ['i', 's'], ['Kh', 'an']]\n",
        "```"
      ],
      "metadata": {
        "id": "kLZ_vCeE0lsM"
      }
    },
    {
      "cell_type": "code",
      "source": [
        "list1 = [\"M\", \"na\", \"i\", \"Kh\"]\n",
        "list2 = [\"y\", \"me\", \"s\", \"an\"]\n",
        "\n",
        "list3=[]\n",
        "for i in range(len(list1)):\n",
        "  list3.append([list1[i],list2[i]])\n",
        "print(list3)"
      ],
      "metadata": {
        "id": "cDO3Yv6p0nnG",
        "colab": {
          "base_uri": "https://localhost:8080/"
        },
        "outputId": "60ba139c-a577-4df6-a2d6-4e53f257c87d"
      },
      "execution_count": 4,
      "outputs": [
        {
          "output_type": "stream",
          "name": "stdout",
          "text": [
            "[['M', 'y'], ['na', 'me'], ['i', 's'], ['Kh', 'an']]\n"
          ]
        }
      ]
    },
    {
      "cell_type": "markdown",
      "source": [
        "### `Problem 2:` Add new item to list after a specified item\n",
        "Write a program to add item 7000 after 6000 in the following Python List\n",
        "```\n",
        "list1 = [10, 20, [300, 400, [5000, 6000], 500], 30, 40]\n",
        "```\n",
        "`Output:`\n",
        "```\n",
        "[10, 20, [300, 400, [5000, 6000, 7000], 500], 30, 40]\n",
        "```"
      ],
      "metadata": {
        "id": "bnRwRgf_0qLu"
      }
    },
    {
      "cell_type": "code",
      "source": [
        "list1 = [10, 20, [300, 400, [5000, 6000], 500], 30, 40]\n",
        "index_of_6000=list1[2][2].index(6000)\n",
        "list1[2][2].insert(index_of_6000+1 ,7000)\n",
        "list1"
      ],
      "metadata": {
        "id": "yW5lLPns00q9",
        "colab": {
          "base_uri": "https://localhost:8080/"
        },
        "outputId": "e2f5dfd0-24ea-4ace-80f4-259abfc309d5"
      },
      "execution_count": 22,
      "outputs": [
        {
          "output_type": "execute_result",
          "data": {
            "text/plain": [
              "[10, 20, [300, 400, [5000, 6000, 7000], 500], 30, 40]"
            ]
          },
          "metadata": {},
          "execution_count": 22
        }
      ]
    },
    {
      "cell_type": "markdown",
      "source": [
        "###`Problem 3:` Update no of items available\n",
        "\n",
        "Suppose you are given a list of candy and another list of same size representing no of items of respective candy.\n",
        "\n",
        "i.e -  \n",
        "```\n",
        "candy_list = ['Jelly Belly','Kit Kat','Double Bubble','Milky Way','Three Musketeers']\n",
        "no_of_items = [10,20,34,74,32]\n",
        "```\n",
        "\n",
        "Write a program to show no. of items of each candy type.\n",
        "\n",
        "`Output:`\n",
        "\n",
        "```\n",
        "Jelly Belly-10\n",
        "Kit Kat-20\n",
        "Double Bubble-34\n",
        "Milky Way-74\n",
        "Three Musketeers-32\n",
        "\n",
        "```"
      ],
      "metadata": {
        "id": "w7fC8oHk02fH"
      }
    },
    {
      "cell_type": "code",
      "source": [
        "candy_list = ['Jelly Belly','Kit Kat','Double Bubble','Milky Way','Three Musketeers']\n",
        "no_of_items = [10,20,34,74,32]\n",
        "for i in range(len(candy_list)):\n",
        "  print(candy_list[i],\"-\",no_of_items[i])"
      ],
      "metadata": {
        "id": "gg5JEX1a09q8",
        "colab": {
          "base_uri": "https://localhost:8080/"
        },
        "outputId": "396f6068-3d4c-455b-da27-ca74c65ab517"
      },
      "execution_count": 23,
      "outputs": [
        {
          "output_type": "stream",
          "name": "stdout",
          "text": [
            "Jelly Belly - 10\n",
            "Kit Kat - 20\n",
            "Double Bubble - 34\n",
            "Milky Way - 74\n",
            "Three Musketeers - 32\n"
          ]
        }
      ]
    },
    {
      "cell_type": "markdown",
      "source": [
        "###`Problem 4:` Running Sum on list\n",
        "Write a program to print a list after performing running sum on it.\n",
        "\n",
        "i.e:\n",
        "\n",
        "`Input:`\n",
        "```\n",
        "list1 = [1,2,3,4,5,6]\n",
        "```\n",
        "`Output:`\n",
        "```\n",
        "[1,3,6,10,15,21]\n",
        "```"
      ],
      "metadata": {
        "id": "mFGZAvnB1D3N"
      }
    },
    {
      "cell_type": "code",
      "source": [
        "list1 = [1,2,3,4,5,6]\n",
        "sum=0\n",
        "list2=[]\n",
        "for i in range(1,len(list1)+1):\n",
        "  sum=sum+i\n",
        "  list2.append(sum)\n",
        "print(list2)"
      ],
      "metadata": {
        "id": "8LPS6DaD1FTs",
        "colab": {
          "base_uri": "https://localhost:8080/"
        },
        "outputId": "4a5efb55-b590-475a-cd52-cf33f21da178"
      },
      "execution_count": 30,
      "outputs": [
        {
          "output_type": "stream",
          "name": "stdout",
          "text": [
            "[1, 3, 6, 10, 15, 21]\n"
          ]
        }
      ]
    },
    {
      "cell_type": "markdown",
      "source": [
        "###`Problem 5:` You are given a list of integers. You are asked to make a list by running through elements of the list by adding all elements greater and itself.\n",
        "\n",
        "i.e. Say given list is `[2,4,6,10,1]`\n",
        "resultant list will be `[22,20,10,23]`.\n",
        "\n",
        "For 1st element `2` ->> these are greater `(4+6+10)` values and `2` itself so on adding becomes `22`.\n",
        "\n",
        "For 2nd element `4` ->> greater elements are `(6, 10)` and `4` itself, so on adding `20`\n",
        "\n",
        "like wise for all other elememts.\n",
        "\n",
        "`[2,4,6,10,1]`-->`[22,20,16,10,23]`\n",
        "\n",
        "\n"
      ],
      "metadata": {
        "id": "2ztcZ-EW1HEU"
      }
    },
    {
      "cell_type": "code",
      "source": [
        "list1=[2,4,6,10,1]\n",
        "result=[]\n",
        "for i in range(len(list1)):\n",
        "  total=list1[i]\n",
        "  for j in range(i+1,len(list1)):\n",
        "    if list1[j]>=list1[i]:\n",
        "      total=total+list1[j]\n",
        "  result.append(total)\n",
        "print(result)"
      ],
      "metadata": {
        "id": "UJuWqzj31UD2",
        "colab": {
          "base_uri": "https://localhost:8080/"
        },
        "outputId": "df220241-9578-4455-9a57-9f21078b406c"
      },
      "execution_count": 41,
      "outputs": [
        {
          "output_type": "stream",
          "name": "stdout",
          "text": [
            "[22, 20, 16, 10, 1]\n"
          ]
        }
      ]
    },
    {
      "cell_type": "markdown",
      "source": [
        "###`Problem 6:` Find list of common unique items from two list. and show in increasing order\n",
        "\n",
        "`Input`\n",
        "\n",
        "```\n",
        "num1 = [23,45,67,78,89,34]\n",
        "num2 = [34,89,55,56,39,67]\n",
        "```\n",
        "\n",
        "`Output:`\n",
        "```\n",
        "[34, 67, 89]\n",
        "```\n"
      ],
      "metadata": {
        "id": "c9H6tYTx1ZYo"
      }
    },
    {
      "cell_type": "code",
      "source": [
        "num1 = [23,45,67,78,89,34]\n",
        "num2 = [34,89,55,56,39,67]\n",
        "\n",
        "list1=[]\n",
        "for i in range(len(num1)):\n",
        "  for j in range(len(num2)):\n",
        "    if num1[i]==num2[j]:\n",
        "      list1.append(num1[i])\n",
        "      break\n",
        "list1.sort()\n",
        "print(list1)\n",
        ""
      ],
      "metadata": {
        "id": "dDxdi7eE1e1W",
        "colab": {
          "base_uri": "https://localhost:8080/"
        },
        "outputId": "0b33f9b1-4d21-4aca-ec3c-45825f0456e4"
      },
      "execution_count": 51,
      "outputs": [
        {
          "output_type": "stream",
          "name": "stdout",
          "text": [
            "[34, 67, 89]\n"
          ]
        }
      ]
    },
    {
      "cell_type": "markdown",
      "source": [
        "###`Problem 7:` Sort a list of alphanumeric strings based on product value of numeric character in it. If in any string there is no numeric character take it's product value as 1.\n",
        "\n",
        "`Input:`\n",
        "```\n",
        "['1ac21', '23fg', '456', '098d','1','kls']\n",
        "```\n",
        "\n",
        "`Output:`\n",
        "```\n",
        "['456', '23fg', '1ac21', '1', 'kls', '098d']\n",
        "\n",
        "```"
      ],
      "metadata": {
        "id": "i3Izok2i1gRD"
      }
    },
    {
      "cell_type": "code",
      "source": [
        "def get_product(s):\n",
        "    product = 1\n",
        "    for char in s:\n",
        "        if char.isdigit():\n",
        "            product *= int(char)\n",
        "\n",
        "    return product\n",
        "\n",
        "input_list = ['1ac21', '23fg', '456', '098d', '1', 'kls']\n",
        "sorted_list = sorted(input_list, key=get_product,reverse=True)\n",
        "print(sorted_list)\n"
      ],
      "metadata": {
        "colab": {
          "base_uri": "https://localhost:8080/"
        },
        "id": "X22mWfwvqGgJ",
        "outputId": "17623941-ab16-4479-ee6b-2c1720a9b5a5"
      },
      "execution_count": 61,
      "outputs": [
        {
          "output_type": "stream",
          "name": "stdout",
          "text": [
            "['456', '23fg', '1ac21', '1', 'kls', '098d']\n"
          ]
        }
      ]
    },
    {
      "cell_type": "markdown",
      "source": [
        "`Problem 8:` Split String of list on K character.\n",
        "\n",
        "**Example :**\n",
        "\n",
        "Input:\n",
        "```bash\n",
        "['CampusX is a channel', 'for data-science', 'aspirants.']\n",
        "```\n",
        "\n",
        "Output:\n",
        "```bash\n",
        "['CampusX', 'is', 'a', 'channel', 'for', 'data-science', 'aspirants.']\n",
        "```"
      ],
      "metadata": {
        "id": "McMaNSpB1zJB"
      }
    },
    {
      "cell_type": "code",
      "source": [
        "list1=['CampusX is a channel', 'for data-science', 'aspirants.']\n",
        "list2=[]\n",
        "for i in range(len(list1)):\n",
        "  list2.extend(list1[i].split(\" \"))\n",
        "print(list2)"
      ],
      "metadata": {
        "id": "rLg6AUhf14wI",
        "colab": {
          "base_uri": "https://localhost:8080/"
        },
        "outputId": "83d4ae88-dfd6-44c3-bf7e-c9e8d490ec34"
      },
      "execution_count": 65,
      "outputs": [
        {
          "output_type": "stream",
          "name": "stdout",
          "text": [
            "['CampusX', 'is', 'a', 'channel', 'for', 'data-science', 'aspirants.']\n"
          ]
        }
      ]
    },
    {
      "cell_type": "markdown",
      "source": [
        "### `Problem 9:` Convert Character Matrix to single String using string comprehension.\n",
        "\n",
        "**Example 1:**\n",
        "\n",
        "Input:\n",
        "```bash\n",
        "[['c', 'a', 'm', 'p', 'u', 'x'], ['i', 's'], ['b', 'e', 's', 't'], ['c', 'h', 'a', 'n', 'n', 'e', 'l']]\n",
        "```\n",
        "\n",
        "Output:\n",
        "```bash\n",
        "campux is best channel\n",
        "```"
      ],
      "metadata": {
        "id": "ebqIC0Xa16dG"
      }
    },
    {
      "cell_type": "code",
      "source": [
        "list1=[['c', 'a', 'm', 'p', 'u', 'x'], ['i', 's'], ['b', 'e', 's', 't'], ['c', 'h', 'a', 'n', 'n', 'e', 'l']]\n",
        "for i in list1:\n",
        "  print(\"\".join(i),end=\" \")"
      ],
      "metadata": {
        "id": "KLKxzyZf2BLr",
        "colab": {
          "base_uri": "https://localhost:8080/"
        },
        "outputId": "d2188f1f-a8ff-4f1e-da4d-77a83a867e52"
      },
      "execution_count": 67,
      "outputs": [
        {
          "output_type": "stream",
          "name": "stdout",
          "text": [
            "campux is best channel "
          ]
        }
      ]
    },
    {
      "cell_type": "markdown",
      "source": [
        "### `Problem 10:` Add Space between Potential Words.\n",
        "\n",
        "**Example:**\n",
        "\n",
        "Input:\n",
        "\n",
        "```bash\n",
        "['campusxIs', 'bestFor', 'dataScientist']\n",
        "```\n",
        "\n",
        "Output:\n",
        "```bash\n",
        "['campusx Is', 'best For', 'data Scientist']\n",
        "```"
      ],
      "metadata": {
        "id": "0v1Z3Snp2DAm"
      }
    },
    {
      "cell_type": "code",
      "source": [
        "list1=['campusxIs', 'bestFor', 'dataScientist']\n",
        "result=[]\n",
        "for word in list1:\n",
        "  temp=''\n",
        "  for char in word:\n",
        "    if char.isupper():\n",
        "      temp=temp+' '+char\n",
        "    else:\n",
        "      temp=temp+char\n",
        "  result.append(temp.strip())\n",
        "\n",
        "print(result)\n",
        "\n",
        "\n",
        "\n",
        ""
      ],
      "metadata": {
        "id": "pltvqSXa2IxP",
        "colab": {
          "base_uri": "https://localhost:8080/"
        },
        "outputId": "fbdec753-0fe9-405c-f5ce-c92c284407b3"
      },
      "execution_count": 77,
      "outputs": [
        {
          "output_type": "stream",
          "name": "stdout",
          "text": [
            "['campusx Is', 'best For', 'data Scientist']\n"
          ]
        }
      ]
    },
    {
      "cell_type": "markdown",
      "source": [
        "### `Problem 11:` Write a program that can perform union operation on 2 lists\n",
        "\n",
        "**Example:**\n",
        "\n",
        "Input:\n",
        "\n",
        "```bash\n",
        "[1,2,3,4,5,1]\n",
        "[2,3,5,7,8]\n",
        "```\n",
        "\n",
        "Output:\n",
        "```bash\n",
        "[1,2,3,4,5,7,8]\n",
        "```"
      ],
      "metadata": {
        "id": "tnmBk1M52KXW"
      }
    },
    {
      "cell_type": "code",
      "source": [
        "list1=[1,2,3,4,5,1]\n",
        "list2=[2,3,5,7,8]\n",
        "list3=list1+list2\n",
        "sorted(list3)\n",
        "set(list3)"
      ],
      "metadata": {
        "id": "u0AgIToU2-Ht",
        "colab": {
          "base_uri": "https://localhost:8080/"
        },
        "outputId": "6828eb76-53db-4459-f93d-3fe0794a4d9c"
      },
      "execution_count": 89,
      "outputs": [
        {
          "output_type": "execute_result",
          "data": {
            "text/plain": [
              "{1, 2, 3, 4, 5, 7, 8}"
            ]
          },
          "metadata": {},
          "execution_count": 89
        }
      ]
    },
    {
      "cell_type": "markdown",
      "source": [
        "### `Problem 12:` Write a program that can find the max number of each row of a matrix\n",
        "\n",
        "**Example:**\n",
        "\n",
        "Input:\n",
        "\n",
        "```bash\n",
        "[[1,2,3],[4,5,6],[7,8,9]]\n",
        "```\n",
        "\n",
        "Output:\n",
        "```bash\n",
        "[3,6,9]\n",
        "```"
      ],
      "metadata": {
        "id": "Yt8x67Ch3Ow1"
      }
    },
    {
      "cell_type": "code",
      "source": [
        "list1=[[1,2,3],[4,5,6],[7,8,9]]\n",
        "list2=[]\n",
        "for i in list1:\n",
        "  list2.append(max(i))\n",
        "print(list2)"
      ],
      "metadata": {
        "id": "7QopAaAI3noh",
        "colab": {
          "base_uri": "https://localhost:8080/"
        },
        "outputId": "11fc913d-ebcf-4b39-9ba1-6459206fbab9"
      },
      "execution_count": 91,
      "outputs": [
        {
          "output_type": "stream",
          "name": "stdout",
          "text": [
            "[3, 6, 9]\n"
          ]
        }
      ]
    },
    {
      "cell_type": "markdown",
      "source": [
        "### `Problem 13:` Write a list comprehension to print the following matrix\n",
        "\n",
        "[[0, 1, 2], [3, 4, 5], [6, 7, 8]]"
      ],
      "metadata": {
        "id": "DBZlUmnt3pGT"
      }
    },
    {
      "cell_type": "code",
      "source": [
        "list1=[[i+j for j in range(3)] for i in range(0,9,3)]#i is for each row and j is for each value\n",
        "list1"
      ],
      "metadata": {
        "id": "Ip4e8M-S356h",
        "colab": {
          "base_uri": "https://localhost:8080/"
        },
        "outputId": "f66b1caf-a10b-4ebe-b5ca-e4032ada8bfc"
      },
      "execution_count": 92,
      "outputs": [
        {
          "output_type": "execute_result",
          "data": {
            "text/plain": [
              "[[0, 1, 2], [3, 4, 5], [6, 7, 8]]"
            ]
          },
          "metadata": {},
          "execution_count": 92
        }
      ]
    },
    {
      "cell_type": "markdown",
      "source": [
        "### `Problem 14:` Write a list comprehension that can transpose a given matrix\n",
        "\n",
        "matrix = [<br>\n",
        "  [1,2,3],<br>\n",
        "          [4,5,6],<br>\n",
        "          [7,8,9]<br>]<br>\n",
        "\n",
        "[1, 4, 7]<br>\n",
        "[2, 5, 8]<br>\n",
        "[3, 6, 9]<br>"
      ],
      "metadata": {
        "id": "j3vTuFC737kG"
      }
    },
    {
      "cell_type": "code",
      "source": [
        "matrix = [\n",
        "  [1,2,3],\n",
        "  [4,5,6],\n",
        "  [7,8,9]\n",
        "]\n",
        "transpose=[[matrix[j][i] for j in range(len(matrix))] for i in range(len(matrix[0]))]#i is for number of columns and j is for number of rows\n",
        "transpose"
      ],
      "metadata": {
        "id": "CcBNu0gk4XsR",
        "colab": {
          "base_uri": "https://localhost:8080/"
        },
        "outputId": "68258651-0c3b-4629-cc66-728ee28fdfa9"
      },
      "execution_count": 95,
      "outputs": [
        {
          "output_type": "execute_result",
          "data": {
            "text/plain": [
              "[[1, 4, 7], [2, 5, 8], [3, 6, 9]]"
            ]
          },
          "metadata": {},
          "execution_count": 95
        }
      ]
    },
    {
      "cell_type": "code",
      "source": [
        "\"\"\"Building the Transpose:\n",
        "\n",
        "For i = 0: Collects [matrix[0][0], matrix[1][0], matrix[2][0]] → [1, 4, 7].\n",
        "For i = 1: Collects [matrix[0][1], matrix[1][1], matrix[2][1]] → [2, 5, 8].\n",
        "For i = 2: Collects [matrix[0][2], matrix[1][2], matrix[2][2]] → [3, 6, 9].\"\"\""
      ],
      "metadata": {
        "id": "5DGv_Fc8y2S0"
      },
      "execution_count": null,
      "outputs": []
    },
    {
      "cell_type": "markdown",
      "source": [
        "### `Problem 15:` Write a list comprehension that can flatten a nested list\n",
        "\n",
        "Input<br>\n",
        "matrix = [<br>\n",
        "  [1,2,3],<br>\n",
        "          [4,5,6],<br>\n",
        "          [7,8,9]<br>]<br>\n",
        "\n",
        "Output:<br>\n",
        "[1, 2, 3, 4, 5, 6, 7, 8, 9]"
      ],
      "metadata": {
        "id": "wRkSWFb74eOt"
      }
    },
    {
      "cell_type": "code",
      "source": [
        "matrix= [[1,2,3],[4,5,6],[7,8,9]]\n",
        "list1=[element  for row in matrix for element in row ]#this means print the element by going to each row in the matrix  and for each element in the row\n",
        "list1\n"
      ],
      "metadata": {
        "id": "jZGQ5el25HFr",
        "colab": {
          "base_uri": "https://localhost:8080/"
        },
        "outputId": "2845deaa-4899-4eb3-c818-963b9fc2da45"
      },
      "execution_count": 99,
      "outputs": [
        {
          "output_type": "execute_result",
          "data": {
            "text/plain": [
              "[1, 2, 3, 4, 5, 6, 7, 8, 9]"
            ]
          },
          "metadata": {},
          "execution_count": 99
        }
      ]
    },
    {
      "cell_type": "code",
      "source": [],
      "metadata": {
        "id": "Mdvez3u8zpr-"
      },
      "execution_count": null,
      "outputs": []
    }
  ]
}