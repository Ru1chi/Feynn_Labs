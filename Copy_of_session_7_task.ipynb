{
  "nbformat": 4,
  "nbformat_minor": 0,
  "metadata": {
    "colab": {
      "provenance": [],
      "include_colab_link": true
    },
    "kernelspec": {
      "name": "python3",
      "display_name": "Python 3"
    },
    "language_info": {
      "name": "python"
    }
  },
  "cells": [
    {
      "cell_type": "markdown",
      "metadata": {
        "id": "view-in-github",
        "colab_type": "text"
      },
      "source": [
        "<a href=\"https://colab.research.google.com/github/Ru1chi/Feynn_Labs/blob/main/Copy_of_session_7_task.ipynb\" target=\"_parent\"><img src=\"https://colab.research.google.com/assets/colab-badge.svg\" alt=\"Open In Colab\"/></a>"
      ]
    },
    {
      "cell_type": "markdown",
      "source": [
        "##`Q-1:` Rectangle Class\n",
        "1. Write a Rectangle class in Python language, allowing you to build a rectangle with length and width attributes.\n",
        "\n",
        "2. Create a Perimeter() method to calculate the perimeter of the rectangle and a Area() method to calculate the area of ​​the rectangle.\n",
        "\n",
        "3. Create a method display() that display the length, width, perimeter and area of an object created using an instantiation on rectangle class."
      ],
      "metadata": {
        "id": "FyUJ3PRAsPr4"
      }
    },
    {
      "cell_type": "markdown",
      "source": [
        "Eg.\n",
        "After making above classes and methods, on executing below code:-\n",
        "```\n",
        "my_rectangle = Rectangle(3 , 4)\n",
        "my_rectangle.display()\n",
        "```\n",
        "\n",
        "`Output:`\n",
        "```\n",
        "The length of rectangle is:  3\n",
        "The width of rectangle is:  4\n",
        "The perimeter of rectangle is:  14\n",
        "The area of rectangle is:  12\n",
        "```\n"
      ],
      "metadata": {
        "id": "GxUtOqJfssFK"
      }
    },
    {
      "cell_type": "code",
      "source": [
        "class rectangle:\n",
        "\n",
        "  def __init__(self,length,breadth):\n",
        "    self.length=length\n",
        "    self.breadth=breadth\n",
        "\n",
        "  def perimeter(self):\n",
        "    return 2*(self.length+self.breadth)\n",
        "\n",
        "\n",
        "  def area(self):\n",
        "    return self.length*self.breadth\n",
        "\n",
        "\n",
        "  def display(self):\n",
        "    print(f\"length={self.length}\")\n",
        "    print(f\"breadth={self.breadth}\")\n",
        "    print(\"perimeter\",self.perimeter())\n",
        "    print(\"area\",self.area())\n",
        "\n",
        "\n",
        "\n",
        "\n",
        "rect=rectangle(3,5)\n",
        "rect.display()"
      ],
      "metadata": {
        "id": "92_QT-Uj6NBg",
        "colab": {
          "base_uri": "https://localhost:8080/"
        },
        "outputId": "994057e9-790c-4522-de36-20135508efb8"
      },
      "execution_count": null,
      "outputs": [
        {
          "output_type": "stream",
          "name": "stdout",
          "text": [
            "length=3\n",
            "breadth=5\n",
            "perimeter 16\n",
            "area 15\n"
          ]
        }
      ]
    },
    {
      "cell_type": "markdown",
      "source": [
        "##`Q-2: Bank Class`\n",
        "\n",
        "1. Create a Python class called `BankAccount` which represents a bank account, having as attributes: `accountNumber` (numeric type), `name` (name of the account owner as string type), `balance`.\n",
        "2. Create a constructor with parameters: `accountNumber, name, balance`.\n",
        "3. Create a `Deposit()` method which manages the deposit actions.\n",
        "4. Create a `Withdrawal()` method  which manages withdrawals actions.\n",
        "5. Create an `bankFees()` method to apply the bank fees with a percentage of 5% of the balance account.\n",
        "6. Create a `display()` method to display account details.\n",
        "Give the complete code for the  BankAccount class."
      ],
      "metadata": {
        "id": "r_GxrS0Vrdom"
      }
    },
    {
      "cell_type": "markdown",
      "source": [
        "Eg.\n",
        "After making above classes and methods, on executing below code:-\n",
        "```\n",
        "newAccount = BankAccount(2178514584, \"Mandy\" , 2800)\n",
        "\n",
        "newAccount.Withdrawal(700)\n",
        "\n",
        "newAccount.Deposit(1000)\n",
        "\n",
        "newAccount.display()\n",
        "```\n",
        "\n",
        "`Output:`\n",
        "```\n",
        "Account Number :  2178514584\n",
        "Account Name :  Mandy\n",
        "Account Balance :  3100 ₹\n",
        "```"
      ],
      "metadata": {
        "id": "qvVkOUJgvTV_"
      }
    },
    {
      "cell_type": "code",
      "source": [
        "class BankAccount:\n",
        "\n",
        "  def __init__(self,accountnumber,name,balance):\n",
        "    self.name=name\n",
        "    self.accountnumber=accountnumber\n",
        "    self.balance=balance\n",
        "\n",
        "  def deposit(self,amount):\n",
        "    self.balance=self.balance+amount\n",
        "\n",
        "  def withdrawal(self,amount):\n",
        "    self.balance=self.balance-amount\n",
        "\n",
        "\n",
        "  def bankfees(self):\n",
        "    self.balance=self.balance-self.balance*0.05\n",
        "\n",
        "  def display(self):\n",
        "     print(\"Account Number :\",self.accountnumber)\n",
        "     print(\"Account Name :\",self.name)\n",
        "     print(\"Account Balance : \",self.balance)\n",
        "\n",
        "\n",
        "newAccount = BankAccount(2178514584, \"Mandy\" , 2800)\n",
        "\n",
        "newAccount.withdrawal(700)\n",
        "\n",
        "newAccount.deposit(1000)\n",
        "\n",
        "newAccount.display()\n"
      ],
      "metadata": {
        "id": "fUQOmQyA6YDR",
        "colab": {
          "base_uri": "https://localhost:8080/"
        },
        "outputId": "38b9b408-06c6-482b-c0d4-9dfa0e8ef32f"
      },
      "execution_count": null,
      "outputs": [
        {
          "output_type": "stream",
          "name": "stdout",
          "text": [
            "Account Number : 2178514584\n",
            "Account Name : Mandy\n",
            "Account Balance :  3100\n"
          ]
        }
      ]
    },
    {
      "cell_type": "markdown",
      "source": [
        "##`Q-3:Computation class`\n",
        "\n",
        "1. Create a `Computation` class with a default constructor (without parameters) allowing to perform various calculations on integers numbers.\n",
        "2. Create a method called `Factorial()` which allows to calculate the factorial of an integer n. Integer n as parameter for this method\n",
        "\n",
        "3. Create a method called `naturalSum()` allowing to calculate the sum of the first n integers 1 + 2 + 3 + .. + n. Integer n as parameter for this method.\n",
        "\n",
        "4. Create a method called `testPrime()` in  the Calculation class to test the primality of a given integer n, n is Prime or Not? Integer n as parameter for this method.\n",
        "\n",
        "5. Create  a method called `testPrims()` allowing to test if two numbers are prime between them. Two integers are prime to one another if they have only `1` as their common divisor. Eg. 4 and 9 are prime to each other.\n",
        "\n",
        "5. Create a `tableMult()` method which creates and displays the multiplication table of a given integer. Then create an `allTablesMult()` method to display all the integer multiplication tables 1, 2, 3, ..., 9.\n",
        "\n",
        "6. Create a static `listDiv()` method that gets all the divisors of a given integer on new list called  Ldiv. Create another `listDivPrim()` method that gets all the prime divisors of a given integer."
      ],
      "metadata": {
        "id": "QovcQAZTrgGU"
      }
    },
    {
      "cell_type": "code",
      "source": [
        "class Computation:\n",
        "\n",
        "  def __init__(self):\n",
        "    pass\n",
        "\n",
        "\n",
        "  def Factorial(self,n):\n",
        "    fact=1\n",
        "    for i in range(1,n+1):\n",
        "      fact=fact*i\n",
        "    return fact\n",
        "\n",
        "\n",
        "  def naturalSum(self,n):\n",
        "    sum=0\n",
        "    for  i in range(1,n+1):\n",
        "      sum=sum+i\n",
        "    return sum\n",
        "\n",
        "  def testPrime(self,n):\n",
        "    for i in range(2,int(n**0.5)+1):\n",
        "      if n%i==0:\n",
        "        return False\n",
        "    return True\n",
        "\n",
        "  def testPrims(self,n,m):\n",
        "    smaller=min(n,m)\n",
        "    for i in range(2,smaller+1):\n",
        "      if n%i==0 and m%i==0:\n",
        "        return False\n",
        "    return True\n",
        "\n",
        "  def tableMult(self,num):\n",
        "    for i in range(1,11):\n",
        "      print(f\"{num} x {i} = {num * i}\")\n",
        "    print()\n",
        "\n",
        "\n",
        "  def allTablesMult(self):\n",
        "    for num in range(1,10):\n",
        "      self.tableMult(num)\n",
        "\n",
        "  @staticmethod\n",
        "  def listDivv(num):\n",
        "    Ldiv=[i for i in range(1,num+1) if num%i==0]\n",
        "    return Ldiv\n",
        "\n",
        "  def listDivPrim(self,num):\n",
        "    divisors=self.listDivv(num)\n",
        "    prime_divisors=[d for d in divisors if self.testPrime(d)]\n",
        "    return prime_divisors\n",
        "\n",
        "\n"
      ],
      "metadata": {
        "id": "YEkPH70l6Z-o"
      },
      "execution_count": 13,
      "outputs": []
    },
    {
      "cell_type": "code",
      "source": [
        "comp=Computation()\n",
        "\n",
        "# Factorial\n",
        "print(\"Factorial of 5:\", comp.Factorial(5))\n",
        "\n",
        "# Sum of first n natural numbers\n",
        "print(\"Sum of first 10 natural numbers:\", comp.naturalSum(10))\n",
        "\n",
        "# Test if a number is prime\n",
        "print(\"Is 17 prime?\", comp.testPrime(17))\n",
        "\n",
        "# Test if two numbers are coprime\n",
        "print(\"Are 15 and 28 coprime?\", comp.testPrims(15, 28))\n",
        "\n",
        "# Multiplication table for 7\n",
        "comp.tableMult(7)\n",
        "\n",
        "# All multiplication tables from 1 to 9\n",
        "comp.allTablesMult()\n",
        "\n",
        "# Divisors and prime divisors\n",
        "print(\"Divisors of 28:\", Computation.listDivv(28))\n",
        "print(\"Prime divisors of 28:\", comp.listDivPrim(28))\n",
        "\n"
      ],
      "metadata": {
        "colab": {
          "base_uri": "https://localhost:8080/"
        },
        "id": "RLlW6qnD29Rr",
        "outputId": "fb9e5db4-27ec-44d9-da8f-8a47e0cb3d0c"
      },
      "execution_count": 14,
      "outputs": [
        {
          "output_type": "stream",
          "name": "stdout",
          "text": [
            "Factorial of 5: 120\n",
            "Sum of first 10 natural numbers: 55\n",
            "Is 17 prime? True\n",
            "Are 15 and 28 coprime? True\n",
            "7 x 1 = 7\n",
            "7 x 2 = 14\n",
            "7 x 3 = 21\n",
            "7 x 4 = 28\n",
            "7 x 5 = 35\n",
            "7 x 6 = 42\n",
            "7 x 7 = 49\n",
            "7 x 8 = 56\n",
            "7 x 9 = 63\n",
            "7 x 10 = 70\n",
            "\n",
            "1 x 1 = 1\n",
            "1 x 2 = 2\n",
            "1 x 3 = 3\n",
            "1 x 4 = 4\n",
            "1 x 5 = 5\n",
            "1 x 6 = 6\n",
            "1 x 7 = 7\n",
            "1 x 8 = 8\n",
            "1 x 9 = 9\n",
            "1 x 10 = 10\n",
            "\n",
            "2 x 1 = 2\n",
            "2 x 2 = 4\n",
            "2 x 3 = 6\n",
            "2 x 4 = 8\n",
            "2 x 5 = 10\n",
            "2 x 6 = 12\n",
            "2 x 7 = 14\n",
            "2 x 8 = 16\n",
            "2 x 9 = 18\n",
            "2 x 10 = 20\n",
            "\n",
            "3 x 1 = 3\n",
            "3 x 2 = 6\n",
            "3 x 3 = 9\n",
            "3 x 4 = 12\n",
            "3 x 5 = 15\n",
            "3 x 6 = 18\n",
            "3 x 7 = 21\n",
            "3 x 8 = 24\n",
            "3 x 9 = 27\n",
            "3 x 10 = 30\n",
            "\n",
            "4 x 1 = 4\n",
            "4 x 2 = 8\n",
            "4 x 3 = 12\n",
            "4 x 4 = 16\n",
            "4 x 5 = 20\n",
            "4 x 6 = 24\n",
            "4 x 7 = 28\n",
            "4 x 8 = 32\n",
            "4 x 9 = 36\n",
            "4 x 10 = 40\n",
            "\n",
            "5 x 1 = 5\n",
            "5 x 2 = 10\n",
            "5 x 3 = 15\n",
            "5 x 4 = 20\n",
            "5 x 5 = 25\n",
            "5 x 6 = 30\n",
            "5 x 7 = 35\n",
            "5 x 8 = 40\n",
            "5 x 9 = 45\n",
            "5 x 10 = 50\n",
            "\n",
            "6 x 1 = 6\n",
            "6 x 2 = 12\n",
            "6 x 3 = 18\n",
            "6 x 4 = 24\n",
            "6 x 5 = 30\n",
            "6 x 6 = 36\n",
            "6 x 7 = 42\n",
            "6 x 8 = 48\n",
            "6 x 9 = 54\n",
            "6 x 10 = 60\n",
            "\n",
            "7 x 1 = 7\n",
            "7 x 2 = 14\n",
            "7 x 3 = 21\n",
            "7 x 4 = 28\n",
            "7 x 5 = 35\n",
            "7 x 6 = 42\n",
            "7 x 7 = 49\n",
            "7 x 8 = 56\n",
            "7 x 9 = 63\n",
            "7 x 10 = 70\n",
            "\n",
            "8 x 1 = 8\n",
            "8 x 2 = 16\n",
            "8 x 3 = 24\n",
            "8 x 4 = 32\n",
            "8 x 5 = 40\n",
            "8 x 6 = 48\n",
            "8 x 7 = 56\n",
            "8 x 8 = 64\n",
            "8 x 9 = 72\n",
            "8 x 10 = 80\n",
            "\n",
            "9 x 1 = 9\n",
            "9 x 2 = 18\n",
            "9 x 3 = 27\n",
            "9 x 4 = 36\n",
            "9 x 5 = 45\n",
            "9 x 6 = 54\n",
            "9 x 7 = 63\n",
            "9 x 8 = 72\n",
            "9 x 9 = 81\n",
            "9 x 10 = 90\n",
            "\n",
            "Divisors of 28: [1, 2, 4, 7, 14, 28]\n",
            "Prime divisors of 28: [1, 2, 7]\n"
          ]
        }
      ]
    },
    {
      "cell_type": "markdown",
      "source": [
        "##`Q-4`: Build flashcard using class in Python.\n",
        "\n",
        "Build a flashcard using class in python. A flashcard is a card having information on both sides, which can be used as an aid in memoization. Flashcards usually have a question on one side and an answer on the other.\n",
        "\n",
        "**Example 1:**\n",
        "\n",
        "Approach:\n",
        "\n",
        "- Create a class named FlashCard.\n",
        "- Initialize dictionary fruits using __init__() method. Here you have to define fruit name as key and it's color as value. E.g., {\"Banana\": \"yellow\", \"Strawberries\": \"pink\"}\n",
        "- Now randomly choose a pair from fruits by using _random_ module and store the key in variable _fruit_ and _value_ in variable color.\n",
        "- Now prompt the user to answer the color of the randomly chosen fruit.\n",
        "- If correct print correct else print wrong.\n",
        "\n",
        "Output:\n",
        "```bash\n",
        "welcome to fruit quiz\n",
        "What is the color of Strawberries\n",
        "pink\n",
        "Correct answer\n",
        "Enter 0, if you want to play again: 0\n",
        "What is the color of watermelon\n",
        "green\n",
        "Correct answer\n",
        "Enter 0, if you want to play again: 1\n",
        "```"
      ],
      "metadata": {
        "id": "0yn23_oEriXa"
      }
    },
    {
      "cell_type": "code",
      "source": [
        "import random\n",
        "\n",
        "class FlashCard:\n",
        "\n",
        "\n",
        "  def __init__(self):\n",
        "    self.dict1={\n",
        "        \"Banana\":\"yellow\",\n",
        "        \"Strwaberries\":'pink',\n",
        "        \"Apple\":\"red\",\n",
        "        \"Guava\":\"green\",\n",
        "        \"Mango\":\"orange\"\n",
        "    }\n",
        "    pass\n",
        "\n",
        "  def play(self):\n",
        "\n",
        "    print(\"Welcome to the fruit quize!!\")\n",
        "\n",
        "    while True:\n",
        "\n",
        "      fruit,color=random.choice(list(self.dict1.items()))\n",
        "\n",
        "\n",
        "\n",
        "      print(f\"What is the color of the {fruit}?\")\n",
        "      user_answer=input(\" \").strip().lower()\n",
        "\n",
        "\n",
        "      if user_answer==color.lower():\n",
        "        print(\"Correct\")\n",
        "      else:\n",
        "        print(\"Wrong answer\")\n",
        "\n",
        "\n",
        "      play_again=input(\"Enter 0, if you want to play again:\").strip()\n",
        "      if play_again != \"0\":\n",
        "        print(\"Thanks for playing\")\n",
        "        break\n",
        "\n",
        "\n",
        "\n",
        "\n",
        "\n",
        "\n",
        "\n",
        "\n",
        ""
      ],
      "metadata": {
        "id": "vCrUF6VU6l6w"
      },
      "execution_count": 24,
      "outputs": []
    },
    {
      "cell_type": "code",
      "source": [
        "# Example usage\n",
        "flashcard = FlashCard()\n",
        "flashcard.play()"
      ],
      "metadata": {
        "colab": {
          "base_uri": "https://localhost:8080/"
        },
        "id": "JHfNA1Mr9bjQ",
        "outputId": "13da72c3-89f6-4abb-fb2e-cd372a1e7a80"
      },
      "execution_count": 25,
      "outputs": [
        {
          "output_type": "stream",
          "name": "stdout",
          "text": [
            "Welcome to the fruit quize!!\n",
            "What is the color of the Guava?\n",
            " green\n",
            "Correct\n",
            "Enter 0, if you want to play again:0\n",
            "What is the color of the Apple?\n",
            " red\n",
            "Correct\n",
            "Enter 0, if you want to play again:0\n",
            "What is the color of the Guava?\n",
            " red\n",
            "Wrong answer\n",
            "Enter 0, if you want to play again:0\n",
            "What is the color of the Strwaberries?\n",
            " pink\n",
            "Correct\n",
            "Enter 0, if you want to play again:2\n",
            "Thanks for playing\n"
          ]
        }
      ]
    },
    {
      "cell_type": "markdown",
      "source": [
        "## `Q-5:` Problem 5 based on OOP Python.\n",
        "\n",
        "TechWorld, a technology training center, wants to allocate courses for instructors. An instructor is identified by name, technology skills, experience and average feedback. An instructor is allocated a course, if he/she satisfies the below two conditions:\n",
        "- eligibility criteria:\n",
        "    - if experience is more than 3 years, average feedback should be 4.5 or more\n",
        "    - if experience is 3 years or less, average feedback should be 4 or more\n",
        "- he/she should posses the technology skill for the course\n",
        "\n",
        "Identify the class name and attributes to represent instructors. Write a Python program to implement the class chosen with its attributes and methods.\n",
        "\n",
        "**Note:**\n",
        "- Consider all instance variables to be private and methods to be public.\n",
        "- An instructor may have multiple technology skills, so consider instance variable, technology_skill to be a list.\n",
        "- *check_eligibility()*: Return true if eligibility criteria is satisfied by the instructor. Else, return false\n",
        "- *allocate_course(technology)*: Return true if the course which requires the given technology can be allocated to the instructor. Else, return false.\n",
        "\n",
        "Represent a few objects of the class, initialize instance variables using setter methods, invoke\n",
        "appropriate methods and test your program."
      ],
      "metadata": {
        "id": "GN2r0jbRewYr"
      }
    },
    {
      "cell_type": "code",
      "source": [
        "class instructor:\n",
        "\n",
        "  def __init__(self,name,experience,average_feedback,technology_skills):\n",
        "    self.__name=name\n",
        "    self.__experience=experience\n",
        "    self.__average_feedback=average_feedback\n",
        "    self.__technology_skills=technology_skills\n",
        "\n",
        "  def get_name(self):\n",
        "    return self.__name\n",
        "\n",
        "  def set_name(self,name):\n",
        "    self.__name=name\n",
        "\n",
        "  def get_experience(self):\n",
        "    return self.__experience\n",
        "\n",
        "  def set_experience(self,experience):\n",
        "    self.__experience=experience\n",
        "\n",
        "  def get_average_feedback(self):\n",
        "    return self.__average_feedback\n",
        "\n",
        "  def set_name(self,average_feedback):\n",
        "    self.__average_feedback=average_feedback\n",
        "\n",
        "  def get_technology_skills(self):\n",
        "    return self.__technology_skills\n",
        "\n",
        "  def set_technology_skills(self,technology_skills):\n",
        "    self.__technology_skills=technology_skills\n",
        "\n",
        "\n",
        "  def check_eligibility(self):\n",
        "    if self.__experience>3 and self.__average_feedback>=4.5:\n",
        "      return True\n",
        "    elif self.__experience<=3 and self.__average_feedback>=4:\n",
        "      return True\n",
        "    return False\n",
        "\n",
        "  def allocate_course(self,technology):\n",
        "    if self.check_eligibility() and technology in self.__technology_skills:\n",
        "      return True\n",
        "    return False\n",
        "\n",
        "# Testing the program\n",
        "# Create instructor objects\n",
        "instructor1 = instructor(\"Alice\", 4, 4.6, [\"Python\", \"Java\"])\n",
        "instructor2 = instructor(\"Bob\", 2, 4.2, [\"C++\", \"JavaScript\"])\n",
        "instructor3 = instructor(\"Charlie\", 5, 4.4, [\"Python\", \"Ruby\"])\n",
        "\n",
        "# Check eligibility and allocate courses\n",
        "print(f\"Is {instructor1.get_name()} eligible? {instructor1.check_eligibility()}\")\n",
        "print(f\"Can {instructor1.get_name()} be allocated a Python course? {instructor1.allocate_course('Python')}\")\n",
        "\n",
        "print(f\"Is {instructor2.get_name()} eligible? {instructor2.check_eligibility()}\")\n",
        "print(f\"Can {instructor2.get_name()} be allocated a Python course? {instructor2.allocate_course('Python')}\")\n",
        "\n",
        "print(f\"Is {instructor3.get_name()} eligible? {instructor3.check_eligibility()}\")\n",
        "print(f\"Can {instructor3.get_name()} be allocated a Python course? {instructor3.allocate_course('Python')}\")"
      ],
      "metadata": {
        "id": "pdMFuVFnlvKL",
        "colab": {
          "base_uri": "https://localhost:8080/"
        },
        "outputId": "79566881-4f88-4f1e-9689-437a8579bfb8"
      },
      "execution_count": 26,
      "outputs": [
        {
          "output_type": "stream",
          "name": "stdout",
          "text": [
            "Is Alice eligible? True\n",
            "Can Alice be allocated a Python course? True\n",
            "Is Bob eligible? True\n",
            "Can Bob be allocated a Python course? False\n",
            "Is Charlie eligible? False\n",
            "Can Charlie be allocated a Python course? False\n"
          ]
        }
      ]
    },
    {
      "cell_type": "code",
      "source": [],
      "metadata": {
        "id": "NtEoDukUBjLN"
      },
      "execution_count": null,
      "outputs": []
    }
  ]
}