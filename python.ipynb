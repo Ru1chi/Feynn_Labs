{
  "nbformat": 4,
  "nbformat_minor": 0,
  "metadata": {
    "colab": {
      "provenance": [],
      "authorship_tag": "ABX9TyOxgQMLRN9PfvL/m5UNfOmS",
      "include_colab_link": true
    },
    "kernelspec": {
      "name": "python3",
      "display_name": "Python 3"
    },
    "language_info": {
      "name": "python"
    }
  },
  "cells": [
    {
      "cell_type": "markdown",
      "metadata": {
        "id": "view-in-github",
        "colab_type": "text"
      },
      "source": [
        "<a href=\"https://colab.research.google.com/github/Ru1chi/Feynn_Labs/blob/main/python.ipynb\" target=\"_parent\"><img src=\"https://colab.research.google.com/assets/colab-badge.svg\" alt=\"Open In Colab\"/></a>"
      ]
    },
    {
      "cell_type": "code",
      "source": [
        "a=10\n",
        "b=20"
      ],
      "metadata": {
        "id": "KBhoOaGetJ2C"
      },
      "execution_count": null,
      "outputs": []
    },
    {
      "cell_type": "code",
      "source": [
        "a=a+b# add a,b= 30"
      ],
      "metadata": {
        "id": "iHR-hufSt-J2"
      },
      "execution_count": null,
      "outputs": []
    },
    {
      "cell_type": "code",
      "source": [
        "b=a-b #30-20=10"
      ],
      "metadata": {
        "id": "nF8BLyHjuBm-"
      },
      "execution_count": null,
      "outputs": []
    },
    {
      "cell_type": "code",
      "source": [
        "a=a-b#30-10=20"
      ],
      "metadata": {
        "id": "EEuZbEDyuIuu"
      },
      "execution_count": null,
      "outputs": []
    },
    {
      "cell_type": "code",
      "source": [
        "print(a)"
      ],
      "metadata": {
        "colab": {
          "base_uri": "https://localhost:8080/"
        },
        "id": "aeQMybjtuLEx",
        "outputId": "79c0a18f-4614-4814-ce44-d8013dabd437"
      },
      "execution_count": null,
      "outputs": [
        {
          "output_type": "stream",
          "name": "stdout",
          "text": [
            "20\n"
          ]
        }
      ]
    },
    {
      "cell_type": "code",
      "source": [
        "print(b)"
      ],
      "metadata": {
        "colab": {
          "base_uri": "https://localhost:8080/"
        },
        "id": "dWtoykOGuM24",
        "outputId": "fc447df2-a926-45b4-f9d4-0b8b85bb42b2"
      },
      "execution_count": null,
      "outputs": [
        {
          "output_type": "stream",
          "name": "stdout",
          "text": [
            "10\n"
          ]
        }
      ]
    },
    {
      "cell_type": "code",
      "source": [
        "for i in range(1,5):\n",
        "    if str(i) == str(i)[::-1]:\n",
        "        print(i)\n"
      ],
      "metadata": {
        "colab": {
          "base_uri": "https://localhost:8080/"
        },
        "id": "nmxYpcRJwKRh",
        "outputId": "a4f56095-08cb-4f58-b0a1-3eaf8aa8acd5"
      },
      "execution_count": null,
      "outputs": [
        {
          "output_type": "stream",
          "name": "stdout",
          "text": [
            "1\n",
            "2\n",
            "3\n",
            "4\n"
          ]
        }
      ]
    },
    {
      "cell_type": "markdown",
      "source": [
        "### **Data Types in python:**\n",
        "**basixc types**-int,float,boolean,string,complex(3+2j)\n",
        "\n",
        "**container types**-list[](array in other language),tuple(),set{union,intersection},dectionary{key value pairs}\n",
        "\n",
        "\n",
        "**user_defined type**-class\n"
      ],
      "metadata": {
        "id": "uP03vKHtCN37"
      }
    },
    {
      "cell_type": "markdown",
      "source": [
        "### **Comments in python**:\n",
        "\n"
      ],
      "metadata": {
        "id": "-JRtAq0kIJZy"
      }
    },
    {
      "cell_type": "markdown",
      "source": [
        "## **Variables**\n",
        "\n",
        "dynamic typing=do not need to define the type of variable"
      ],
      "metadata": {
        "id": "BSBJDxfJI1v-"
      }
    },
    {
      "cell_type": "code",
      "source": [
        "#dynamic binding= when a variable can print multiple data types\n",
        "#special ceclaraion syntax\n",
        "a=5;b=6;c=7\n",
        "print(a,b,c,sep=\"\\n\")"
      ],
      "metadata": {
        "colab": {
          "base_uri": "https://localhost:8080/"
        },
        "id": "dKY4Ef_SDJ9u",
        "outputId": "224e7f3d-3ca1-4026-a66f-90c62059217e"
      },
      "execution_count": null,
      "outputs": [
        {
          "output_type": "stream",
          "name": "stdout",
          "text": [
            "5\n",
            "6\n",
            "7\n"
          ]
        }
      ]
    },
    {
      "cell_type": "markdown",
      "source": [
        "### **Keywords and identifiers in python**\n",
        "python is case sensitive\n"
      ],
      "metadata": {
        "id": "twXeBfHVOZmw"
      }
    },
    {
      "cell_type": "code",
      "source": [
        "import keyword"
      ],
      "metadata": {
        "id": "F-7AcobzOJqj"
      },
      "execution_count": null,
      "outputs": []
    },
    {
      "cell_type": "code",
      "source": [
        "#python has 33 keywords\n",
        "print(keyword.kwlist)"
      ],
      "metadata": {
        "colab": {
          "base_uri": "https://localhost:8080/"
        },
        "id": "xb9yGSO6OtGK",
        "outputId": "c2ae1dcd-e85d-4568-f72b-2f9897451b2a"
      },
      "execution_count": null,
      "outputs": [
        {
          "output_type": "stream",
          "name": "stdout",
          "text": [
            "['False', 'None', 'True', 'and', 'as', 'assert', 'async', 'await', 'break', 'class', 'continue', 'def', 'del', 'elif', 'else', 'except', 'finally', 'for', 'from', 'global', 'if', 'import', 'in', 'is', 'lambda', 'nonlocal', 'not', 'or', 'pass', 'raise', 'return', 'try', 'while', 'with', 'yield']\n"
          ]
        }
      ]
    },
    {
      "cell_type": "code",
      "source": [
        "#python identifier is a name used to identify a variable,function,class,modue or other object\n",
        "#can only start with alphabet or __\n",
        "#keywords cannot be used as an identifier\n"
      ],
      "metadata": {
        "id": "xhZRbdjrOvEP"
      },
      "execution_count": null,
      "outputs": []
    },
    {
      "cell_type": "markdown",
      "source": [
        "### **user input and type conversion**"
      ],
      "metadata": {
        "id": "uv566sy8RG0X"
      }
    },
    {
      "cell_type": "code",
      "source": [
        "n = int(input().strip())\n",
        "if n/2==0:\n",
        "    print('Wierd')\n"
      ],
      "metadata": {
        "colab": {
          "base_uri": "https://localhost:8080/"
        },
        "id": "a7Cqv4JCRGTV",
        "outputId": "735a2327-8590-451e-a251-b3052f6f8adc"
      },
      "execution_count": null,
      "outputs": [
        {
          "name": "stdout",
          "output_type": "stream",
          "text": [
            "2\n"
          ]
        }
      ]
    },
    {
      "cell_type": "code",
      "source": [
        "input(\"name:\")"
      ],
      "metadata": {
        "colab": {
          "base_uri": "https://localhost:8080/",
          "height": 53
        },
        "id": "egUoVUH1RkSV",
        "outputId": "413d0841-a671-4fd9-fc71-66d6914d293e"
      },
      "execution_count": null,
      "outputs": [
        {
          "name": "stdout",
          "output_type": "stream",
          "text": [
            "name:ruchi\n"
          ]
        },
        {
          "output_type": "execute_result",
          "data": {
            "text/plain": [
              "'ruchi'"
            ],
            "application/vnd.google.colaboratory.intrinsic+json": {
              "type": "string"
            }
          },
          "metadata": {},
          "execution_count": 35
        }
      ]
    },
    {
      "cell_type": "code",
      "source": [
        "a=10\n",
        "b=20\n",
        "sum=a+b\n",
        "print(sum)"
      ],
      "metadata": {
        "colab": {
          "base_uri": "https://localhost:8080/"
        },
        "id": "WeXTD_SnTrV6",
        "outputId": "a5e41e45-64c8-4fa2-b422-89ee0d75ba36"
      },
      "execution_count": null,
      "outputs": [
        {
          "output_type": "stream",
          "name": "stdout",
          "text": [
            "30\n"
          ]
        }
      ]
    },
    {
      "cell_type": "markdown",
      "source": [
        "### **Type conversion-implicit and explicit type conversion**"
      ],
      "metadata": {
        "id": "pQKUwcJXVgoP"
      }
    },
    {
      "cell_type": "code",
      "source": [
        "#implicit\n",
        "4+5.5"
      ],
      "metadata": {
        "colab": {
          "base_uri": "https://localhost:8080/"
        },
        "id": "xJiLQGFFUN7O",
        "outputId": "fbc78e5e-0e14-47fc-9937-fe408d686dff"
      },
      "execution_count": null,
      "outputs": [
        {
          "output_type": "execute_result",
          "data": {
            "text/plain": [
              "9.5"
            ]
          },
          "metadata": {},
          "execution_count": 37
        }
      ]
    },
    {
      "cell_type": "code",
      "source": [
        "a=4.5"
      ],
      "metadata": {
        "id": "5HQwnGxdVq_z"
      },
      "execution_count": null,
      "outputs": []
    },
    {
      "cell_type": "code",
      "source": [
        "int(a)"
      ],
      "metadata": {
        "colab": {
          "base_uri": "https://localhost:8080/"
        },
        "id": "bb0-YYgnWJcD",
        "outputId": "63e53012-7ade-4526-ea7f-6a52cdee91d4"
      },
      "execution_count": null,
      "outputs": [
        {
          "output_type": "execute_result",
          "data": {
            "text/plain": [
              "4"
            ]
          },
          "metadata": {},
          "execution_count": 40
        }
      ]
    },
    {
      "cell_type": "code",
      "source": [
        "bool(a)"
      ],
      "metadata": {
        "colab": {
          "base_uri": "https://localhost:8080/"
        },
        "id": "KiajpmUeWkq7",
        "outputId": "11882ed9-2bfc-48ef-b0af-2219727d9f59"
      },
      "execution_count": null,
      "outputs": [
        {
          "output_type": "execute_result",
          "data": {
            "text/plain": [
              "True"
            ]
          },
          "metadata": {},
          "execution_count": 41
        }
      ]
    },
    {
      "cell_type": "code",
      "source": [
        "a#still the same as type conversion is not permanent operation"
      ],
      "metadata": {
        "colab": {
          "base_uri": "https://localhost:8080/"
        },
        "id": "egdEFKv1Wnkh",
        "outputId": "d8f3a57f-93e9-4d48-8183-1177ef186eaf"
      },
      "execution_count": null,
      "outputs": [
        {
          "output_type": "execute_result",
          "data": {
            "text/plain": [
              "4.5"
            ]
          },
          "metadata": {},
          "execution_count": 42
        }
      ]
    },
    {
      "cell_type": "code",
      "source": [
        "first=int(input(\"Enter the num:\"))"
      ],
      "metadata": {
        "colab": {
          "base_uri": "https://localhost:8080/"
        },
        "id": "_TXMYFoRWorO",
        "outputId": "d71a135f-d526-4f24-f50d-c63d5631d176"
      },
      "execution_count": null,
      "outputs": [
        {
          "name": "stdout",
          "output_type": "stream",
          "text": [
            "Enter the num:1\n"
          ]
        }
      ]
    },
    {
      "cell_type": "markdown",
      "source": [
        "### **Literals-raw data given to variable || and operators-**\n",
        "\n"
      ],
      "metadata": {
        "id": "gfKnUCinXKdo"
      }
    },
    {
      "cell_type": "markdown",
      "source": [
        "literals:\n",
        "\n",
        "numeric literal\n",
        "\n",
        "string literal\n",
        "\n",
        "float literal\n",
        "\n",
        "boolean literal\n",
        "\n",
        "special literal\n",
        "\n"
      ],
      "metadata": {
        "id": "SIYuq6Lsyvyg"
      }
    },
    {
      "cell_type": "markdown",
      "source": [
        "operators-used to perform operation on variables and values.:\n",
        "arithmatic,coparison,logical,bitwise,assignment,identity,membership"
      ],
      "metadata": {
        "id": "eiuOlXrp1AvC"
      }
    },
    {
      "cell_type": "code",
      "source": [
        "#arithmatic\n",
        "a=2\n",
        "b=5"
      ],
      "metadata": {
        "id": "JoYsvhHUXCG-"
      },
      "execution_count": null,
      "outputs": []
    },
    {
      "cell_type": "code",
      "source": [
        "print(a+b)"
      ],
      "metadata": {
        "colab": {
          "base_uri": "https://localhost:8080/"
        },
        "id": "-PyLrRfs1rJl",
        "outputId": "105d9e87-76e7-45e4-a957-eef15b641b69"
      },
      "execution_count": null,
      "outputs": [
        {
          "output_type": "stream",
          "name": "stdout",
          "text": [
            "7\n"
          ]
        }
      ]
    },
    {
      "cell_type": "code",
      "source": [
        "print(a-b)"
      ],
      "metadata": {
        "colab": {
          "base_uri": "https://localhost:8080/"
        },
        "id": "PxXkAGcg1vNC",
        "outputId": "41bf27df-f07c-4aea-9b61-40b834a4578f"
      },
      "execution_count": null,
      "outputs": [
        {
          "output_type": "stream",
          "name": "stdout",
          "text": [
            "-3\n"
          ]
        }
      ]
    },
    {
      "cell_type": "code",
      "source": [
        "print(a*b)"
      ],
      "metadata": {
        "colab": {
          "base_uri": "https://localhost:8080/"
        },
        "id": "gK_bccoY1wNl",
        "outputId": "ab2ecfd2-544b-43ae-95e7-d82abdc5347a"
      },
      "execution_count": null,
      "outputs": [
        {
          "output_type": "stream",
          "name": "stdout",
          "text": [
            "10\n"
          ]
        }
      ]
    },
    {
      "cell_type": "code",
      "source": [
        "print(a/b)"
      ],
      "metadata": {
        "colab": {
          "base_uri": "https://localhost:8080/"
        },
        "id": "IDcIEIMC1xlc",
        "outputId": "e03b4bbd-edc3-4dd0-9b96-62a6d52717e3"
      },
      "execution_count": null,
      "outputs": [
        {
          "output_type": "stream",
          "name": "stdout",
          "text": [
            "0.4\n"
          ]
        }
      ]
    },
    {
      "cell_type": "code",
      "source": [
        "print(a**b)"
      ],
      "metadata": {
        "colab": {
          "base_uri": "https://localhost:8080/"
        },
        "id": "3qZhJbKJ1yry",
        "outputId": "1c8835f0-9345-4284-ae76-b80e919171dd"
      },
      "execution_count": null,
      "outputs": [
        {
          "output_type": "stream",
          "name": "stdout",
          "text": [
            "32\n"
          ]
        }
      ]
    },
    {
      "cell_type": "code",
      "source": [
        "print(a//b)"
      ],
      "metadata": {
        "colab": {
          "base_uri": "https://localhost:8080/"
        },
        "id": "BbA2Fy5110qG",
        "outputId": "540c41f0-1ef8-4f25-c095-d594e26f3f49"
      },
      "execution_count": null,
      "outputs": [
        {
          "output_type": "stream",
          "name": "stdout",
          "text": [
            "0\n"
          ]
        }
      ]
    },
    {
      "cell_type": "code",
      "source": [
        "#comparison\n",
        "print(a<b)"
      ],
      "metadata": {
        "colab": {
          "base_uri": "https://localhost:8080/"
        },
        "id": "2bdNastI12OD",
        "outputId": "53cde15f-9ed6-4a4a-9884-ef99a230de3f"
      },
      "execution_count": null,
      "outputs": [
        {
          "output_type": "stream",
          "name": "stdout",
          "text": [
            "True\n"
          ]
        }
      ]
    },
    {
      "cell_type": "code",
      "source": [
        "print(a<=b)"
      ],
      "metadata": {
        "colab": {
          "base_uri": "https://localhost:8080/"
        },
        "id": "PpKL9MRp2BO4",
        "outputId": "06b3a659-b13c-4c7a-a8b4-c2b9f0998bb9"
      },
      "execution_count": null,
      "outputs": [
        {
          "output_type": "stream",
          "name": "stdout",
          "text": [
            "True\n"
          ]
        }
      ]
    },
    {
      "cell_type": "code",
      "source": [
        "#logical operator\n",
        "x=True\n",
        "y=False"
      ],
      "metadata": {
        "id": "_z0Bzpfo2GxH"
      },
      "execution_count": null,
      "outputs": []
    },
    {
      "cell_type": "code",
      "source": [
        "print(x or y)"
      ],
      "metadata": {
        "colab": {
          "base_uri": "https://localhost:8080/"
        },
        "id": "694bB87l2QM0",
        "outputId": "4edaf9b8-a75d-457c-af8e-16858c89db6a"
      },
      "execution_count": null,
      "outputs": [
        {
          "output_type": "stream",
          "name": "stdout",
          "text": [
            "True\n"
          ]
        }
      ]
    },
    {
      "cell_type": "code",
      "source": [
        "print(x and y)"
      ],
      "metadata": {
        "colab": {
          "base_uri": "https://localhost:8080/"
        },
        "id": "62aRJQpZ2Ro4",
        "outputId": "9d3bf713-aa23-49e3-a0ed-4029f7fdc3d6"
      },
      "execution_count": null,
      "outputs": [
        {
          "output_type": "stream",
          "name": "stdout",
          "text": [
            "False\n"
          ]
        }
      ]
    },
    {
      "cell_type": "code",
      "source": [
        "print(not x)#bcoz current value of x is true"
      ],
      "metadata": {
        "colab": {
          "base_uri": "https://localhost:8080/"
        },
        "id": "k0S8_ce52TGa",
        "outputId": "19810cbe-e983-4bc2-e0a0-1c01db100b17"
      },
      "execution_count": null,
      "outputs": [
        {
          "output_type": "stream",
          "name": "stdout",
          "text": [
            "False\n"
          ]
        }
      ]
    },
    {
      "cell_type": "code",
      "source": [
        "#bitwise operator\n",
        "x=2\n",
        "y=3"
      ],
      "metadata": {
        "id": "sUB8hNx72Ylp"
      },
      "execution_count": null,
      "outputs": []
    },
    {
      "cell_type": "code",
      "source": [
        "print(x & y)#covert x to binary= 010 and binary of y=110 now add the binary"
      ],
      "metadata": {
        "colab": {
          "base_uri": "https://localhost:8080/"
        },
        "id": "47EQB_0L2g9S",
        "outputId": "15bb6437-c7ac-4773-954d-91eef1f730b4"
      },
      "execution_count": null,
      "outputs": [
        {
          "output_type": "stream",
          "name": "stdout",
          "text": [
            "2\n"
          ]
        }
      ]
    },
    {
      "cell_type": "code",
      "source": [
        "print(x|y)"
      ],
      "metadata": {
        "colab": {
          "base_uri": "https://localhost:8080/"
        },
        "id": "_7QX9coi2j19",
        "outputId": "47c2f235-5bee-461a-e2fe-201d390f42bb"
      },
      "execution_count": null,
      "outputs": [
        {
          "output_type": "stream",
          "name": "stdout",
          "text": [
            "3\n"
          ]
        }
      ]
    },
    {
      "cell_type": "code",
      "source": [
        "#assignment operator\n",
        "a=3"
      ],
      "metadata": {
        "id": "duLjhAEo24Je"
      },
      "execution_count": null,
      "outputs": []
    },
    {
      "cell_type": "code",
      "source": [
        "print(a)"
      ],
      "metadata": {
        "colab": {
          "base_uri": "https://localhost:8080/"
        },
        "id": "j6z6oPVC3K62",
        "outputId": "040433cf-c8d2-48f3-db72-b5b3165e836f"
      },
      "execution_count": null,
      "outputs": [
        {
          "output_type": "stream",
          "name": "stdout",
          "text": [
            "3\n"
          ]
        }
      ]
    },
    {
      "cell_type": "code",
      "source": [
        "a+=3\n",
        "print(a)"
      ],
      "metadata": {
        "colab": {
          "base_uri": "https://localhost:8080/"
        },
        "id": "7FsqJxNb3MTP",
        "outputId": "ca0897e5-d44a-4f00-cbbb-f2a4bd0b1fb5"
      },
      "execution_count": null,
      "outputs": [
        {
          "output_type": "stream",
          "name": "stdout",
          "text": [
            "6\n"
          ]
        }
      ]
    },
    {
      "cell_type": "code",
      "source": [
        "a-=3"
      ],
      "metadata": {
        "id": "YQGFo67Z3Saw"
      },
      "execution_count": null,
      "outputs": []
    },
    {
      "cell_type": "code",
      "source": [
        "print(a)"
      ],
      "metadata": {
        "colab": {
          "base_uri": "https://localhost:8080/"
        },
        "id": "pBSZn5gi3hyo",
        "outputId": "983f8bcc-de7e-422c-b3dd-7e6651f5a39e"
      },
      "execution_count": null,
      "outputs": [
        {
          "output_type": "stream",
          "name": "stdout",
          "text": [
            "3\n"
          ]
        }
      ]
    },
    {
      "cell_type": "code",
      "source": [
        "a*=3"
      ],
      "metadata": {
        "id": "qtXPMP383jgJ"
      },
      "execution_count": null,
      "outputs": []
    },
    {
      "cell_type": "code",
      "source": [
        "a/=3"
      ],
      "metadata": {
        "id": "IeCpOPNs30_e"
      },
      "execution_count": null,
      "outputs": []
    },
    {
      "cell_type": "code",
      "source": [
        "print(a)"
      ],
      "metadata": {
        "colab": {
          "base_uri": "https://localhost:8080/"
        },
        "id": "csjve5un34FX",
        "outputId": "9a77a665-e333-47d1-dd18-f69d6d2f1e02"
      },
      "execution_count": null,
      "outputs": [
        {
          "output_type": "stream",
          "name": "stdout",
          "text": [
            "3.0\n"
          ]
        }
      ]
    },
    {
      "cell_type": "code",
      "source": [
        "#identity operator\n",
        "a=3\n",
        "b=3\n",
        "print(a is b)# can use \"is not\""
      ],
      "metadata": {
        "colab": {
          "base_uri": "https://localhost:8080/"
        },
        "id": "BHYWQpnb35U_",
        "outputId": "f7e85d77-ca1a-40ce-c55f-aec3b86eba13"
      },
      "execution_count": null,
      "outputs": [
        {
          "output_type": "stream",
          "name": "stdout",
          "text": [
            "True\n"
          ]
        }
      ]
    },
    {
      "cell_type": "code",
      "source": [
        "a=[1,2,3]\n",
        "b=[1,2,3]\n",
        "print(a is b)# they are not the same"
      ],
      "metadata": {
        "colab": {
          "base_uri": "https://localhost:8080/"
        },
        "id": "1Lod9ZA24Fd_",
        "outputId": "733a4c9a-c4b1-4949-d0ae-27a80d3a2298"
      },
      "execution_count": null,
      "outputs": [
        {
          "output_type": "stream",
          "name": "stdout",
          "text": [
            "False\n"
          ]
        }
      ]
    },
    {
      "cell_type": "code",
      "source": [
        "#membership operator\n",
        "x='Delhi'\n",
        "print('D'  not in x)"
      ],
      "metadata": {
        "colab": {
          "base_uri": "https://localhost:8080/"
        },
        "id": "mNfFjRCq4VvC",
        "outputId": "9c6b1eb1-27ef-45c8-95b3-eb502ce30804"
      },
      "execution_count": null,
      "outputs": [
        {
          "output_type": "stream",
          "name": "stdout",
          "text": [
            "False\n"
          ]
        }
      ]
    },
    {
      "cell_type": "markdown",
      "source": [
        "### **If-else statement**\n"
      ],
      "metadata": {
        "id": "V3kIyDJc7iOD"
      }
    },
    {
      "cell_type": "code",
      "source": [
        "n=int(input())\n",
        "for i in range(1,n+1):\n",
        "    forward=''.join(str(x) for x in range(1,i+1))\n",
        "    backward=''.join(str(x) for x in range(i-1,0,-1))\n",
        "    print(forward+backward)\n"
      ],
      "metadata": {
        "colab": {
          "base_uri": "https://localhost:8080/"
        },
        "id": "LJnlj1df4nl3",
        "outputId": "df04c01d-e0e9-4fe3-b384-6f819d935417"
      },
      "execution_count": null,
      "outputs": [
        {
          "output_type": "stream",
          "name": "stdout",
          "text": [
            "5\n",
            "1\n",
            "121\n",
            "12321\n",
            "1234321\n",
            "123454321\n"
          ]
        }
      ]
    },
    {
      "cell_type": "code",
      "source": [
        "email=input(\"Enter your email:\")\n",
        "if \"@\" in email:\n",
        "    password=input(\"Enter yur password\")\n",
        "\n",
        "    if email==(\"Campusx@gmail.com\") and password==(\"123\"):\n",
        "        print(\"Welcome\")\n",
        "    elif email==\"Campusx@gmail.com\"  and password!=(\"123\"):\n",
        "        print(\"The password entered is wrong.\")\n",
        "        password=input(\"Please try again!\")\n",
        "        if password==\"123\":\n",
        "            print(\"Welcome\")\n",
        "        else:\n",
        "            print(\"Still incorrect\")\n",
        "    else:\n",
        "        print(\"Incorrect credential\")\n",
        "else:\n",
        "    print(\"Incorrect email\")\n"
      ],
      "metadata": {
        "colab": {
          "base_uri": "https://localhost:8080/"
        },
        "id": "1KlQ3RdC_yTd",
        "outputId": "d9f54dee-4615-4ae7-a906-34be065bdd78"
      },
      "execution_count": null,
      "outputs": [
        {
          "output_type": "stream",
          "name": "stdout",
          "text": [
            "Enter your email:Campusx@gmail.com\n",
            "Enter yur password123\n",
            "Welcome\n"
          ]
        }
      ]
    },
    {
      "cell_type": "markdown",
      "source": [
        "### **While loops**\n",
        "\n",
        "while loop\n",
        "for loop"
      ],
      "metadata": {
        "id": "ySGMdQ2klYwI"
      }
    },
    {
      "cell_type": "code",
      "source": [
        "#while condition:\n",
        "    #code\n"
      ],
      "metadata": {
        "id": "ZcuYhwkMhPQz"
      },
      "execution_count": null,
      "outputs": []
    },
    {
      "cell_type": "code",
      "source": [
        "num=int(input(\"Enter the number:\"))\n",
        "i=1\n",
        "while i <11:\n",
        "    print(num,\"*\",i,\"=\",num*i)\n",
        "    i+=1\n",
        "\n",
        "#to print tables"
      ],
      "metadata": {
        "colab": {
          "base_uri": "https://localhost:8080/"
        },
        "id": "hYfaLDONml8O",
        "outputId": "8942f478-e81c-4b10-e7f2-4a4b5396556c"
      },
      "execution_count": null,
      "outputs": [
        {
          "output_type": "stream",
          "name": "stdout",
          "text": [
            "Enter the number:12\n",
            "12 * 1 = 12\n",
            "12 * 2 = 24\n",
            "12 * 3 = 36\n",
            "12 * 4 = 48\n",
            "12 * 5 = 60\n",
            "12 * 6 = 72\n",
            "12 * 7 = 84\n",
            "12 * 8 = 96\n",
            "12 * 9 = 108\n",
            "12 * 10 = 120\n"
          ]
        }
      ]
    },
    {
      "cell_type": "code",
      "source": [
        "#guess the num game\n",
        "program selects a number randomly betwn 0-100\n",
        "user has to guess the number by giving input\n",
        "if match then guessed correct else try again until it matches\n"
      ],
      "metadata": {
        "id": "9xfh0Gdjm9Sl"
      },
      "execution_count": null,
      "outputs": []
    },
    {
      "cell_type": "code",
      "source": [
        "import random"
      ],
      "metadata": {
        "id": "qeYEqCUYocNv"
      },
      "execution_count": null,
      "outputs": []
    },
    {
      "cell_type": "code",
      "source": [
        "num=random.randint(0,100)\n",
        "guess=int(input(\"Guess the number:\"))\n",
        "counter=1\n",
        "while num!=guess:\n",
        "    if guess<num:\n",
        "        print(\"Guess higher.\")\n",
        "\n",
        "    elif guess>num:\n",
        "        print(\"Guess lower.\")\n",
        "    guess=int(input(\"Guess the number:\"))\n",
        "    counter+=1\n",
        "\n",
        "print(\"You guessed it right!\")\n",
        "print(\"You took \",counter,\"attempts.\")\n",
        "\n"
      ],
      "metadata": {
        "colab": {
          "base_uri": "https://localhost:8080/"
        },
        "id": "SynRJmt4opQ4",
        "outputId": "0d632b42-55b2-42f6-a1b2-2d790829feea"
      },
      "execution_count": null,
      "outputs": [
        {
          "output_type": "stream",
          "name": "stdout",
          "text": [
            "Guess the number:6\n",
            "Guess lower.\n",
            "Guess the number:3\n",
            "Guess lower.\n",
            "Guess the number:2\n",
            "You guessed it right!\n",
            "You took  3 attempts.\n"
          ]
        }
      ]
    },
    {
      "cell_type": "markdown",
      "source": [
        "**for loops in python**"
      ],
      "metadata": {
        "id": "RnWdK0f6qaMX"
      }
    },
    {
      "cell_type": "code",
      "source": [
        "#range function\n",
        "list(range(1,11))\n"
      ],
      "metadata": {
        "colab": {
          "base_uri": "https://localhost:8080/"
        },
        "id": "J4w7T0f9otjK",
        "outputId": "e4b32240-5167-45da-bbf0-f2483703ea8e"
      },
      "execution_count": null,
      "outputs": [
        {
          "output_type": "execute_result",
          "data": {
            "text/plain": [
              "[1, 2, 3, 4, 5, 6, 7, 8, 9, 10]"
            ]
          },
          "metadata": {},
          "execution_count": 59
        }
      ]
    },
    {
      "cell_type": "code",
      "source": [
        "range(start,end,step)"
      ],
      "metadata": {
        "id": "FDwX0tKbpDTC"
      },
      "execution_count": null,
      "outputs": []
    },
    {
      "cell_type": "code",
      "source": [
        "list(range(10,0,-1))"
      ],
      "metadata": {
        "colab": {
          "base_uri": "https://localhost:8080/"
        },
        "id": "ytJqbrefsUYH",
        "outputId": "b811799f-cd35-4c08-ec61-7be0e48b179a"
      },
      "execution_count": null,
      "outputs": [
        {
          "output_type": "execute_result",
          "data": {
            "text/plain": [
              "[10, 9, 8, 7, 6, 5, 4, 3, 2, 1]"
            ]
          },
          "metadata": {},
          "execution_count": 61
        }
      ]
    },
    {
      "cell_type": "code",
      "source": [
        "#sequence\n",
        "for i in range(1,11,2):\n",
        "    print(i)"
      ],
      "metadata": {
        "colab": {
          "base_uri": "https://localhost:8080/"
        },
        "id": "Dhz8nEMqsZPj",
        "outputId": "1f47d48b-a487-4f0c-a0ff-6ee4e5f62b1f"
      },
      "execution_count": null,
      "outputs": [
        {
          "output_type": "stream",
          "name": "stdout",
          "text": [
            "1\n",
            "3\n",
            "5\n",
            "7\n",
            "9\n"
          ]
        }
      ]
    },
    {
      "cell_type": "code",
      "source": [
        "for i in \"kolkata\":\n",
        "    print(i)"
      ],
      "metadata": {
        "colab": {
          "base_uri": "https://localhost:8080/"
        },
        "id": "09GX6USfsrKI",
        "outputId": "6d7adfbf-de31-4dcc-89f2-e9757233d850"
      },
      "execution_count": null,
      "outputs": [
        {
          "output_type": "stream",
          "name": "stdout",
          "text": [
            "k\n",
            "o\n",
            "l\n",
            "k\n",
            "a\n",
            "t\n",
            "a\n"
          ]
        }
      ]
    },
    {
      "cell_type": "code",
      "source": [
        "for i in [1,2,3,4,5]:\n",
        "    print(i)"
      ],
      "metadata": {
        "colab": {
          "base_uri": "https://localhost:8080/"
        },
        "id": "U98l4ElQw7Ab",
        "outputId": "9aa62fd3-4491-4ae4-9b8d-e3a4b451c47f"
      },
      "execution_count": null,
      "outputs": [
        {
          "output_type": "stream",
          "name": "stdout",
          "text": [
            "1\n",
            "2\n",
            "3\n",
            "4\n",
            "5\n"
          ]
        }
      ]
    },
    {
      "cell_type": "markdown",
      "source": [
        "### **Nested loops**"
      ],
      "metadata": {
        "id": "rEg1OcRtxT5-"
      }
    },
    {
      "cell_type": "code",
      "source": [
        "rows=int(input())\n",
        "for i in range (1,rows+1):\n",
        "    for j in range(0,i):#need to print the number of stars = to the index at which it reached after iteration (i)\n",
        "        print(\"*\",end=\"\")\n",
        "    print(\"\")"
      ],
      "metadata": {
        "colab": {
          "base_uri": "https://localhost:8080/"
        },
        "id": "WOKSssgxxB9w",
        "outputId": "d4e48145-3f05-4f70-bea5-181b525d90e6"
      },
      "execution_count": null,
      "outputs": [
        {
          "output_type": "stream",
          "name": "stdout",
          "text": [
            "5\n",
            "*\n",
            "**\n",
            "***\n",
            "****\n",
            "*****\n"
          ]
        }
      ]
    },
    {
      "cell_type": "markdown",
      "source": [
        "# **break,continue,passing statement**"
      ],
      "metadata": {
        "id": "MP-G-Z4azhkP"
      }
    },
    {
      "cell_type": "code",
      "source": [
        "for i in range(1,11):#break will not go further if the break condition arrives\n",
        "    if i==5:\n",
        "        break\n",
        "    print(i)\n",
        "\n"
      ],
      "metadata": {
        "colab": {
          "base_uri": "https://localhost:8080/"
        },
        "id": "lR4uy4g8yrts",
        "outputId": "5b0c8d93-b1c3-41ed-a45d-652fe903e968"
      },
      "execution_count": null,
      "outputs": [
        {
          "output_type": "stream",
          "name": "stdout",
          "text": [
            "1\n",
            "2\n",
            "3\n",
            "4\n"
          ]
        }
      ]
    },
    {
      "cell_type": "code",
      "source": [
        "for i in range(1,11):#it will skip the part where the condition is true and continue further\n",
        "    if i==5:\n",
        "        continue\n",
        "    print(i)"
      ],
      "metadata": {
        "colab": {
          "base_uri": "https://localhost:8080/"
        },
        "id": "_bi6srWJFYSe",
        "outputId": "d931874f-a604-4fe5-9cce-f902a61ceaec"
      },
      "execution_count": null,
      "outputs": [
        {
          "output_type": "stream",
          "name": "stdout",
          "text": [
            "1\n",
            "2\n",
            "3\n",
            "4\n",
            "6\n",
            "7\n",
            "8\n",
            "9\n",
            "10\n"
          ]
        }
      ]
    },
    {
      "cell_type": "code",
      "source": [
        "for i in range(1,11):#the if condition is skipped and does not shows error\n",
        "    if i==5:\n",
        "        pass\n",
        "    print(i)"
      ],
      "metadata": {
        "colab": {
          "base_uri": "https://localhost:8080/"
        },
        "id": "5JWucp-LGHLQ",
        "outputId": "07fa0018-0f33-4b49-c2e7-5dc53f804ecf"
      },
      "execution_count": null,
      "outputs": [
        {
          "output_type": "stream",
          "name": "stdout",
          "text": [
            "1\n",
            "2\n",
            "3\n",
            "4\n",
            "5\n",
            "6\n",
            "7\n",
            "8\n",
            "9\n",
            "10\n"
          ]
        }
      ]
    },
    {
      "cell_type": "markdown",
      "source": [
        "### **Built in functions**"
      ],
      "metadata": {
        "id": "jW_VySztG2w2"
      }
    },
    {
      "cell_type": "code",
      "source": [
        "print(2)"
      ],
      "metadata": {
        "colab": {
          "base_uri": "https://localhost:8080/"
        },
        "id": "A_3gLT3KGZIl",
        "outputId": "ecac0b21-fd1a-40c6-dbcb-7cc9b505c87d"
      },
      "execution_count": null,
      "outputs": [
        {
          "output_type": "stream",
          "name": "stdout",
          "text": [
            "2\n"
          ]
        }
      ]
    },
    {
      "cell_type": "code",
      "source": [
        "input()"
      ],
      "metadata": {
        "colab": {
          "base_uri": "https://localhost:8080/",
          "height": 53
        },
        "id": "Mvi8cB4BHU40",
        "outputId": "df8051c5-6474-44ad-c3a0-bc504d84a710"
      },
      "execution_count": null,
      "outputs": [
        {
          "name": "stdout",
          "output_type": "stream",
          "text": [
            "q\n"
          ]
        },
        {
          "output_type": "execute_result",
          "data": {
            "text/plain": [
              "'q'"
            ],
            "application/vnd.google.colaboratory.intrinsic+json": {
              "type": "string"
            }
          },
          "metadata": {},
          "execution_count": 13
        }
      ]
    },
    {
      "cell_type": "code",
      "source": [
        "type(5.0)"
      ],
      "metadata": {
        "colab": {
          "base_uri": "https://localhost:8080/"
        },
        "id": "XA69IbDSHszu",
        "outputId": "5719527a-5c6c-46c4-b37e-1a689c28eb42"
      },
      "execution_count": null,
      "outputs": [
        {
          "output_type": "execute_result",
          "data": {
            "text/plain": [
              "float"
            ]
          },
          "metadata": {},
          "execution_count": 17
        }
      ]
    },
    {
      "cell_type": "code",
      "source": [
        "int('5')#any datatype to int in this condition"
      ],
      "metadata": {
        "colab": {
          "base_uri": "https://localhost:8080/"
        },
        "id": "eh5INjLRHy9P",
        "outputId": "cb1d9a8a-592d-41ab-a25a-a80190f5c9fa"
      },
      "execution_count": null,
      "outputs": [
        {
          "output_type": "execute_result",
          "data": {
            "text/plain": [
              "5"
            ]
          },
          "metadata": {},
          "execution_count": 18
        }
      ]
    },
    {
      "cell_type": "code",
      "source": [
        "#absolute function(modulus function)\n",
        "abs(-4.5)"
      ],
      "metadata": {
        "colab": {
          "base_uri": "https://localhost:8080/"
        },
        "id": "OuVJPQnGH8gm",
        "outputId": "d9574668-675a-4483-c17b-6f6be034bdcb"
      },
      "execution_count": null,
      "outputs": [
        {
          "output_type": "execute_result",
          "data": {
            "text/plain": [
              "4.5"
            ]
          },
          "metadata": {},
          "execution_count": 20
        }
      ]
    },
    {
      "cell_type": "code",
      "source": [
        "#power\n",
        "pow(2,-3)"
      ],
      "metadata": {
        "colab": {
          "base_uri": "https://localhost:8080/"
        },
        "id": "c8Gi-tQZIJRm",
        "outputId": "c3e2dddd-9e03-478a-a016-05f0554cd860"
      },
      "execution_count": null,
      "outputs": [
        {
          "output_type": "execute_result",
          "data": {
            "text/plain": [
              "0.125"
            ]
          },
          "metadata": {},
          "execution_count": 21
        }
      ]
    },
    {
      "cell_type": "code",
      "source": [
        "#min/max for alphabets it uses asci value\n",
        "min(1,2,3,4)"
      ],
      "metadata": {
        "colab": {
          "base_uri": "https://localhost:8080/"
        },
        "id": "tVw0h5u-IP5t",
        "outputId": "73dd283e-409f-40d5-c439-181eb5a62386"
      },
      "execution_count": null,
      "outputs": [
        {
          "output_type": "execute_result",
          "data": {
            "text/plain": [
              "1"
            ]
          },
          "metadata": {},
          "execution_count": 22
        }
      ]
    },
    {
      "cell_type": "code",
      "source": [
        "max([1,2,3,4])"
      ],
      "metadata": {
        "colab": {
          "base_uri": "https://localhost:8080/"
        },
        "id": "D2b0AkliIU-A",
        "outputId": "fcb952bd-b6c5-480e-9ca0-07c59ff84fec"
      },
      "execution_count": null,
      "outputs": [
        {
          "output_type": "execute_result",
          "data": {
            "text/plain": [
              "4"
            ]
          },
          "metadata": {},
          "execution_count": 24
        }
      ]
    },
    {
      "cell_type": "code",
      "source": [
        "#round\n",
        "round(22/7)"
      ],
      "metadata": {
        "colab": {
          "base_uri": "https://localhost:8080/"
        },
        "id": "6uOuEb5fIW1V",
        "outputId": "c4cb0e48-082f-4105-eb2c-d244f1fa9654"
      },
      "execution_count": null,
      "outputs": [
        {
          "output_type": "execute_result",
          "data": {
            "text/plain": [
              "3"
            ]
          },
          "metadata": {},
          "execution_count": 25
        }
      ]
    },
    {
      "cell_type": "code",
      "source": [
        "#divmod#first=result of integer division,sec=modulus result\n",
        "divmod(5,2)\n"
      ],
      "metadata": {
        "colab": {
          "base_uri": "https://localhost:8080/"
        },
        "id": "ne_NWYnyIkCB",
        "outputId": "1e14499f-bade-46eb-ae90-7f425d0e9c41"
      },
      "execution_count": null,
      "outputs": [
        {
          "output_type": "execute_result",
          "data": {
            "text/plain": [
              "(2, 1)"
            ]
          },
          "metadata": {},
          "execution_count": 26
        }
      ]
    },
    {
      "cell_type": "code",
      "source": [
        "#bin/oct/hex\n",
        "bin(4)\n"
      ],
      "metadata": {
        "colab": {
          "base_uri": "https://localhost:8080/",
          "height": 35
        },
        "id": "1hlrUGVjI41H",
        "outputId": "bb70d308-3ddf-48cc-f1fc-5a580e72af6b"
      },
      "execution_count": null,
      "outputs": [
        {
          "output_type": "execute_result",
          "data": {
            "text/plain": [
              "'0b100'"
            ],
            "application/vnd.google.colaboratory.intrinsic+json": {
              "type": "string"
            }
          },
          "metadata": {},
          "execution_count": 27
        }
      ]
    },
    {
      "cell_type": "code",
      "source": [
        "oct(4)"
      ],
      "metadata": {
        "colab": {
          "base_uri": "https://localhost:8080/",
          "height": 35
        },
        "id": "PjAMVUNCJEFt",
        "outputId": "a89ee63c-eafe-447e-9ea5-c63b1f054ddb"
      },
      "execution_count": null,
      "outputs": [
        {
          "output_type": "execute_result",
          "data": {
            "text/plain": [
              "'0o4'"
            ],
            "application/vnd.google.colaboratory.intrinsic+json": {
              "type": "string"
            }
          },
          "metadata": {},
          "execution_count": 28
        }
      ]
    },
    {
      "cell_type": "code",
      "source": [
        "hex(4)"
      ],
      "metadata": {
        "colab": {
          "base_uri": "https://localhost:8080/",
          "height": 35
        },
        "id": "nYKrbzphJFL0",
        "outputId": "fa4869a3-ea88-4700-f556-f9acd3617a6e"
      },
      "execution_count": null,
      "outputs": [
        {
          "output_type": "execute_result",
          "data": {
            "text/plain": [
              "'0x4'"
            ],
            "application/vnd.google.colaboratory.intrinsic+json": {
              "type": "string"
            }
          },
          "metadata": {},
          "execution_count": 29
        }
      ]
    },
    {
      "cell_type": "code",
      "source": [
        "#id -to konw the address of variable in memory\n",
        "a=3\n",
        "id(a)"
      ],
      "metadata": {
        "colab": {
          "base_uri": "https://localhost:8080/"
        },
        "id": "Wz20iBjEJGXk",
        "outputId": "bc1f656d-a4b6-4e3e-cbc4-c92330b0c877"
      },
      "execution_count": null,
      "outputs": [
        {
          "output_type": "execute_result",
          "data": {
            "text/plain": [
              "137596185002288"
            ]
          },
          "metadata": {},
          "execution_count": 30
        }
      ]
    },
    {
      "cell_type": "code",
      "source": [
        "#ord =to get the asci code of a character\n",
        "ord('A')\n",
        "\n"
      ],
      "metadata": {
        "colab": {
          "base_uri": "https://localhost:8080/"
        },
        "id": "O0l70-hHJTC2",
        "outputId": "085a2617-b5ad-4b65-c735-c56bbb64e160"
      },
      "execution_count": null,
      "outputs": [
        {
          "output_type": "execute_result",
          "data": {
            "text/plain": [
              "65"
            ]
          },
          "metadata": {},
          "execution_count": 31
        }
      ]
    },
    {
      "cell_type": "code",
      "source": [
        "#len\n",
        "a=\"kolakata\"\n",
        "len(a)"
      ],
      "metadata": {
        "colab": {
          "base_uri": "https://localhost:8080/"
        },
        "id": "qd7_FRmzJhL9",
        "outputId": "e4899027-a430-494e-b92f-27e5848047f7"
      },
      "execution_count": null,
      "outputs": [
        {
          "output_type": "execute_result",
          "data": {
            "text/plain": [
              "8"
            ]
          },
          "metadata": {},
          "execution_count": 32
        }
      ]
    },
    {
      "cell_type": "code",
      "source": [
        "#sum\n",
        "num=sum({1,2,3,4,5})\n",
        "print(num)\n"
      ],
      "metadata": {
        "id": "pm5KgVYoJnob"
      },
      "execution_count": null,
      "outputs": []
    },
    {
      "cell_type": "code",
      "source": [
        "#help=to read the documentation of any function\n",
        "help('print')"
      ],
      "metadata": {
        "colab": {
          "base_uri": "https://localhost:8080/"
        },
        "id": "7dN9kFs8JqqG",
        "outputId": "6104fe31-2c5d-4caf-94bf-7cea4ed4a121"
      },
      "execution_count": null,
      "outputs": [
        {
          "output_type": "stream",
          "name": "stdout",
          "text": [
            "Help on built-in function print in module builtins:\n",
            "\n",
            "print(...)\n",
            "    print(value, ..., sep=' ', end='\\n', file=sys.stdout, flush=False)\n",
            "    \n",
            "    Prints the values to a stream, or to sys.stdout by default.\n",
            "    Optional keyword arguments:\n",
            "    file:  a file-like object (stream); defaults to the current sys.stdout.\n",
            "    sep:   string inserted between values, default a space.\n",
            "    end:   string appended after the last value, default a newline.\n",
            "    flush: whether to forcibly flush the stream.\n",
            "\n"
          ]
        }
      ]
    },
    {
      "cell_type": "markdown",
      "source": [
        "### **builtin modules**\n",
        "python file(library)\n"
      ],
      "metadata": {
        "id": "qhALSlqHKVOE"
      }
    },
    {
      "cell_type": "code",
      "source": [
        "help('modules')#to see all the pyython modules"
      ],
      "metadata": {
        "id": "5N_XGe4aKO1q"
      },
      "execution_count": null,
      "outputs": []
    },
    {
      "cell_type": "code",
      "source": [
        "import math"
      ],
      "metadata": {
        "id": "Uw1oquSWLFw2"
      },
      "execution_count": null,
      "outputs": []
    },
    {
      "cell_type": "code",
      "source": [
        "math.floor(6.7)"
      ],
      "metadata": {
        "colab": {
          "base_uri": "https://localhost:8080/"
        },
        "id": "-pD7TNLnLXOq",
        "outputId": "be249235-c079-48f5-950b-66175b2dfd7c"
      },
      "execution_count": null,
      "outputs": [
        {
          "output_type": "execute_result",
          "data": {
            "text/plain": [
              "6"
            ]
          },
          "metadata": {},
          "execution_count": 43
        }
      ]
    },
    {
      "cell_type": "code",
      "source": [
        "math.pi"
      ],
      "metadata": {
        "colab": {
          "base_uri": "https://localhost:8080/"
        },
        "id": "2C3b1oJ_LhC5",
        "outputId": "cc2095f3-84ad-4ecf-d07f-10b8dc8c0de4"
      },
      "execution_count": null,
      "outputs": [
        {
          "output_type": "execute_result",
          "data": {
            "text/plain": [
              "3.141592653589793"
            ]
          },
          "metadata": {},
          "execution_count": 44
        }
      ]
    },
    {
      "cell_type": "code",
      "source": [
        "math.factorial(3)"
      ],
      "metadata": {
        "colab": {
          "base_uri": "https://localhost:8080/"
        },
        "id": "qCsWkD1hLixV",
        "outputId": "3e647290-ac8f-42a0-d1c1-400730d1686e"
      },
      "execution_count": null,
      "outputs": [
        {
          "output_type": "execute_result",
          "data": {
            "text/plain": [
              "6"
            ]
          },
          "metadata": {},
          "execution_count": 45
        }
      ]
    },
    {
      "cell_type": "code",
      "source": [
        "#factorial\n",
        "i=int(input())\n",
        "fact=1\n",
        "for j in range(1,i+1):\n",
        "    fact=fact*i\n",
        "    i=i-1\n",
        "print(fact)\n",
        "\n"
      ],
      "metadata": {
        "colab": {
          "base_uri": "https://localhost:8080/"
        },
        "id": "9qyBakFCLmGO",
        "outputId": "6c1497bb-93c3-4ea2-b142-d66d6fdcf3b0"
      },
      "execution_count": null,
      "outputs": [
        {
          "output_type": "stream",
          "name": "stdout",
          "text": [
            "3\n",
            "6\n"
          ]
        }
      ]
    },
    {
      "cell_type": "code",
      "source": [
        "math.ceil(2.3)"
      ],
      "metadata": {
        "colab": {
          "base_uri": "https://localhost:8080/"
        },
        "id": "wqLC-1Q4MMVA",
        "outputId": "acf023bf-f92d-4e84-c938-116826248c46"
      },
      "execution_count": null,
      "outputs": [
        {
          "output_type": "execute_result",
          "data": {
            "text/plain": [
              "3"
            ]
          },
          "metadata": {},
          "execution_count": 51
        }
      ]
    },
    {
      "cell_type": "code",
      "source": [
        "import  random"
      ],
      "metadata": {
        "id": "E0uE8Iu2Mh-i"
      },
      "execution_count": null,
      "outputs": []
    },
    {
      "cell_type": "code",
      "source": [
        "random.randint(1,50)"
      ],
      "metadata": {
        "colab": {
          "base_uri": "https://localhost:8080/"
        },
        "id": "s607uz5cMwaK",
        "outputId": "4c695b61-3246-4f5a-cd32-f8b863899fea"
      },
      "execution_count": null,
      "outputs": [
        {
          "output_type": "execute_result",
          "data": {
            "text/plain": [
              "15"
            ]
          },
          "metadata": {},
          "execution_count": 53
        }
      ]
    },
    {
      "cell_type": "code",
      "source": [
        "random.choices(['a','b'],k=3)"
      ],
      "metadata": {
        "colab": {
          "base_uri": "https://localhost:8080/"
        },
        "id": "amaK6ZjBM0tX",
        "outputId": "706a64d3-ff13-4449-9cd5-1486bf1a75d8"
      },
      "execution_count": null,
      "outputs": [
        {
          "output_type": "execute_result",
          "data": {
            "text/plain": [
              "['b', 'a', 'a']"
            ]
          },
          "metadata": {},
          "execution_count": 54
        }
      ]
    },
    {
      "cell_type": "code",
      "source": [
        "import time\n"
      ],
      "metadata": {
        "id": "Snsvwi_XM93A"
      },
      "execution_count": null,
      "outputs": []
    },
    {
      "cell_type": "code",
      "source": [
        "time.time()"
      ],
      "metadata": {
        "colab": {
          "base_uri": "https://localhost:8080/"
        },
        "id": "KE4gVuvVNDaJ",
        "outputId": "2d7de007-0428-4e19-8f5c-45a9ece7cecb"
      },
      "execution_count": null,
      "outputs": [
        {
          "output_type": "execute_result",
          "data": {
            "text/plain": [
              "1734599790.5731168"
            ]
          },
          "metadata": {},
          "execution_count": 56
        }
      ]
    },
    {
      "cell_type": "code",
      "source": [
        "time.daylight"
      ],
      "metadata": {
        "colab": {
          "base_uri": "https://localhost:8080/"
        },
        "id": "pjFUgsaUNE1Q",
        "outputId": "9160012b-0f56-4b53-d90c-227f38430aaa"
      },
      "execution_count": null,
      "outputs": [
        {
          "output_type": "execute_result",
          "data": {
            "text/plain": [
              "0"
            ]
          },
          "metadata": {},
          "execution_count": 59
        }
      ]
    },
    {
      "cell_type": "code",
      "source": [
        "print(\"hello\")#prints world after 2 sec\n",
        "time.sleep(2)\n",
        "print(\"World\")"
      ],
      "metadata": {
        "colab": {
          "base_uri": "https://localhost:8080/"
        },
        "id": "tH7Hl-koNPZ2",
        "outputId": "43edb399-4d10-4212-f6ec-a3978fcf76f9"
      },
      "execution_count": null,
      "outputs": [
        {
          "output_type": "stream",
          "name": "stdout",
          "text": [
            "hello\n",
            "World\n"
          ]
        }
      ]
    },
    {
      "cell_type": "code",
      "source": [
        "import os"
      ],
      "metadata": {
        "id": "_O3D0C4qNdDE"
      },
      "execution_count": null,
      "outputs": []
    },
    {
      "cell_type": "code",
      "source": [
        "os.getcwd()"
      ],
      "metadata": {
        "colab": {
          "base_uri": "https://localhost:8080/",
          "height": 35
        },
        "id": "atRdWXh6Ni_l",
        "outputId": "bb1a750e-f0d8-4782-cd4b-292b45a42fbb"
      },
      "execution_count": null,
      "outputs": [
        {
          "output_type": "execute_result",
          "data": {
            "text/plain": [
              "'/content'"
            ],
            "application/vnd.google.colaboratory.intrinsic+json": {
              "type": "string"
            }
          },
          "metadata": {},
          "execution_count": 62
        }
      ]
    },
    {
      "cell_type": "code",
      "source": [
        "os.listdir()"
      ],
      "metadata": {
        "colab": {
          "base_uri": "https://localhost:8080/"
        },
        "id": "gZOa1RroNosp",
        "outputId": "98cd28f4-55f0-44c5-b3e9-a1e87e6ca718"
      },
      "execution_count": null,
      "outputs": [
        {
          "output_type": "execute_result",
          "data": {
            "text/plain": [
              "['.config', 'sample_data']"
            ]
          },
          "metadata": {},
          "execution_count": 63
        }
      ]
    },
    {
      "cell_type": "markdown",
      "source": [
        "### **string in python**\n",
        "\n",
        "in pyhton strings are a sequence of unicode characters\n",
        "\n",
        "creating,accessing,adding chars to string,editing,deleting,operatons,string"
      ],
      "metadata": {
        "id": "T4qaS4IgcTek"
      }
    },
    {
      "cell_type": "code",
      "source": [
        "#creating stringd\n",
        "if __name__ == '__main__':\n",
        "    students=[]\n",
        "    for _ in range(int(input())):\n",
        "        name = input()\n",
        "        score = float(input())\n",
        "        students.append([name,score])\n",
        "\n",
        "        uscore=sorted(set([score for name,score in students]))\n",
        "\n",
        "        second_low=uscore[1]\n",
        "\n",
        "\n",
        "        secod_low_name=[name for name,score in students if score==second_low]\n",
        "\n",
        "        secod_low_name.sort()\n",
        "\n",
        "        for name in secod_low_name:\n",
        "            print(name)"
      ],
      "metadata": {
        "id": "_W9PlJcgXR7S"
      },
      "execution_count": null,
      "outputs": []
    },
    {
      "cell_type": "markdown",
      "source": [
        "Accessing substrings from a string"
      ],
      "metadata": {
        "id": "Kje1UY9NhVeu"
      }
    },
    {
      "cell_type": "code",
      "source": [
        "#Types pf indexing\n",
        "#positive indexing==assume that first starts from0\n",
        "#negative indexing==assume the first starts from -1 and goes back"
      ],
      "metadata": {
        "id": "bXjtdQd_gnzV"
      },
      "execution_count": null,
      "outputs": []
    }
  ]
}